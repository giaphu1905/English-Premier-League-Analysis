{
 "cells": [
  {
   "cell_type": "code",
   "execution_count": 28,
   "metadata": {},
   "outputs": [],
   "source": [
    "import pandas as pd\n",
    "import seaborn as sns\n",
    "import matplotlib.pyplot as plt\n",
    "import numpy as np\n",
    "\n",
    "from plotly import tools\n",
    "import plotly.figure_factory as ff\n",
    "import plotly.express as px\n",
    "import plotly.graph_objects as go\n",
    "\n",
    "import warnings\n",
    "warnings.filterwarnings('ignore')"
   ]
  },
  {
   "cell_type": "code",
   "execution_count": 29,
   "metadata": {},
   "outputs": [
    {
     "data": {
      "text/html": [
       "<div>\n",
       "<style scoped>\n",
       "    .dataframe tbody tr th:only-of-type {\n",
       "        vertical-align: middle;\n",
       "    }\n",
       "\n",
       "    .dataframe tbody tr th {\n",
       "        vertical-align: top;\n",
       "    }\n",
       "\n",
       "    .dataframe thead th {\n",
       "        text-align: right;\n",
       "    }\n",
       "</style>\n",
       "<table border=\"1\" class=\"dataframe\">\n",
       "  <thead>\n",
       "    <tr style=\"text-align: right;\">\n",
       "      <th></th>\n",
       "      <th>full_name</th>\n",
       "      <th>age</th>\n",
       "      <th>birthday</th>\n",
       "      <th>birthday_GMT</th>\n",
       "      <th>league</th>\n",
       "      <th>season</th>\n",
       "      <th>position</th>\n",
       "      <th>Current Club</th>\n",
       "      <th>minutes_played_overall</th>\n",
       "      <th>minutes_played_home</th>\n",
       "      <th>...</th>\n",
       "      <th>conceded_per_90_overall</th>\n",
       "      <th>min_per_conceded_overall</th>\n",
       "      <th>min_per_match</th>\n",
       "      <th>min_per_card_overall</th>\n",
       "      <th>min_per_assist_overall</th>\n",
       "      <th>cards_per_90_overall</th>\n",
       "      <th>rank_in_league_top_attackers</th>\n",
       "      <th>rank_in_league_top_midfielders</th>\n",
       "      <th>rank_in_league_top_defenders</th>\n",
       "      <th>rank_in_club_top_scorer</th>\n",
       "    </tr>\n",
       "  </thead>\n",
       "  <tbody>\n",
       "    <tr>\n",
       "      <th>0</th>\n",
       "      <td>Aaron Cresswell</td>\n",
       "      <td>32</td>\n",
       "      <td>629712000</td>\n",
       "      <td>1989/12/15</td>\n",
       "      <td>Premier League</td>\n",
       "      <td>2018/2019</td>\n",
       "      <td>Defender</td>\n",
       "      <td>West Ham United</td>\n",
       "      <td>1589</td>\n",
       "      <td>888</td>\n",
       "      <td>...</td>\n",
       "      <td>1.25</td>\n",
       "      <td>72</td>\n",
       "      <td>79</td>\n",
       "      <td>1589</td>\n",
       "      <td>1589</td>\n",
       "      <td>0.06</td>\n",
       "      <td>290</td>\n",
       "      <td>191</td>\n",
       "      <td>80</td>\n",
       "      <td>20</td>\n",
       "    </tr>\n",
       "    <tr>\n",
       "      <th>1</th>\n",
       "      <td>Aaron Lennon</td>\n",
       "      <td>35</td>\n",
       "      <td>545554800</td>\n",
       "      <td>1987/04/16</td>\n",
       "      <td>Premier League</td>\n",
       "      <td>2018/2019</td>\n",
       "      <td>Midfielder</td>\n",
       "      <td>Burnley</td>\n",
       "      <td>1217</td>\n",
       "      <td>487</td>\n",
       "      <td>...</td>\n",
       "      <td>1.48</td>\n",
       "      <td>61</td>\n",
       "      <td>76</td>\n",
       "      <td>1217</td>\n",
       "      <td>1217</td>\n",
       "      <td>0.07</td>\n",
       "      <td>196</td>\n",
       "      <td>187</td>\n",
       "      <td>-1</td>\n",
       "      <td>10</td>\n",
       "    </tr>\n",
       "    <tr>\n",
       "      <th>2</th>\n",
       "      <td>Aaron Mooy</td>\n",
       "      <td>31</td>\n",
       "      <td>653382000</td>\n",
       "      <td>1990/09/15</td>\n",
       "      <td>Premier League</td>\n",
       "      <td>2018/2019</td>\n",
       "      <td>Midfielder</td>\n",
       "      <td>Huddersfield Town</td>\n",
       "      <td>2327</td>\n",
       "      <td>1190</td>\n",
       "      <td>...</td>\n",
       "      <td>1.78</td>\n",
       "      <td>51</td>\n",
       "      <td>80</td>\n",
       "      <td>582</td>\n",
       "      <td>2327</td>\n",
       "      <td>0.15</td>\n",
       "      <td>144</td>\n",
       "      <td>233</td>\n",
       "      <td>-1</td>\n",
       "      <td>3</td>\n",
       "    </tr>\n",
       "    <tr>\n",
       "      <th>3</th>\n",
       "      <td>Aaron Ramsey</td>\n",
       "      <td>31</td>\n",
       "      <td>662198400</td>\n",
       "      <td>1990/12/26</td>\n",
       "      <td>Premier League</td>\n",
       "      <td>2018/2019</td>\n",
       "      <td>Midfielder</td>\n",
       "      <td>Arsenal</td>\n",
       "      <td>1327</td>\n",
       "      <td>689</td>\n",
       "      <td>...</td>\n",
       "      <td>0.81</td>\n",
       "      <td>111</td>\n",
       "      <td>47</td>\n",
       "      <td>0</td>\n",
       "      <td>221</td>\n",
       "      <td>0.00</td>\n",
       "      <td>69</td>\n",
       "      <td>8</td>\n",
       "      <td>-1</td>\n",
       "      <td>5</td>\n",
       "    </tr>\n",
       "    <tr>\n",
       "      <th>4</th>\n",
       "      <td>Aaron Rowe</td>\n",
       "      <td>22</td>\n",
       "      <td>968310000</td>\n",
       "      <td>2000/09/07</td>\n",
       "      <td>Premier League</td>\n",
       "      <td>2018/2019</td>\n",
       "      <td>Forward</td>\n",
       "      <td>Huddersfield Town</td>\n",
       "      <td>69</td>\n",
       "      <td>14</td>\n",
       "      <td>...</td>\n",
       "      <td>1.30</td>\n",
       "      <td>69</td>\n",
       "      <td>35</td>\n",
       "      <td>0</td>\n",
       "      <td>0</td>\n",
       "      <td>0.00</td>\n",
       "      <td>-1</td>\n",
       "      <td>-1</td>\n",
       "      <td>-1</td>\n",
       "      <td>31</td>\n",
       "    </tr>\n",
       "  </tbody>\n",
       "</table>\n",
       "<p>5 rows × 47 columns</p>\n",
       "</div>"
      ],
      "text/plain": [
       "         full_name  age   birthday birthday_GMT          league     season  \\\n",
       "0  Aaron Cresswell   32  629712000   1989/12/15  Premier League  2018/2019   \n",
       "1     Aaron Lennon   35  545554800   1987/04/16  Premier League  2018/2019   \n",
       "2       Aaron Mooy   31  653382000   1990/09/15  Premier League  2018/2019   \n",
       "3     Aaron Ramsey   31  662198400   1990/12/26  Premier League  2018/2019   \n",
       "4       Aaron Rowe   22  968310000   2000/09/07  Premier League  2018/2019   \n",
       "\n",
       "     position       Current Club  minutes_played_overall  minutes_played_home  \\\n",
       "0    Defender    West Ham United                    1589                  888   \n",
       "1  Midfielder            Burnley                    1217                  487   \n",
       "2  Midfielder  Huddersfield Town                    2327                 1190   \n",
       "3  Midfielder            Arsenal                    1327                  689   \n",
       "4     Forward  Huddersfield Town                      69                   14   \n",
       "\n",
       "   ...  conceded_per_90_overall min_per_conceded_overall  min_per_match  \\\n",
       "0  ...                     1.25                       72             79   \n",
       "1  ...                     1.48                       61             76   \n",
       "2  ...                     1.78                       51             80   \n",
       "3  ...                     0.81                      111             47   \n",
       "4  ...                     1.30                       69             35   \n",
       "\n",
       "   min_per_card_overall  min_per_assist_overall  cards_per_90_overall  \\\n",
       "0                  1589                    1589                  0.06   \n",
       "1                  1217                    1217                  0.07   \n",
       "2                   582                    2327                  0.15   \n",
       "3                     0                     221                  0.00   \n",
       "4                     0                       0                  0.00   \n",
       "\n",
       "   rank_in_league_top_attackers  rank_in_league_top_midfielders  \\\n",
       "0                           290                             191   \n",
       "1                           196                             187   \n",
       "2                           144                             233   \n",
       "3                            69                               8   \n",
       "4                            -1                              -1   \n",
       "\n",
       "   rank_in_league_top_defenders  rank_in_club_top_scorer  \n",
       "0                            80                       20  \n",
       "1                            -1                       10  \n",
       "2                            -1                        3  \n",
       "3                            -1                        5  \n",
       "4                            -1                       31  \n",
       "\n",
       "[5 rows x 47 columns]"
      ]
     },
     "execution_count": 29,
     "metadata": {},
     "output_type": "execute_result"
    }
   ],
   "source": [
    "df_player = pd.read_csv('data/players.csv')\n",
    "df_player.head()"
   ]
  },
  {
   "cell_type": "code",
   "execution_count": 30,
   "metadata": {},
   "outputs": [
    {
     "data": {
      "text/plain": [
       "Index(['full_name', 'age', 'birthday', 'birthday_GMT', 'league', 'season',\n",
       "       'position', 'Current Club', 'minutes_played_overall',\n",
       "       'minutes_played_home', 'minutes_played_away', 'nationality',\n",
       "       'appearances_overall', 'appearances_home', 'appearances_away',\n",
       "       'goals_overall', 'goals_home', 'goals_away', 'assists_overall',\n",
       "       'assists_home', 'assists_away', 'penalty_goals', 'penalty_misses',\n",
       "       'clean_sheets_overall', 'clean_sheets_home', 'clean_sheets_away',\n",
       "       'conceded_overall', 'conceded_home', 'conceded_away',\n",
       "       'yellow_cards_overall', 'red_cards_overall',\n",
       "       'goals_involved_per_90_overall', 'assists_per_90_overall',\n",
       "       'goals_per_90_overall', 'goals_per_90_home', 'goals_per_90_away',\n",
       "       'min_per_goal_overall', 'conceded_per_90_overall',\n",
       "       'min_per_conceded_overall', 'min_per_match', 'min_per_card_overall',\n",
       "       'min_per_assist_overall', 'cards_per_90_overall',\n",
       "       'rank_in_league_top_attackers', 'rank_in_league_top_midfielders',\n",
       "       'rank_in_league_top_defenders', 'rank_in_club_top_scorer'],\n",
       "      dtype='object')"
      ]
     },
     "execution_count": 30,
     "metadata": {},
     "output_type": "execute_result"
    }
   ],
   "source": [
    "df_player.columns"
   ]
  },
  {
   "cell_type": "code",
   "execution_count": 31,
   "metadata": {},
   "outputs": [
    {
     "data": {
      "text/html": [
       "<div>\n",
       "<style scoped>\n",
       "    .dataframe tbody tr th:only-of-type {\n",
       "        vertical-align: middle;\n",
       "    }\n",
       "\n",
       "    .dataframe tbody tr th {\n",
       "        vertical-align: top;\n",
       "    }\n",
       "\n",
       "    .dataframe thead th {\n",
       "        text-align: right;\n",
       "    }\n",
       "</style>\n",
       "<table border=\"1\" class=\"dataframe\">\n",
       "  <thead>\n",
       "    <tr style=\"text-align: right;\">\n",
       "      <th></th>\n",
       "      <th>full_name</th>\n",
       "      <th>age</th>\n",
       "      <th>position</th>\n",
       "      <th>Current Club</th>\n",
       "      <th>minutes_played_overall</th>\n",
       "      <th>minutes_played_home</th>\n",
       "      <th>minutes_played_away</th>\n",
       "      <th>nationality</th>\n",
       "      <th>appearances_overall</th>\n",
       "      <th>appearances_home</th>\n",
       "      <th>...</th>\n",
       "      <th>conceded_per_90_overall</th>\n",
       "      <th>min_per_conceded_overall</th>\n",
       "      <th>min_per_match</th>\n",
       "      <th>min_per_card_overall</th>\n",
       "      <th>min_per_assist_overall</th>\n",
       "      <th>cards_per_90_overall</th>\n",
       "      <th>rank_in_league_top_attackers</th>\n",
       "      <th>rank_in_league_top_midfielders</th>\n",
       "      <th>rank_in_league_top_defenders</th>\n",
       "      <th>rank_in_club_top_scorer</th>\n",
       "    </tr>\n",
       "  </thead>\n",
       "  <tbody>\n",
       "    <tr>\n",
       "      <th>0</th>\n",
       "      <td>Aaron Cresswell</td>\n",
       "      <td>32</td>\n",
       "      <td>Defender</td>\n",
       "      <td>West Ham United</td>\n",
       "      <td>1589</td>\n",
       "      <td>888</td>\n",
       "      <td>701</td>\n",
       "      <td>England</td>\n",
       "      <td>20</td>\n",
       "      <td>11</td>\n",
       "      <td>...</td>\n",
       "      <td>1.25</td>\n",
       "      <td>72</td>\n",
       "      <td>79</td>\n",
       "      <td>1589</td>\n",
       "      <td>1589</td>\n",
       "      <td>0.06</td>\n",
       "      <td>290</td>\n",
       "      <td>191</td>\n",
       "      <td>80</td>\n",
       "      <td>20</td>\n",
       "    </tr>\n",
       "    <tr>\n",
       "      <th>1</th>\n",
       "      <td>Aaron Lennon</td>\n",
       "      <td>35</td>\n",
       "      <td>Midfielder</td>\n",
       "      <td>Burnley</td>\n",
       "      <td>1217</td>\n",
       "      <td>487</td>\n",
       "      <td>730</td>\n",
       "      <td>England</td>\n",
       "      <td>16</td>\n",
       "      <td>7</td>\n",
       "      <td>...</td>\n",
       "      <td>1.48</td>\n",
       "      <td>61</td>\n",
       "      <td>76</td>\n",
       "      <td>1217</td>\n",
       "      <td>1217</td>\n",
       "      <td>0.07</td>\n",
       "      <td>196</td>\n",
       "      <td>187</td>\n",
       "      <td>-1</td>\n",
       "      <td>10</td>\n",
       "    </tr>\n",
       "    <tr>\n",
       "      <th>2</th>\n",
       "      <td>Aaron Mooy</td>\n",
       "      <td>31</td>\n",
       "      <td>Midfielder</td>\n",
       "      <td>Huddersfield Town</td>\n",
       "      <td>2327</td>\n",
       "      <td>1190</td>\n",
       "      <td>1137</td>\n",
       "      <td>Australia</td>\n",
       "      <td>29</td>\n",
       "      <td>15</td>\n",
       "      <td>...</td>\n",
       "      <td>1.78</td>\n",
       "      <td>51</td>\n",
       "      <td>80</td>\n",
       "      <td>582</td>\n",
       "      <td>2327</td>\n",
       "      <td>0.15</td>\n",
       "      <td>144</td>\n",
       "      <td>233</td>\n",
       "      <td>-1</td>\n",
       "      <td>3</td>\n",
       "    </tr>\n",
       "    <tr>\n",
       "      <th>3</th>\n",
       "      <td>Aaron Ramsey</td>\n",
       "      <td>31</td>\n",
       "      <td>Midfielder</td>\n",
       "      <td>Arsenal</td>\n",
       "      <td>1327</td>\n",
       "      <td>689</td>\n",
       "      <td>638</td>\n",
       "      <td>Wales</td>\n",
       "      <td>28</td>\n",
       "      <td>14</td>\n",
       "      <td>...</td>\n",
       "      <td>0.81</td>\n",
       "      <td>111</td>\n",
       "      <td>47</td>\n",
       "      <td>0</td>\n",
       "      <td>221</td>\n",
       "      <td>0.00</td>\n",
       "      <td>69</td>\n",
       "      <td>8</td>\n",
       "      <td>-1</td>\n",
       "      <td>5</td>\n",
       "    </tr>\n",
       "    <tr>\n",
       "      <th>4</th>\n",
       "      <td>Aaron Rowe</td>\n",
       "      <td>22</td>\n",
       "      <td>Forward</td>\n",
       "      <td>Huddersfield Town</td>\n",
       "      <td>69</td>\n",
       "      <td>14</td>\n",
       "      <td>55</td>\n",
       "      <td>England</td>\n",
       "      <td>2</td>\n",
       "      <td>1</td>\n",
       "      <td>...</td>\n",
       "      <td>1.30</td>\n",
       "      <td>69</td>\n",
       "      <td>35</td>\n",
       "      <td>0</td>\n",
       "      <td>0</td>\n",
       "      <td>0.00</td>\n",
       "      <td>-1</td>\n",
       "      <td>-1</td>\n",
       "      <td>-1</td>\n",
       "      <td>31</td>\n",
       "    </tr>\n",
       "  </tbody>\n",
       "</table>\n",
       "<p>5 rows × 43 columns</p>\n",
       "</div>"
      ],
      "text/plain": [
       "         full_name  age    position       Current Club  \\\n",
       "0  Aaron Cresswell   32    Defender    West Ham United   \n",
       "1     Aaron Lennon   35  Midfielder            Burnley   \n",
       "2       Aaron Mooy   31  Midfielder  Huddersfield Town   \n",
       "3     Aaron Ramsey   31  Midfielder            Arsenal   \n",
       "4       Aaron Rowe   22     Forward  Huddersfield Town   \n",
       "\n",
       "   minutes_played_overall  minutes_played_home  minutes_played_away  \\\n",
       "0                    1589                  888                  701   \n",
       "1                    1217                  487                  730   \n",
       "2                    2327                 1190                 1137   \n",
       "3                    1327                  689                  638   \n",
       "4                      69                   14                   55   \n",
       "\n",
       "  nationality  appearances_overall  appearances_home  ...  \\\n",
       "0     England                   20                11  ...   \n",
       "1     England                   16                 7  ...   \n",
       "2   Australia                   29                15  ...   \n",
       "3       Wales                   28                14  ...   \n",
       "4     England                    2                 1  ...   \n",
       "\n",
       "   conceded_per_90_overall  min_per_conceded_overall  min_per_match  \\\n",
       "0                     1.25                        72             79   \n",
       "1                     1.48                        61             76   \n",
       "2                     1.78                        51             80   \n",
       "3                     0.81                       111             47   \n",
       "4                     1.30                        69             35   \n",
       "\n",
       "   min_per_card_overall  min_per_assist_overall  cards_per_90_overall  \\\n",
       "0                  1589                    1589                  0.06   \n",
       "1                  1217                    1217                  0.07   \n",
       "2                   582                    2327                  0.15   \n",
       "3                     0                     221                  0.00   \n",
       "4                     0                       0                  0.00   \n",
       "\n",
       "   rank_in_league_top_attackers  rank_in_league_top_midfielders  \\\n",
       "0                           290                             191   \n",
       "1                           196                             187   \n",
       "2                           144                             233   \n",
       "3                            69                               8   \n",
       "4                            -1                              -1   \n",
       "\n",
       "   rank_in_league_top_defenders  rank_in_club_top_scorer  \n",
       "0                            80                       20  \n",
       "1                            -1                       10  \n",
       "2                            -1                        3  \n",
       "3                            -1                        5  \n",
       "4                            -1                       31  \n",
       "\n",
       "[5 rows x 43 columns]"
      ]
     },
     "execution_count": 31,
     "metadata": {},
     "output_type": "execute_result"
    }
   ],
   "source": [
    "df_player.drop(columns=['birthday', 'birthday_GMT', 'league', 'season'], inplace=True)\n",
    "df_player.head()"
   ]
  },
  {
   "cell_type": "code",
   "execution_count": 32,
   "metadata": {},
   "outputs": [
    {
     "data": {
      "text/plain": [
       "full_name                         0\n",
       "age                               0\n",
       "position                          0\n",
       "Current Club                      0\n",
       "minutes_played_overall            0\n",
       "minutes_played_home               0\n",
       "minutes_played_away               0\n",
       "nationality                       0\n",
       "appearances_overall               0\n",
       "appearances_home                  0\n",
       "appearances_away                  0\n",
       "goals_overall                     0\n",
       "goals_home                        0\n",
       "goals_away                        0\n",
       "assists_overall                   0\n",
       "assists_home                      0\n",
       "assists_away                      0\n",
       "penalty_goals                     0\n",
       "penalty_misses                    0\n",
       "clean_sheets_overall              0\n",
       "clean_sheets_home                 0\n",
       "clean_sheets_away                 0\n",
       "conceded_overall                  0\n",
       "conceded_home                     0\n",
       "conceded_away                     0\n",
       "yellow_cards_overall              0\n",
       "red_cards_overall                 0\n",
       "goals_involved_per_90_overall     0\n",
       "assists_per_90_overall            0\n",
       "goals_per_90_overall              0\n",
       "goals_per_90_home                 0\n",
       "goals_per_90_away                 0\n",
       "min_per_goal_overall              0\n",
       "conceded_per_90_overall           0\n",
       "min_per_conceded_overall          0\n",
       "min_per_match                     0\n",
       "min_per_card_overall              0\n",
       "min_per_assist_overall            0\n",
       "cards_per_90_overall              0\n",
       "rank_in_league_top_attackers      0\n",
       "rank_in_league_top_midfielders    0\n",
       "rank_in_league_top_defenders      0\n",
       "rank_in_club_top_scorer           0\n",
       "dtype: int64"
      ]
     },
     "execution_count": 32,
     "metadata": {},
     "output_type": "execute_result"
    }
   ],
   "source": [
    "df_player.isnull().sum()"
   ]
  },
  {
   "cell_type": "code",
   "execution_count": 33,
   "metadata": {},
   "outputs": [
    {
     "data": {
      "text/html": [
       "<div>\n",
       "<style scoped>\n",
       "    .dataframe tbody tr th:only-of-type {\n",
       "        vertical-align: middle;\n",
       "    }\n",
       "\n",
       "    .dataframe tbody tr th {\n",
       "        vertical-align: top;\n",
       "    }\n",
       "\n",
       "    .dataframe thead th {\n",
       "        text-align: right;\n",
       "    }\n",
       "</style>\n",
       "<table border=\"1\" class=\"dataframe\">\n",
       "  <thead>\n",
       "    <tr style=\"text-align: right;\">\n",
       "      <th></th>\n",
       "      <th>full_name</th>\n",
       "      <th>age</th>\n",
       "      <th>position</th>\n",
       "      <th>Current Club</th>\n",
       "      <th>minutes_played_overall</th>\n",
       "      <th>minutes_played_home</th>\n",
       "      <th>minutes_played_away</th>\n",
       "      <th>nationality</th>\n",
       "      <th>appearances_overall</th>\n",
       "      <th>appearances_home</th>\n",
       "      <th>...</th>\n",
       "      <th>conceded_per_90_overall</th>\n",
       "      <th>min_per_conceded_overall</th>\n",
       "      <th>min_per_match</th>\n",
       "      <th>min_per_card_overall</th>\n",
       "      <th>min_per_assist_overall</th>\n",
       "      <th>cards_per_90_overall</th>\n",
       "      <th>rank_in_league_top_attackers</th>\n",
       "      <th>rank_in_league_top_midfielders</th>\n",
       "      <th>rank_in_league_top_defenders</th>\n",
       "      <th>rank_in_club_top_scorer</th>\n",
       "    </tr>\n",
       "  </thead>\n",
       "  <tbody>\n",
       "    <tr>\n",
       "      <th>0</th>\n",
       "      <td>Aaron Cresswell</td>\n",
       "      <td>32</td>\n",
       "      <td>Defender</td>\n",
       "      <td>West Ham United</td>\n",
       "      <td>1589</td>\n",
       "      <td>888</td>\n",
       "      <td>701</td>\n",
       "      <td>England</td>\n",
       "      <td>20</td>\n",
       "      <td>11</td>\n",
       "      <td>...</td>\n",
       "      <td>1.25</td>\n",
       "      <td>72</td>\n",
       "      <td>79</td>\n",
       "      <td>1589</td>\n",
       "      <td>1589</td>\n",
       "      <td>0.06</td>\n",
       "      <td>290</td>\n",
       "      <td>191</td>\n",
       "      <td>80</td>\n",
       "      <td>20</td>\n",
       "    </tr>\n",
       "    <tr>\n",
       "      <th>1</th>\n",
       "      <td>Aaron Lennon</td>\n",
       "      <td>35</td>\n",
       "      <td>Midfielder</td>\n",
       "      <td>Burnley</td>\n",
       "      <td>1217</td>\n",
       "      <td>487</td>\n",
       "      <td>730</td>\n",
       "      <td>England</td>\n",
       "      <td>16</td>\n",
       "      <td>7</td>\n",
       "      <td>...</td>\n",
       "      <td>1.48</td>\n",
       "      <td>61</td>\n",
       "      <td>76</td>\n",
       "      <td>1217</td>\n",
       "      <td>1217</td>\n",
       "      <td>0.07</td>\n",
       "      <td>196</td>\n",
       "      <td>187</td>\n",
       "      <td>-1</td>\n",
       "      <td>10</td>\n",
       "    </tr>\n",
       "    <tr>\n",
       "      <th>2</th>\n",
       "      <td>Aaron Mooy</td>\n",
       "      <td>31</td>\n",
       "      <td>Midfielder</td>\n",
       "      <td>Huddersfield Town</td>\n",
       "      <td>2327</td>\n",
       "      <td>1190</td>\n",
       "      <td>1137</td>\n",
       "      <td>Australia</td>\n",
       "      <td>29</td>\n",
       "      <td>15</td>\n",
       "      <td>...</td>\n",
       "      <td>1.78</td>\n",
       "      <td>51</td>\n",
       "      <td>80</td>\n",
       "      <td>582</td>\n",
       "      <td>2327</td>\n",
       "      <td>0.15</td>\n",
       "      <td>144</td>\n",
       "      <td>233</td>\n",
       "      <td>-1</td>\n",
       "      <td>3</td>\n",
       "    </tr>\n",
       "    <tr>\n",
       "      <th>3</th>\n",
       "      <td>Aaron Ramsey</td>\n",
       "      <td>31</td>\n",
       "      <td>Midfielder</td>\n",
       "      <td>Arsenal</td>\n",
       "      <td>1327</td>\n",
       "      <td>689</td>\n",
       "      <td>638</td>\n",
       "      <td>Wales</td>\n",
       "      <td>28</td>\n",
       "      <td>14</td>\n",
       "      <td>...</td>\n",
       "      <td>0.81</td>\n",
       "      <td>111</td>\n",
       "      <td>47</td>\n",
       "      <td>0</td>\n",
       "      <td>221</td>\n",
       "      <td>0.00</td>\n",
       "      <td>69</td>\n",
       "      <td>8</td>\n",
       "      <td>-1</td>\n",
       "      <td>5</td>\n",
       "    </tr>\n",
       "    <tr>\n",
       "      <th>4</th>\n",
       "      <td>Aaron Rowe</td>\n",
       "      <td>22</td>\n",
       "      <td>Forward</td>\n",
       "      <td>Huddersfield Town</td>\n",
       "      <td>69</td>\n",
       "      <td>14</td>\n",
       "      <td>55</td>\n",
       "      <td>England</td>\n",
       "      <td>2</td>\n",
       "      <td>1</td>\n",
       "      <td>...</td>\n",
       "      <td>1.30</td>\n",
       "      <td>69</td>\n",
       "      <td>35</td>\n",
       "      <td>0</td>\n",
       "      <td>0</td>\n",
       "      <td>0.00</td>\n",
       "      <td>-1</td>\n",
       "      <td>-1</td>\n",
       "      <td>-1</td>\n",
       "      <td>31</td>\n",
       "    </tr>\n",
       "  </tbody>\n",
       "</table>\n",
       "<p>5 rows × 43 columns</p>\n",
       "</div>"
      ],
      "text/plain": [
       "         full_name  age    position       Current Club  \\\n",
       "0  Aaron Cresswell   32    Defender    West Ham United   \n",
       "1     Aaron Lennon   35  Midfielder            Burnley   \n",
       "2       Aaron Mooy   31  Midfielder  Huddersfield Town   \n",
       "3     Aaron Ramsey   31  Midfielder            Arsenal   \n",
       "4       Aaron Rowe   22     Forward  Huddersfield Town   \n",
       "\n",
       "   minutes_played_overall  minutes_played_home  minutes_played_away  \\\n",
       "0                    1589                  888                  701   \n",
       "1                    1217                  487                  730   \n",
       "2                    2327                 1190                 1137   \n",
       "3                    1327                  689                  638   \n",
       "4                      69                   14                   55   \n",
       "\n",
       "  nationality  appearances_overall  appearances_home  ...  \\\n",
       "0     England                   20                11  ...   \n",
       "1     England                   16                 7  ...   \n",
       "2   Australia                   29                15  ...   \n",
       "3       Wales                   28                14  ...   \n",
       "4     England                    2                 1  ...   \n",
       "\n",
       "   conceded_per_90_overall  min_per_conceded_overall  min_per_match  \\\n",
       "0                     1.25                        72             79   \n",
       "1                     1.48                        61             76   \n",
       "2                     1.78                        51             80   \n",
       "3                     0.81                       111             47   \n",
       "4                     1.30                        69             35   \n",
       "\n",
       "   min_per_card_overall  min_per_assist_overall  cards_per_90_overall  \\\n",
       "0                  1589                    1589                  0.06   \n",
       "1                  1217                    1217                  0.07   \n",
       "2                   582                    2327                  0.15   \n",
       "3                     0                     221                  0.00   \n",
       "4                     0                       0                  0.00   \n",
       "\n",
       "   rank_in_league_top_attackers  rank_in_league_top_midfielders  \\\n",
       "0                           290                             191   \n",
       "1                           196                             187   \n",
       "2                           144                             233   \n",
       "3                            69                               8   \n",
       "4                            -1                              -1   \n",
       "\n",
       "   rank_in_league_top_defenders  rank_in_club_top_scorer  \n",
       "0                            80                       20  \n",
       "1                            -1                       10  \n",
       "2                            -1                        3  \n",
       "3                            -1                        5  \n",
       "4                            -1                       31  \n",
       "\n",
       "[5 rows x 43 columns]"
      ]
     },
     "execution_count": 33,
     "metadata": {},
     "output_type": "execute_result"
    }
   ],
   "source": [
    "player_appeared = df_player[df_player['appearances_overall'] > 0]\n",
    "player_appeared.head()"
   ]
  },
  {
   "cell_type": "code",
   "execution_count": 34,
   "metadata": {},
   "outputs": [
    {
     "data": {
      "text/html": [
       "<div>\n",
       "<style scoped>\n",
       "    .dataframe tbody tr th:only-of-type {\n",
       "        vertical-align: middle;\n",
       "    }\n",
       "\n",
       "    .dataframe tbody tr th {\n",
       "        vertical-align: top;\n",
       "    }\n",
       "\n",
       "    .dataframe thead th {\n",
       "        text-align: right;\n",
       "    }\n",
       "</style>\n",
       "<table border=\"1\" class=\"dataframe\">\n",
       "  <thead>\n",
       "    <tr style=\"text-align: right;\">\n",
       "      <th></th>\n",
       "      <th>full_name</th>\n",
       "      <th>age</th>\n",
       "      <th>position</th>\n",
       "      <th>Current Club</th>\n",
       "      <th>minutes_played_overall</th>\n",
       "      <th>minutes_played_home</th>\n",
       "      <th>minutes_played_away</th>\n",
       "      <th>nationality</th>\n",
       "      <th>appearances_overall</th>\n",
       "      <th>appearances_home</th>\n",
       "      <th>...</th>\n",
       "      <th>conceded_per_90_overall</th>\n",
       "      <th>min_per_conceded_overall</th>\n",
       "      <th>min_per_match</th>\n",
       "      <th>min_per_card_overall</th>\n",
       "      <th>min_per_assist_overall</th>\n",
       "      <th>cards_per_90_overall</th>\n",
       "      <th>rank_in_league_top_attackers</th>\n",
       "      <th>rank_in_league_top_midfielders</th>\n",
       "      <th>rank_in_league_top_defenders</th>\n",
       "      <th>rank_in_club_top_scorer</th>\n",
       "    </tr>\n",
       "  </thead>\n",
       "  <tbody>\n",
       "    <tr>\n",
       "      <th>9</th>\n",
       "      <td>Adalberto Peñaranda Maestre</td>\n",
       "      <td>25</td>\n",
       "      <td>Forward</td>\n",
       "      <td>Watford</td>\n",
       "      <td>0</td>\n",
       "      <td>0</td>\n",
       "      <td>0</td>\n",
       "      <td>Venezuela</td>\n",
       "      <td>0</td>\n",
       "      <td>0</td>\n",
       "      <td>...</td>\n",
       "      <td>0.0</td>\n",
       "      <td>0</td>\n",
       "      <td>0</td>\n",
       "      <td>0</td>\n",
       "      <td>0</td>\n",
       "      <td>0.0</td>\n",
       "      <td>-1</td>\n",
       "      <td>-1</td>\n",
       "      <td>-1</td>\n",
       "      <td>-1</td>\n",
       "    </tr>\n",
       "    <tr>\n",
       "      <th>17</th>\n",
       "      <td>Adrián San Miguel del Castillo</td>\n",
       "      <td>35</td>\n",
       "      <td>Goalkeeper</td>\n",
       "      <td>West Ham United</td>\n",
       "      <td>0</td>\n",
       "      <td>0</td>\n",
       "      <td>0</td>\n",
       "      <td>Spain</td>\n",
       "      <td>0</td>\n",
       "      <td>0</td>\n",
       "      <td>...</td>\n",
       "      <td>0.0</td>\n",
       "      <td>0</td>\n",
       "      <td>0</td>\n",
       "      <td>0</td>\n",
       "      <td>0</td>\n",
       "      <td>0.0</td>\n",
       "      <td>-1</td>\n",
       "      <td>-1</td>\n",
       "      <td>-1</td>\n",
       "      <td>-1</td>\n",
       "    </tr>\n",
       "    <tr>\n",
       "      <th>26</th>\n",
       "      <td>Alex Smithies</td>\n",
       "      <td>32</td>\n",
       "      <td>Goalkeeper</td>\n",
       "      <td>Cardiff City</td>\n",
       "      <td>0</td>\n",
       "      <td>0</td>\n",
       "      <td>0</td>\n",
       "      <td>England</td>\n",
       "      <td>0</td>\n",
       "      <td>0</td>\n",
       "      <td>...</td>\n",
       "      <td>0.0</td>\n",
       "      <td>0</td>\n",
       "      <td>0</td>\n",
       "      <td>0</td>\n",
       "      <td>0</td>\n",
       "      <td>0.0</td>\n",
       "      <td>-1</td>\n",
       "      <td>-1</td>\n",
       "      <td>-1</td>\n",
       "      <td>-1</td>\n",
       "    </tr>\n",
       "    <tr>\n",
       "      <th>31</th>\n",
       "      <td>Alfie Jones</td>\n",
       "      <td>24</td>\n",
       "      <td>Defender</td>\n",
       "      <td>Southampton</td>\n",
       "      <td>0</td>\n",
       "      <td>0</td>\n",
       "      <td>0</td>\n",
       "      <td>England</td>\n",
       "      <td>0</td>\n",
       "      <td>0</td>\n",
       "      <td>...</td>\n",
       "      <td>0.0</td>\n",
       "      <td>0</td>\n",
       "      <td>0</td>\n",
       "      <td>0</td>\n",
       "      <td>0</td>\n",
       "      <td>0.0</td>\n",
       "      <td>-1</td>\n",
       "      <td>-1</td>\n",
       "      <td>-1</td>\n",
       "      <td>-1</td>\n",
       "    </tr>\n",
       "    <tr>\n",
       "      <th>33</th>\n",
       "      <td>Alfie Whiteman</td>\n",
       "      <td>23</td>\n",
       "      <td>Goalkeeper</td>\n",
       "      <td>Tottenham Hotspur</td>\n",
       "      <td>0</td>\n",
       "      <td>0</td>\n",
       "      <td>0</td>\n",
       "      <td>England</td>\n",
       "      <td>0</td>\n",
       "      <td>0</td>\n",
       "      <td>...</td>\n",
       "      <td>0.0</td>\n",
       "      <td>0</td>\n",
       "      <td>0</td>\n",
       "      <td>0</td>\n",
       "      <td>0</td>\n",
       "      <td>0.0</td>\n",
       "      <td>-1</td>\n",
       "      <td>-1</td>\n",
       "      <td>-1</td>\n",
       "      <td>-1</td>\n",
       "    </tr>\n",
       "  </tbody>\n",
       "</table>\n",
       "<p>5 rows × 43 columns</p>\n",
       "</div>"
      ],
      "text/plain": [
       "                         full_name  age    position       Current Club  \\\n",
       "9      Adalberto Peñaranda Maestre   25     Forward            Watford   \n",
       "17  Adrián San Miguel del Castillo   35  Goalkeeper    West Ham United   \n",
       "26                   Alex Smithies   32  Goalkeeper       Cardiff City   \n",
       "31                     Alfie Jones   24    Defender        Southampton   \n",
       "33                  Alfie Whiteman   23  Goalkeeper  Tottenham Hotspur   \n",
       "\n",
       "    minutes_played_overall  minutes_played_home  minutes_played_away  \\\n",
       "9                        0                    0                    0   \n",
       "17                       0                    0                    0   \n",
       "26                       0                    0                    0   \n",
       "31                       0                    0                    0   \n",
       "33                       0                    0                    0   \n",
       "\n",
       "   nationality  appearances_overall  appearances_home  ...  \\\n",
       "9    Venezuela                    0                 0  ...   \n",
       "17       Spain                    0                 0  ...   \n",
       "26     England                    0                 0  ...   \n",
       "31     England                    0                 0  ...   \n",
       "33     England                    0                 0  ...   \n",
       "\n",
       "    conceded_per_90_overall  min_per_conceded_overall  min_per_match  \\\n",
       "9                       0.0                         0              0   \n",
       "17                      0.0                         0              0   \n",
       "26                      0.0                         0              0   \n",
       "31                      0.0                         0              0   \n",
       "33                      0.0                         0              0   \n",
       "\n",
       "    min_per_card_overall  min_per_assist_overall  cards_per_90_overall  \\\n",
       "9                      0                       0                   0.0   \n",
       "17                     0                       0                   0.0   \n",
       "26                     0                       0                   0.0   \n",
       "31                     0                       0                   0.0   \n",
       "33                     0                       0                   0.0   \n",
       "\n",
       "    rank_in_league_top_attackers  rank_in_league_top_midfielders  \\\n",
       "9                             -1                              -1   \n",
       "17                            -1                              -1   \n",
       "26                            -1                              -1   \n",
       "31                            -1                              -1   \n",
       "33                            -1                              -1   \n",
       "\n",
       "    rank_in_league_top_defenders  rank_in_club_top_scorer  \n",
       "9                             -1                       -1  \n",
       "17                            -1                       -1  \n",
       "26                            -1                       -1  \n",
       "31                            -1                       -1  \n",
       "33                            -1                       -1  \n",
       "\n",
       "[5 rows x 43 columns]"
      ]
     },
     "execution_count": 34,
     "metadata": {},
     "output_type": "execute_result"
    }
   ],
   "source": [
    "player_not_appeared = df_player[df_player['appearances_overall'] == 0]\n",
    "player_not_appeared.head()"
   ]
  },
  {
   "cell_type": "markdown",
   "metadata": {},
   "source": [
    "* Các cầu thử dự bị chưa được ra sân có thông số các cột Rank đều bằng -1\n",
    "* Ta không thực hiện phân tích các cầu thủ dự bị chưa được ra sân này"
   ]
  },
  {
   "cell_type": "code",
   "execution_count": 35,
   "metadata": {},
   "outputs": [
    {
     "data": {
      "text/html": [
       "<div>\n",
       "<style scoped>\n",
       "    .dataframe tbody tr th:only-of-type {\n",
       "        vertical-align: middle;\n",
       "    }\n",
       "\n",
       "    .dataframe tbody tr th {\n",
       "        vertical-align: top;\n",
       "    }\n",
       "\n",
       "    .dataframe thead th {\n",
       "        text-align: right;\n",
       "    }\n",
       "</style>\n",
       "<table border=\"1\" class=\"dataframe\">\n",
       "  <thead>\n",
       "    <tr style=\"text-align: right;\">\n",
       "      <th></th>\n",
       "      <th>full_name</th>\n",
       "      <th>rank_in_league_top_attackers</th>\n",
       "      <th>rank_in_league_top_midfielders</th>\n",
       "      <th>rank_in_league_top_defenders</th>\n",
       "      <th>rank_in_club_top_scorer</th>\n",
       "    </tr>\n",
       "  </thead>\n",
       "  <tbody>\n",
       "    <tr>\n",
       "      <th>0</th>\n",
       "      <td>Aaron Cresswell</td>\n",
       "      <td>290</td>\n",
       "      <td>191</td>\n",
       "      <td>80</td>\n",
       "      <td>20</td>\n",
       "    </tr>\n",
       "    <tr>\n",
       "      <th>1</th>\n",
       "      <td>Aaron Lennon</td>\n",
       "      <td>196</td>\n",
       "      <td>187</td>\n",
       "      <td>-1</td>\n",
       "      <td>10</td>\n",
       "    </tr>\n",
       "    <tr>\n",
       "      <th>2</th>\n",
       "      <td>Aaron Mooy</td>\n",
       "      <td>144</td>\n",
       "      <td>233</td>\n",
       "      <td>-1</td>\n",
       "      <td>3</td>\n",
       "    </tr>\n",
       "    <tr>\n",
       "      <th>3</th>\n",
       "      <td>Aaron Ramsey</td>\n",
       "      <td>69</td>\n",
       "      <td>8</td>\n",
       "      <td>-1</td>\n",
       "      <td>5</td>\n",
       "    </tr>\n",
       "    <tr>\n",
       "      <th>4</th>\n",
       "      <td>Aaron Rowe</td>\n",
       "      <td>-1</td>\n",
       "      <td>-1</td>\n",
       "      <td>-1</td>\n",
       "      <td>31</td>\n",
       "    </tr>\n",
       "  </tbody>\n",
       "</table>\n",
       "</div>"
      ],
      "text/plain": [
       "         full_name  rank_in_league_top_attackers  \\\n",
       "0  Aaron Cresswell                           290   \n",
       "1     Aaron Lennon                           196   \n",
       "2       Aaron Mooy                           144   \n",
       "3     Aaron Ramsey                            69   \n",
       "4       Aaron Rowe                            -1   \n",
       "\n",
       "   rank_in_league_top_midfielders  rank_in_league_top_defenders  \\\n",
       "0                             191                            80   \n",
       "1                             187                            -1   \n",
       "2                             233                            -1   \n",
       "3                               8                            -1   \n",
       "4                              -1                            -1   \n",
       "\n",
       "   rank_in_club_top_scorer  \n",
       "0                       20  \n",
       "1                       10  \n",
       "2                        3  \n",
       "3                        5  \n",
       "4                       31  "
      ]
     },
     "execution_count": 35,
     "metadata": {},
     "output_type": "execute_result"
    }
   ],
   "source": [
    "rank_players = player_appeared[['full_name', 'rank_in_league_top_attackers', 'rank_in_league_top_midfielders', 'rank_in_league_top_defenders', 'rank_in_club_top_scorer']]\n",
    "rank_players.head()"
   ]
  },
  {
   "cell_type": "code",
   "execution_count": 36,
   "metadata": {},
   "outputs": [],
   "source": [
    "goalies = player_appeared[player_appeared['position'] == 'Goalkeeper']\n",
    "defenders = player_appeared[player_appeared['position'] == 'Defender']\n",
    "midfielders = player_appeared[player_appeared['position'] == 'Midfielder']\n",
    "forwards = player_appeared[player_appeared['position'] == 'Forward']"
   ]
  },
  {
   "cell_type": "code",
   "execution_count": 37,
   "metadata": {},
   "outputs": [
    {
     "data": {
      "text/html": [
       "<div>\n",
       "<style scoped>\n",
       "    .dataframe tbody tr th:only-of-type {\n",
       "        vertical-align: middle;\n",
       "    }\n",
       "\n",
       "    .dataframe tbody tr th {\n",
       "        vertical-align: top;\n",
       "    }\n",
       "\n",
       "    .dataframe thead th {\n",
       "        text-align: right;\n",
       "    }\n",
       "</style>\n",
       "<table border=\"1\" class=\"dataframe\">\n",
       "  <thead>\n",
       "    <tr style=\"text-align: right;\">\n",
       "      <th></th>\n",
       "      <th>full_name</th>\n",
       "      <th>age</th>\n",
       "      <th>position</th>\n",
       "      <th>Current Club</th>\n",
       "      <th>minutes_played_overall</th>\n",
       "      <th>minutes_played_home</th>\n",
       "      <th>minutes_played_away</th>\n",
       "      <th>nationality</th>\n",
       "      <th>appearances_overall</th>\n",
       "      <th>appearances_home</th>\n",
       "      <th>...</th>\n",
       "      <th>conceded_per_90_overall</th>\n",
       "      <th>min_per_conceded_overall</th>\n",
       "      <th>min_per_match</th>\n",
       "      <th>min_per_card_overall</th>\n",
       "      <th>min_per_assist_overall</th>\n",
       "      <th>cards_per_90_overall</th>\n",
       "      <th>rank_in_league_top_attackers</th>\n",
       "      <th>rank_in_league_top_midfielders</th>\n",
       "      <th>rank_in_league_top_defenders</th>\n",
       "      <th>rank_in_club_top_scorer</th>\n",
       "    </tr>\n",
       "  </thead>\n",
       "  <tbody>\n",
       "    <tr>\n",
       "      <th>23</th>\n",
       "      <td>Alex McCarthy</td>\n",
       "      <td>32</td>\n",
       "      <td>Goalkeeper</td>\n",
       "      <td>Southampton</td>\n",
       "      <td>2250</td>\n",
       "      <td>1170</td>\n",
       "      <td>1080</td>\n",
       "      <td>England</td>\n",
       "      <td>25</td>\n",
       "      <td>13</td>\n",
       "      <td>...</td>\n",
       "      <td>1.48</td>\n",
       "      <td>61</td>\n",
       "      <td>90</td>\n",
       "      <td>2250</td>\n",
       "      <td>0</td>\n",
       "      <td>0.04</td>\n",
       "      <td>372</td>\n",
       "      <td>365</td>\n",
       "      <td>114</td>\n",
       "      <td>21</td>\n",
       "    </tr>\n",
       "    <tr>\n",
       "      <th>36</th>\n",
       "      <td>Alisson Becker</td>\n",
       "      <td>29</td>\n",
       "      <td>Goalkeeper</td>\n",
       "      <td>Liverpool</td>\n",
       "      <td>3420</td>\n",
       "      <td>1710</td>\n",
       "      <td>1710</td>\n",
       "      <td>Brazil</td>\n",
       "      <td>38</td>\n",
       "      <td>19</td>\n",
       "      <td>...</td>\n",
       "      <td>0.50</td>\n",
       "      <td>180</td>\n",
       "      <td>90</td>\n",
       "      <td>3420</td>\n",
       "      <td>0</td>\n",
       "      <td>0.03</td>\n",
       "      <td>417</td>\n",
       "      <td>387</td>\n",
       "      <td>3</td>\n",
       "      <td>16</td>\n",
       "    </tr>\n",
       "    <tr>\n",
       "      <th>52</th>\n",
       "      <td>Angus Gunn</td>\n",
       "      <td>26</td>\n",
       "      <td>Goalkeeper</td>\n",
       "      <td>Southampton</td>\n",
       "      <td>1080</td>\n",
       "      <td>540</td>\n",
       "      <td>540</td>\n",
       "      <td>England</td>\n",
       "      <td>12</td>\n",
       "      <td>6</td>\n",
       "      <td>...</td>\n",
       "      <td>1.42</td>\n",
       "      <td>64</td>\n",
       "      <td>90</td>\n",
       "      <td>0</td>\n",
       "      <td>0</td>\n",
       "      <td>0.00</td>\n",
       "      <td>376</td>\n",
       "      <td>339</td>\n",
       "      <td>104</td>\n",
       "      <td>25</td>\n",
       "    </tr>\n",
       "    <tr>\n",
       "      <th>62</th>\n",
       "      <td>Artur Boruc</td>\n",
       "      <td>42</td>\n",
       "      <td>Goalkeeper</td>\n",
       "      <td>AFC Bournemouth</td>\n",
       "      <td>1080</td>\n",
       "      <td>540</td>\n",
       "      <td>540</td>\n",
       "      <td>Poland</td>\n",
       "      <td>12</td>\n",
       "      <td>6</td>\n",
       "      <td>...</td>\n",
       "      <td>1.42</td>\n",
       "      <td>64</td>\n",
       "      <td>90</td>\n",
       "      <td>540</td>\n",
       "      <td>0</td>\n",
       "      <td>0.17</td>\n",
       "      <td>361</td>\n",
       "      <td>394</td>\n",
       "      <td>100</td>\n",
       "      <td>20</td>\n",
       "    </tr>\n",
       "    <tr>\n",
       "      <th>66</th>\n",
       "      <td>Asmir Begović</td>\n",
       "      <td>35</td>\n",
       "      <td>Goalkeeper</td>\n",
       "      <td>AFC Bournemouth</td>\n",
       "      <td>2160</td>\n",
       "      <td>1080</td>\n",
       "      <td>1080</td>\n",
       "      <td>Bosnia and Herzegovina</td>\n",
       "      <td>24</td>\n",
       "      <td>12</td>\n",
       "      <td>...</td>\n",
       "      <td>1.83</td>\n",
       "      <td>49</td>\n",
       "      <td>90</td>\n",
       "      <td>0</td>\n",
       "      <td>0</td>\n",
       "      <td>0.00</td>\n",
       "      <td>358</td>\n",
       "      <td>273</td>\n",
       "      <td>154</td>\n",
       "      <td>19</td>\n",
       "    </tr>\n",
       "  </tbody>\n",
       "</table>\n",
       "<p>5 rows × 43 columns</p>\n",
       "</div>"
      ],
      "text/plain": [
       "         full_name  age    position     Current Club  minutes_played_overall  \\\n",
       "23   Alex McCarthy   32  Goalkeeper      Southampton                    2250   \n",
       "36  Alisson Becker   29  Goalkeeper        Liverpool                    3420   \n",
       "52      Angus Gunn   26  Goalkeeper      Southampton                    1080   \n",
       "62     Artur Boruc   42  Goalkeeper  AFC Bournemouth                    1080   \n",
       "66   Asmir Begović   35  Goalkeeper  AFC Bournemouth                    2160   \n",
       "\n",
       "    minutes_played_home  minutes_played_away             nationality  \\\n",
       "23                 1170                 1080                 England   \n",
       "36                 1710                 1710                  Brazil   \n",
       "52                  540                  540                 England   \n",
       "62                  540                  540                  Poland   \n",
       "66                 1080                 1080  Bosnia and Herzegovina   \n",
       "\n",
       "    appearances_overall  appearances_home  ...  conceded_per_90_overall  \\\n",
       "23                   25                13  ...                     1.48   \n",
       "36                   38                19  ...                     0.50   \n",
       "52                   12                 6  ...                     1.42   \n",
       "62                   12                 6  ...                     1.42   \n",
       "66                   24                12  ...                     1.83   \n",
       "\n",
       "    min_per_conceded_overall  min_per_match  min_per_card_overall  \\\n",
       "23                        61             90                  2250   \n",
       "36                       180             90                  3420   \n",
       "52                        64             90                     0   \n",
       "62                        64             90                   540   \n",
       "66                        49             90                     0   \n",
       "\n",
       "    min_per_assist_overall  cards_per_90_overall  \\\n",
       "23                       0                  0.04   \n",
       "36                       0                  0.03   \n",
       "52                       0                  0.00   \n",
       "62                       0                  0.17   \n",
       "66                       0                  0.00   \n",
       "\n",
       "    rank_in_league_top_attackers  rank_in_league_top_midfielders  \\\n",
       "23                           372                             365   \n",
       "36                           417                             387   \n",
       "52                           376                             339   \n",
       "62                           361                             394   \n",
       "66                           358                             273   \n",
       "\n",
       "    rank_in_league_top_defenders  rank_in_club_top_scorer  \n",
       "23                           114                       21  \n",
       "36                             3                       16  \n",
       "52                           104                       25  \n",
       "62                           100                       20  \n",
       "66                           154                       19  \n",
       "\n",
       "[5 rows x 43 columns]"
      ]
     },
     "execution_count": 37,
     "metadata": {},
     "output_type": "execute_result"
    }
   ],
   "source": [
    "goalies.head()"
   ]
  },
  {
   "cell_type": "code",
   "execution_count": 38,
   "metadata": {},
   "outputs": [
    {
     "data": {
      "application/vnd.plotly.v1+json": {
       "config": {
        "plotlyServerURL": "https://plot.ly"
       },
       "data": [
        {
         "domain": {
          "x": [
           0,
           1
          ],
          "y": [
           0,
           1
          ]
         },
         "hovertemplate": "nationality=%{label}<br>appearances_overall=%{value}<extra></extra>",
         "labels": [
          "England",
          "England",
          "Australia",
          "Wales",
          "England",
          "England",
          "Morocco",
          "France",
          "France",
          "England",
          "Italy",
          "England",
          "France",
          "Spain",
          "England",
          "Jamaica",
          "Portugal",
          "England",
          "Spain",
          "Serbia",
          "Nigeria",
          "England",
          "England",
          "England",
          "Norway",
          "France",
          "Portugal",
          "Chile",
          "England",
          "Iran",
          "Brazil",
          "Spain",
          "Spain",
          "Portugal",
          "England",
          "Germany",
          "Cameroon",
          "Denmark",
          "Brazil",
          "Scotland",
          "England",
          "Ukraine",
          "England",
          "England",
          "England",
          "Italy",
          "England",
          "France",
          "France",
          "Italy",
          "Germany",
          "Ecuador",
          "Iceland",
          "France",
          "Poland",
          "England",
          "England",
          "England",
          "Bosnia and Herzegovina",
          "France",
          "Spain",
          "Mali",
          "England",
          "Wales",
          "England",
          "England",
          "England",
          "England",
          "England",
          "England",
          "France",
          "Israel",
          "Brazil",
          "Brazil",
          "Portugal",
          "Germany",
          "England",
          "Gabon",
          "Spain",
          "Turkey",
          "England",
          "Scotland",
          "England",
          "England",
          "England",
          "England",
          "Colombia",
          "Portugal",
          "Turkey",
          "Spain",
          "Spain",
          "England",
          "England",
          "England",
          "Senegal",
          "Germany",
          "Wales",
          "England",
          "New Zealand",
          "Ghana",
          "Belgium",
          "Denmark",
          "Austria",
          "Belgium",
          "Germany",
          "Republic of Ireland",
          "Germany",
          "England",
          "England",
          "Northern Ireland",
          "Republic of Ireland",
          "England",
          "England",
          "Ghana",
          "England",
          "England",
          "USA",
          "Brazil",
          "England",
          "England",
          "England",
          "England",
          "Netherlands",
          "England",
          "England",
          "Spain",
          "Canada",
          "Brazil",
          "Spain",
          "Italy",
          "Colombia",
          "Netherlands",
          "USA",
          "Republic of Ireland",
          "Croatia",
          "England",
          "England",
          "England",
          "Belgium",
          "Spain",
          "Spain",
          "Portugal",
          "Belgium",
          "Portugal",
          "England",
          "England",
          "England",
          "Belgium",
          "Brazil",
          "England",
          "Congo DR",
          "USA",
          "Italy",
          "Ivory Coast",
          "England",
          "Germany",
          "Argentina",
          "France",
          "Paraguay",
          "England",
          "Switzerland",
          "Brazil",
          "Spain",
          "Argentina",
          "Argentina",
          "Brazil",
          "Spain",
          "Brazil",
          "Switzerland",
          "France",
          "Romania",
          "Togo",
          "Mali",
          "Spain",
          "England",
          "Brazil",
          "Brazil",
          "Cameroon",
          "England",
          "England",
          "France",
          "Netherlands",
          "Spain",
          "England",
          "Argentina",
          "England",
          "Switzerland",
          "Republic of Ireland",
          "Iceland",
          "England",
          "Republic of Ireland",
          "England",
          "England",
          "England",
          "England",
          "Norway",
          "Spain",
          "Portugal",
          "Armenia",
          "South Korea",
          "France",
          "Belgium",
          "Senegal",
          "Germany",
          "Nigeria",
          "England",
          "Belgium",
          "France",
          "Portugal",
          "England",
          "England",
          "England",
          "England",
          "England",
          "England",
          "England",
          "England",
          "Scotland",
          "Republic of Ireland",
          "England",
          "England",
          "England",
          "England",
          "England",
          "Poland",
          "Belgium",
          "Denmark",
          "England",
          "Mexico",
          "Spain",
          "Wales",
          "Ivory Coast",
          "Republic of Ireland",
          "Colombia",
          "Ghana",
          "England",
          "England",
          "Portugal",
          "England",
          "England",
          "England",
          "England",
          "England",
          "England",
          "Cameroon",
          "England",
          "Iceland",
          "England",
          "England",
          "Slovenia",
          "Denmark",
          "England",
          "England",
          "England",
          "Spain",
          "Northern Ireland",
          "Ghana",
          "England",
          "England",
          "England",
          "Italy",
          "Portugal",
          "Greece",
          "Colombia",
          "Spain",
          "England",
          "England",
          "Norway",
          "England",
          "Argentina",
          "Spain",
          "Argentina",
          "Netherlands",
          "England",
          "Netherlands",
          "England",
          "England",
          "Denmark",
          "England",
          "Nigeria",
          "Sweden",
          "Denmark",
          "Spain",
          "Belgium",
          "Republic of Ireland",
          "Scotland",
          "England",
          "Greece",
          "France",
          "England",
          "England",
          "Belgium",
          "France",
          "Serbia",
          "Belgium",
          "Curaçao",
          "England",
          "England",
          "Nigeria",
          "Brazil",
          "Germany",
          "England",
          "England",
          "France",
          "France",
          "Spain",
          "Brazil",
          "Uruguay",
          "Argentina",
          "Serbia",
          "England",
          "England",
          "England",
          "France",
          "France",
          "Italy",
          "Argentina",
          "England",
          "Spain",
          "Spain",
          "England",
          "England",
          "Gabon",
          "England",
          "Republic of Ireland",
          "Austria",
          "Belgium",
          "Slovakia",
          "England",
          "Spain",
          "England",
          "England",
          "Czech Republic",
          "Croatia",
          "Australia",
          "Denmark",
          "Republic of Ireland",
          "Scotland",
          "England",
          "Italy",
          "France",
          "England",
          "England",
          "England",
          "Germany",
          "France",
          "Japan",
          "Germany",
          "England",
          "Republic of Ireland",
          "England",
          "Netherlands",
          "Belgium",
          "Paraguay",
          "Uruguay",
          "Senegal",
          "Egypt",
          "Norway",
          "Egypt",
          "England",
          "France",
          "Belgium",
          "France",
          "France",
          "Guinea",
          "Spain",
          "France",
          "Netherlands",
          "England",
          "England",
          "England",
          "England",
          "Congo DR",
          "Philippines",
          "Serbia",
          "Argentina",
          "Ukraine",
          "England",
          "France",
          "Nigeria",
          "Spain",
          "Senegal",
          "Argentina",
          "Senegal",
          "Germany",
          "Netherlands",
          "Wales",
          "France",
          "Argentina",
          "Equatorial Guinea",
          "Spain",
          "England",
          "Czech Republic",
          "Scotland",
          "England",
          "England",
          "Denmark",
          "England",
          "Gabon",
          "Denmark",
          "Algeria",
          "Portugal",
          "England",
          "Netherlands",
          "Egypt",
          "Mexico",
          "England",
          "Portugal",
          "Brazil",
          "Algeria",
          "England",
          "Republic of Ireland",
          "Brazil",
          "Scotland",
          "Brazil",
          "Argentina",
          "Morocco",
          "Belgium",
          "Venezuela",
          "England",
          "Portugal",
          "Portugal",
          "England",
          "Portugal",
          "England",
          "England",
          "Scotland",
          "England",
          "Netherlands",
          "England",
          "Senegal",
          "England",
          "England",
          "Wales",
          "France",
          "England",
          "England",
          "Bosnia and Herzegovina",
          "Republic of Ireland",
          "England",
          "England",
          "Austria",
          "Ivory Coast",
          "Argentina",
          "Spain",
          "Republic of Ireland",
          "Republic of Ireland",
          "Japan",
          "Germany",
          "England",
          "Greece",
          "England",
          "Ivory Coast",
          "Norway",
          "Italy",
          "Switzerland",
          "Republic of Ireland",
          "England",
          "Benin",
          "Northern Ireland",
          "Belgium",
          "Scotland",
          "South Korea",
          "Netherlands",
          "Netherlands",
          "England",
          "USA",
          "Netherlands",
          "Belgium",
          "Scotland",
          "England",
          "England",
          "England",
          "England",
          "England",
          "England",
          "England",
          "England",
          "Spain",
          "Spain",
          "Spain",
          "Nigeria",
          "Sweden",
          "Kenya",
          "Netherlands",
          "Belgium",
          "Netherlands",
          "Wales",
          "Jamaica",
          "Netherlands",
          "Argentina",
          "Ivory Coast",
          "England",
          "England",
          "Brazil",
          "France",
          "Switzerland",
          "France",
          "Colombia",
          "Japan",
          "Belgium",
          "Mali",
          "Poland"
         ],
         "legendgroup": "",
         "name": "",
         "showlegend": true,
         "textinfo": "percent+label",
         "textposition": "inside",
         "type": "pie",
         "values": [
          20,
          16,
          29,
          28,
          2,
          35,
          2,
          35,
          13,
          13,
          14,
          25,
          12,
          29,
          21,
          26,
          2,
          16,
          2,
          37,
          35,
          25,
          2,
          30,
          12,
          35,
          1,
          20,
          15,
          19,
          38,
          16,
          22,
          27,
          29,
          24,
          22,
          8,
          15,
          36,
          18,
          9,
          38,
          12,
          2,
          24,
          12,
          30,
          27,
          1,
          33,
          6,
          28,
          23,
          12,
          37,
          34,
          30,
          24,
          35,
          37,
          4,
          36,
          27,
          38,
          1,
          7,
          38,
          2,
          1,
          10,
          18,
          34,
          22,
          36,
          32,
          27,
          38,
          14,
          6,
          10,
          27,
          3,
          30,
          31,
          3,
          7,
          18,
          25,
          38,
          6,
          25,
          21,
          38,
          31,
          29,
          13,
          24,
          38,
          28,
          16,
          35,
          3,
          21,
          37,
          11,
          2,
          6,
          38,
          36,
          28,
          30,
          25,
          9,
          18,
          24,
          5,
          11,
          26,
          6,
          14,
          8,
          18,
          30,
          4,
          38,
          32,
          36,
          33,
          4,
          23,
          30,
          29,
          34,
          13,
          25,
          34,
          1,
          31,
          4,
          12,
          33,
          12,
          8,
          35,
          10,
          21,
          37,
          38,
          5,
          20,
          1,
          10,
          12,
          20,
          28,
          19,
          33,
          23,
          11,
          24,
          28,
          2,
          5,
          19,
          36,
          20,
          29,
          24,
          12,
          23,
          16,
          1,
          29,
          1,
          17,
          29,
          22,
          2,
          5,
          1,
          35,
          30,
          38,
          14,
          17,
          29,
          7,
          38,
          9,
          25,
          28,
          31,
          26,
          16,
          5,
          19,
          25,
          25,
          31,
          33,
          3,
          33,
          31,
          30,
          25,
          22,
          33,
          23,
          37,
          6,
          24,
          8,
          9,
          32,
          1,
          36,
          38,
          1,
          31,
          35,
          29,
          26,
          34,
          25,
          22,
          23,
          11,
          25,
          18,
          4,
          32,
          32,
          30,
          30,
          4,
          27,
          38,
          30,
          28,
          16,
          19,
          28,
          1,
          22,
          7,
          29,
          1,
          24,
          11,
          31,
          29,
          16,
          10,
          33,
          24,
          20,
          32,
          38,
          19,
          37,
          16,
          28,
          15,
          16,
          2,
          29,
          35,
          7,
          12,
          22,
          1,
          21,
          23,
          26,
          13,
          13,
          38,
          1,
          30,
          17,
          19,
          36,
          19,
          6,
          15,
          27,
          4,
          32,
          33,
          6,
          23,
          17,
          1,
          19,
          11,
          20,
          6,
          8,
          7,
          31,
          13,
          36,
          2,
          35,
          15,
          32,
          34,
          20,
          38,
          1,
          1,
          29,
          24,
          27,
          12,
          10,
          27,
          2,
          31,
          7,
          33,
          21,
          31,
          2,
          28,
          14,
          38,
          13,
          25,
          3,
          5,
          13,
          32,
          34,
          24,
          38,
          36,
          16,
          6,
          33,
          21,
          2,
          1,
          29,
          26,
          17,
          24,
          33,
          6,
          33,
          2,
          11,
          10,
          3,
          29,
          8,
          16,
          38,
          26,
          14,
          10,
          29,
          36,
          25,
          22,
          31,
          38,
          38,
          9,
          18,
          20,
          7,
          38,
          28,
          18,
          14,
          8,
          27,
          38,
          31,
          18,
          26,
          1,
          25,
          36,
          26,
          35,
          3,
          24,
          31,
          6,
          7,
          19,
          7,
          18,
          27,
          13,
          36,
          31,
          19,
          1,
          34,
          5,
          4,
          38,
          3,
          35,
          35,
          27,
          10,
          16,
          25,
          33,
          34,
          33,
          19,
          32,
          32,
          27,
          35,
          17,
          24,
          37,
          34,
          24,
          38,
          15,
          16,
          35,
          36,
          4,
          2,
          20,
          5,
          10,
          16,
          24,
          29,
          9,
          34,
          1,
          8,
          33,
          29,
          35,
          26,
          21,
          31,
          17,
          25,
          35,
          28,
          12,
          2,
          14,
          3,
          31,
          31,
          3,
          6,
          29,
          18,
          2,
          32,
          37,
          26,
          12,
          34,
          31,
          13,
          16,
          19,
          15,
          29,
          32,
          1,
          5,
          20,
          8,
          32,
          2,
          30,
          13,
          3,
          17,
          38,
          18,
          22,
          13,
          2,
          34,
          32,
          1,
          32,
          36,
          24,
          23,
          13,
          17,
          13,
          28,
          38
         ]
        }
       ],
       "layout": {
        "height": 800,
        "legend": {
         "tracegroupgap": 0
        },
        "template": {
         "data": {
          "bar": [
           {
            "error_x": {
             "color": "#2a3f5f"
            },
            "error_y": {
             "color": "#2a3f5f"
            },
            "marker": {
             "line": {
              "color": "#E5ECF6",
              "width": 0.5
             },
             "pattern": {
              "fillmode": "overlay",
              "size": 10,
              "solidity": 0.2
             }
            },
            "type": "bar"
           }
          ],
          "barpolar": [
           {
            "marker": {
             "line": {
              "color": "#E5ECF6",
              "width": 0.5
             },
             "pattern": {
              "fillmode": "overlay",
              "size": 10,
              "solidity": 0.2
             }
            },
            "type": "barpolar"
           }
          ],
          "carpet": [
           {
            "aaxis": {
             "endlinecolor": "#2a3f5f",
             "gridcolor": "white",
             "linecolor": "white",
             "minorgridcolor": "white",
             "startlinecolor": "#2a3f5f"
            },
            "baxis": {
             "endlinecolor": "#2a3f5f",
             "gridcolor": "white",
             "linecolor": "white",
             "minorgridcolor": "white",
             "startlinecolor": "#2a3f5f"
            },
            "type": "carpet"
           }
          ],
          "choropleth": [
           {
            "colorbar": {
             "outlinewidth": 0,
             "ticks": ""
            },
            "type": "choropleth"
           }
          ],
          "contour": [
           {
            "colorbar": {
             "outlinewidth": 0,
             "ticks": ""
            },
            "colorscale": [
             [
              0,
              "#0d0887"
             ],
             [
              0.1111111111111111,
              "#46039f"
             ],
             [
              0.2222222222222222,
              "#7201a8"
             ],
             [
              0.3333333333333333,
              "#9c179e"
             ],
             [
              0.4444444444444444,
              "#bd3786"
             ],
             [
              0.5555555555555556,
              "#d8576b"
             ],
             [
              0.6666666666666666,
              "#ed7953"
             ],
             [
              0.7777777777777778,
              "#fb9f3a"
             ],
             [
              0.8888888888888888,
              "#fdca26"
             ],
             [
              1,
              "#f0f921"
             ]
            ],
            "type": "contour"
           }
          ],
          "contourcarpet": [
           {
            "colorbar": {
             "outlinewidth": 0,
             "ticks": ""
            },
            "type": "contourcarpet"
           }
          ],
          "heatmap": [
           {
            "colorbar": {
             "outlinewidth": 0,
             "ticks": ""
            },
            "colorscale": [
             [
              0,
              "#0d0887"
             ],
             [
              0.1111111111111111,
              "#46039f"
             ],
             [
              0.2222222222222222,
              "#7201a8"
             ],
             [
              0.3333333333333333,
              "#9c179e"
             ],
             [
              0.4444444444444444,
              "#bd3786"
             ],
             [
              0.5555555555555556,
              "#d8576b"
             ],
             [
              0.6666666666666666,
              "#ed7953"
             ],
             [
              0.7777777777777778,
              "#fb9f3a"
             ],
             [
              0.8888888888888888,
              "#fdca26"
             ],
             [
              1,
              "#f0f921"
             ]
            ],
            "type": "heatmap"
           }
          ],
          "heatmapgl": [
           {
            "colorbar": {
             "outlinewidth": 0,
             "ticks": ""
            },
            "colorscale": [
             [
              0,
              "#0d0887"
             ],
             [
              0.1111111111111111,
              "#46039f"
             ],
             [
              0.2222222222222222,
              "#7201a8"
             ],
             [
              0.3333333333333333,
              "#9c179e"
             ],
             [
              0.4444444444444444,
              "#bd3786"
             ],
             [
              0.5555555555555556,
              "#d8576b"
             ],
             [
              0.6666666666666666,
              "#ed7953"
             ],
             [
              0.7777777777777778,
              "#fb9f3a"
             ],
             [
              0.8888888888888888,
              "#fdca26"
             ],
             [
              1,
              "#f0f921"
             ]
            ],
            "type": "heatmapgl"
           }
          ],
          "histogram": [
           {
            "marker": {
             "pattern": {
              "fillmode": "overlay",
              "size": 10,
              "solidity": 0.2
             }
            },
            "type": "histogram"
           }
          ],
          "histogram2d": [
           {
            "colorbar": {
             "outlinewidth": 0,
             "ticks": ""
            },
            "colorscale": [
             [
              0,
              "#0d0887"
             ],
             [
              0.1111111111111111,
              "#46039f"
             ],
             [
              0.2222222222222222,
              "#7201a8"
             ],
             [
              0.3333333333333333,
              "#9c179e"
             ],
             [
              0.4444444444444444,
              "#bd3786"
             ],
             [
              0.5555555555555556,
              "#d8576b"
             ],
             [
              0.6666666666666666,
              "#ed7953"
             ],
             [
              0.7777777777777778,
              "#fb9f3a"
             ],
             [
              0.8888888888888888,
              "#fdca26"
             ],
             [
              1,
              "#f0f921"
             ]
            ],
            "type": "histogram2d"
           }
          ],
          "histogram2dcontour": [
           {
            "colorbar": {
             "outlinewidth": 0,
             "ticks": ""
            },
            "colorscale": [
             [
              0,
              "#0d0887"
             ],
             [
              0.1111111111111111,
              "#46039f"
             ],
             [
              0.2222222222222222,
              "#7201a8"
             ],
             [
              0.3333333333333333,
              "#9c179e"
             ],
             [
              0.4444444444444444,
              "#bd3786"
             ],
             [
              0.5555555555555556,
              "#d8576b"
             ],
             [
              0.6666666666666666,
              "#ed7953"
             ],
             [
              0.7777777777777778,
              "#fb9f3a"
             ],
             [
              0.8888888888888888,
              "#fdca26"
             ],
             [
              1,
              "#f0f921"
             ]
            ],
            "type": "histogram2dcontour"
           }
          ],
          "mesh3d": [
           {
            "colorbar": {
             "outlinewidth": 0,
             "ticks": ""
            },
            "type": "mesh3d"
           }
          ],
          "parcoords": [
           {
            "line": {
             "colorbar": {
              "outlinewidth": 0,
              "ticks": ""
             }
            },
            "type": "parcoords"
           }
          ],
          "pie": [
           {
            "automargin": true,
            "type": "pie"
           }
          ],
          "scatter": [
           {
            "fillpattern": {
             "fillmode": "overlay",
             "size": 10,
             "solidity": 0.2
            },
            "type": "scatter"
           }
          ],
          "scatter3d": [
           {
            "line": {
             "colorbar": {
              "outlinewidth": 0,
              "ticks": ""
             }
            },
            "marker": {
             "colorbar": {
              "outlinewidth": 0,
              "ticks": ""
             }
            },
            "type": "scatter3d"
           }
          ],
          "scattercarpet": [
           {
            "marker": {
             "colorbar": {
              "outlinewidth": 0,
              "ticks": ""
             }
            },
            "type": "scattercarpet"
           }
          ],
          "scattergeo": [
           {
            "marker": {
             "colorbar": {
              "outlinewidth": 0,
              "ticks": ""
             }
            },
            "type": "scattergeo"
           }
          ],
          "scattergl": [
           {
            "marker": {
             "colorbar": {
              "outlinewidth": 0,
              "ticks": ""
             }
            },
            "type": "scattergl"
           }
          ],
          "scattermapbox": [
           {
            "marker": {
             "colorbar": {
              "outlinewidth": 0,
              "ticks": ""
             }
            },
            "type": "scattermapbox"
           }
          ],
          "scatterpolar": [
           {
            "marker": {
             "colorbar": {
              "outlinewidth": 0,
              "ticks": ""
             }
            },
            "type": "scatterpolar"
           }
          ],
          "scatterpolargl": [
           {
            "marker": {
             "colorbar": {
              "outlinewidth": 0,
              "ticks": ""
             }
            },
            "type": "scatterpolargl"
           }
          ],
          "scatterternary": [
           {
            "marker": {
             "colorbar": {
              "outlinewidth": 0,
              "ticks": ""
             }
            },
            "type": "scatterternary"
           }
          ],
          "surface": [
           {
            "colorbar": {
             "outlinewidth": 0,
             "ticks": ""
            },
            "colorscale": [
             [
              0,
              "#0d0887"
             ],
             [
              0.1111111111111111,
              "#46039f"
             ],
             [
              0.2222222222222222,
              "#7201a8"
             ],
             [
              0.3333333333333333,
              "#9c179e"
             ],
             [
              0.4444444444444444,
              "#bd3786"
             ],
             [
              0.5555555555555556,
              "#d8576b"
             ],
             [
              0.6666666666666666,
              "#ed7953"
             ],
             [
              0.7777777777777778,
              "#fb9f3a"
             ],
             [
              0.8888888888888888,
              "#fdca26"
             ],
             [
              1,
              "#f0f921"
             ]
            ],
            "type": "surface"
           }
          ],
          "table": [
           {
            "cells": {
             "fill": {
              "color": "#EBF0F8"
             },
             "line": {
              "color": "white"
             }
            },
            "header": {
             "fill": {
              "color": "#C8D4E3"
             },
             "line": {
              "color": "white"
             }
            },
            "type": "table"
           }
          ]
         },
         "layout": {
          "annotationdefaults": {
           "arrowcolor": "#2a3f5f",
           "arrowhead": 0,
           "arrowwidth": 1
          },
          "autotypenumbers": "strict",
          "coloraxis": {
           "colorbar": {
            "outlinewidth": 0,
            "ticks": ""
           }
          },
          "colorscale": {
           "diverging": [
            [
             0,
             "#8e0152"
            ],
            [
             0.1,
             "#c51b7d"
            ],
            [
             0.2,
             "#de77ae"
            ],
            [
             0.3,
             "#f1b6da"
            ],
            [
             0.4,
             "#fde0ef"
            ],
            [
             0.5,
             "#f7f7f7"
            ],
            [
             0.6,
             "#e6f5d0"
            ],
            [
             0.7,
             "#b8e186"
            ],
            [
             0.8,
             "#7fbc41"
            ],
            [
             0.9,
             "#4d9221"
            ],
            [
             1,
             "#276419"
            ]
           ],
           "sequential": [
            [
             0,
             "#0d0887"
            ],
            [
             0.1111111111111111,
             "#46039f"
            ],
            [
             0.2222222222222222,
             "#7201a8"
            ],
            [
             0.3333333333333333,
             "#9c179e"
            ],
            [
             0.4444444444444444,
             "#bd3786"
            ],
            [
             0.5555555555555556,
             "#d8576b"
            ],
            [
             0.6666666666666666,
             "#ed7953"
            ],
            [
             0.7777777777777778,
             "#fb9f3a"
            ],
            [
             0.8888888888888888,
             "#fdca26"
            ],
            [
             1,
             "#f0f921"
            ]
           ],
           "sequentialminus": [
            [
             0,
             "#0d0887"
            ],
            [
             0.1111111111111111,
             "#46039f"
            ],
            [
             0.2222222222222222,
             "#7201a8"
            ],
            [
             0.3333333333333333,
             "#9c179e"
            ],
            [
             0.4444444444444444,
             "#bd3786"
            ],
            [
             0.5555555555555556,
             "#d8576b"
            ],
            [
             0.6666666666666666,
             "#ed7953"
            ],
            [
             0.7777777777777778,
             "#fb9f3a"
            ],
            [
             0.8888888888888888,
             "#fdca26"
            ],
            [
             1,
             "#f0f921"
            ]
           ]
          },
          "colorway": [
           "#636efa",
           "#EF553B",
           "#00cc96",
           "#ab63fa",
           "#FFA15A",
           "#19d3f3",
           "#FF6692",
           "#B6E880",
           "#FF97FF",
           "#FECB52"
          ],
          "font": {
           "color": "#2a3f5f"
          },
          "geo": {
           "bgcolor": "white",
           "lakecolor": "white",
           "landcolor": "#E5ECF6",
           "showlakes": true,
           "showland": true,
           "subunitcolor": "white"
          },
          "hoverlabel": {
           "align": "left"
          },
          "hovermode": "closest",
          "mapbox": {
           "style": "light"
          },
          "paper_bgcolor": "white",
          "plot_bgcolor": "#E5ECF6",
          "polar": {
           "angularaxis": {
            "gridcolor": "white",
            "linecolor": "white",
            "ticks": ""
           },
           "bgcolor": "#E5ECF6",
           "radialaxis": {
            "gridcolor": "white",
            "linecolor": "white",
            "ticks": ""
           }
          },
          "scene": {
           "xaxis": {
            "backgroundcolor": "#E5ECF6",
            "gridcolor": "white",
            "gridwidth": 2,
            "linecolor": "white",
            "showbackground": true,
            "ticks": "",
            "zerolinecolor": "white"
           },
           "yaxis": {
            "backgroundcolor": "#E5ECF6",
            "gridcolor": "white",
            "gridwidth": 2,
            "linecolor": "white",
            "showbackground": true,
            "ticks": "",
            "zerolinecolor": "white"
           },
           "zaxis": {
            "backgroundcolor": "#E5ECF6",
            "gridcolor": "white",
            "gridwidth": 2,
            "linecolor": "white",
            "showbackground": true,
            "ticks": "",
            "zerolinecolor": "white"
           }
          },
          "shapedefaults": {
           "line": {
            "color": "#2a3f5f"
           }
          },
          "ternary": {
           "aaxis": {
            "gridcolor": "white",
            "linecolor": "white",
            "ticks": ""
           },
           "baxis": {
            "gridcolor": "white",
            "linecolor": "white",
            "ticks": ""
           },
           "bgcolor": "#E5ECF6",
           "caxis": {
            "gridcolor": "white",
            "linecolor": "white",
            "ticks": ""
           }
          },
          "title": {
           "x": 0.05
          },
          "xaxis": {
           "automargin": true,
           "gridcolor": "white",
           "linecolor": "white",
           "ticks": "",
           "title": {
            "standoff": 15
           },
           "zerolinecolor": "white",
           "zerolinewidth": 2
          },
          "yaxis": {
           "automargin": true,
           "gridcolor": "white",
           "linecolor": "white",
           "ticks": "",
           "title": {
            "standoff": 15
           },
           "zerolinecolor": "white",
           "zerolinewidth": 2
          }
         }
        },
        "title": {
         "font": {
          "color": "black",
          "size": 30
         },
         "text": "<b> Player appearance rate per country <b>"
        },
        "width": 800
       }
      }
     },
     "metadata": {},
     "output_type": "display_data"
    }
   ],
   "source": [
    "fig = px.pie(player_appeared,\n",
    "             values='appearances_overall',\n",
    "             names='nationality',\n",
    "             title='Countries represented in the EPL by number of appearances',\n",
    "            )\n",
    "fig.update_traces(textposition='inside', textinfo='percent+label')\n",
    "fig.update_layout(title_text='<b> Player appearance rate per country <b>', \n",
    "                  titlefont=dict(color='black', size=30),\n",
    "                  width=800,\n",
    "                  height=800,\n",
    "                 )\n",
    "fig.show()"
   ]
  },
  {
   "cell_type": "code",
   "execution_count": 39,
   "metadata": {},
   "outputs": [
    {
     "data": {
      "application/vnd.plotly.v1+json": {
       "config": {
        "plotlyServerURL": "https://plot.ly"
       },
       "data": [
        {
         "branchvalues": "total",
         "domain": {
          "x": [
           0,
           1
          ],
          "y": [
           0,
           1
          ]
         },
         "hovertemplate": "labels=%{label}<br>appearances_overall=%{value}<br>parent=%{parent}<br>id=%{id}<extra></extra>",
         "ids": [
          "Forward/Algeria",
          "Midfielder/Algeria",
          "Defender/Argentina",
          "Forward/Argentina",
          "Goalkeeper/Argentina",
          "Midfielder/Argentina",
          "Midfielder/Armenia",
          "Goalkeeper/Australia",
          "Midfielder/Australia",
          "Defender/Austria",
          "Forward/Austria",
          "Defender/Belgium",
          "Forward/Belgium",
          "Midfielder/Belgium",
          "Forward/Benin",
          "Defender/Bosnia and Herzegovina",
          "Goalkeeper/Bosnia and Herzegovina",
          "Defender/Brazil",
          "Forward/Brazil",
          "Goalkeeper/Brazil",
          "Midfielder/Brazil",
          "Defender/Cameroon",
          "Midfielder/Cameroon",
          "Forward/Canada",
          "Forward/Chile",
          "Defender/Colombia",
          "Forward/Colombia",
          "Midfielder/Colombia",
          "Forward/Congo DR",
          "Midfielder/Congo DR",
          "Defender/Croatia",
          "Midfielder/Croatia",
          "Midfielder/Curaçao",
          "Forward/Czech Republic",
          "Goalkeeper/Czech Republic",
          "Defender/Denmark",
          "Forward/Denmark",
          "Goalkeeper/Denmark",
          "Midfielder/Denmark",
          "Defender/Ecuador",
          "Forward/Egypt",
          "Midfielder/Egypt",
          "Defender/England",
          "Forward/England",
          "Goalkeeper/England",
          "Midfielder/England",
          "Midfielder/Equatorial Guinea",
          "Defender/France",
          "Forward/France",
          "Goalkeeper/France",
          "Midfielder/France",
          "Defender/Gabon",
          "Forward/Gabon",
          "Midfielder/Gabon",
          "Defender/Germany",
          "Forward/Germany",
          "Goalkeeper/Germany",
          "Midfielder/Germany",
          "Defender/Ghana",
          "Forward/Ghana",
          "Midfielder/Ghana",
          "Defender/Greece",
          "Midfielder/Guinea",
          "Midfielder/Iceland",
          "Forward/Iran",
          "Midfielder/Israel",
          "Defender/Italy",
          "Forward/Italy",
          "Midfielder/Italy",
          "Defender/Ivory Coast",
          "Midfielder/Ivory Coast",
          "Defender/Jamaica",
          "Defender/Japan",
          "Forward/Japan",
          "Midfielder/Kenya",
          "Midfielder/Mali",
          "Forward/Mexico",
          "Midfielder/Morocco",
          "Defender/Netherlands",
          "Forward/Netherlands",
          "Goalkeeper/Netherlands",
          "Midfielder/Netherlands",
          "Forward/New Zealand",
          "Defender/Nigeria",
          "Forward/Nigeria",
          "Midfielder/Nigeria",
          "Defender/Northern Ireland",
          "Midfielder/Northern Ireland",
          "Forward/Norway",
          "Midfielder/Norway",
          "Defender/Paraguay",
          "Midfielder/Paraguay",
          "Goalkeeper/Philippines",
          "Defender/Poland",
          "Goalkeeper/Poland",
          "Defender/Portugal",
          "Forward/Portugal",
          "Goalkeeper/Portugal",
          "Midfielder/Portugal",
          "Defender/Republic of Ireland",
          "Forward/Republic of Ireland",
          "Goalkeeper/Republic of Ireland",
          "Midfielder/Republic of Ireland",
          "Forward/Romania",
          "Defender/Scotland",
          "Midfielder/Scotland",
          "Defender/Senegal",
          "Forward/Senegal",
          "Midfielder/Senegal",
          "Forward/Serbia",
          "Midfielder/Serbia",
          "Goalkeeper/Slovakia",
          "Defender/Slovenia",
          "Forward/South Korea",
          "Midfielder/South Korea",
          "Defender/Spain",
          "Forward/Spain",
          "Goalkeeper/Spain",
          "Midfielder/Spain",
          "Defender/Sweden",
          "Midfielder/Sweden",
          "Defender/Switzerland",
          "Midfielder/Switzerland",
          "Midfielder/Togo",
          "Defender/Turkey",
          "Forward/Turkey",
          "Defender/USA",
          "Midfielder/USA",
          "Forward/Ukraine",
          "Midfielder/Ukraine",
          "Defender/Uruguay",
          "Midfielder/Uruguay",
          "Forward/Venezuela",
          "Defender/Wales",
          "Forward/Wales",
          "Goalkeeper/Wales",
          "Midfielder/Wales",
          "Defender",
          "Forward",
          "Goalkeeper",
          "Midfielder"
         ],
         "labels": [
          "Algeria",
          "Algeria",
          "Argentina",
          "Argentina",
          "Argentina",
          "Argentina",
          "Armenia",
          "Australia",
          "Australia",
          "Austria",
          "Austria",
          "Belgium",
          "Belgium",
          "Belgium",
          "Benin",
          "Bosnia and Herzegovina",
          "Bosnia and Herzegovina",
          "Brazil",
          "Brazil",
          "Brazil",
          "Brazil",
          "Cameroon",
          "Cameroon",
          "Canada",
          "Chile",
          "Colombia",
          "Colombia",
          "Colombia",
          "Congo DR",
          "Congo DR",
          "Croatia",
          "Croatia",
          "Curaçao",
          "Czech Republic",
          "Czech Republic",
          "Denmark",
          "Denmark",
          "Denmark",
          "Denmark",
          "Ecuador",
          "Egypt",
          "Egypt",
          "England",
          "England",
          "England",
          "England",
          "Equatorial Guinea",
          "France",
          "France",
          "France",
          "France",
          "Gabon",
          "Gabon",
          "Gabon",
          "Germany",
          "Germany",
          "Germany",
          "Germany",
          "Ghana",
          "Ghana",
          "Ghana",
          "Greece",
          "Guinea",
          "Iceland",
          "Iran",
          "Israel",
          "Italy",
          "Italy",
          "Italy",
          "Ivory Coast",
          "Ivory Coast",
          "Jamaica",
          "Japan",
          "Japan",
          "Kenya",
          "Mali",
          "Mexico",
          "Morocco",
          "Netherlands",
          "Netherlands",
          "Netherlands",
          "Netherlands",
          "New Zealand",
          "Nigeria",
          "Nigeria",
          "Nigeria",
          "Northern Ireland",
          "Northern Ireland",
          "Norway",
          "Norway",
          "Paraguay",
          "Paraguay",
          "Philippines",
          "Poland",
          "Poland",
          "Portugal",
          "Portugal",
          "Portugal",
          "Portugal",
          "Republic of Ireland",
          "Republic of Ireland",
          "Republic of Ireland",
          "Republic of Ireland",
          "Romania",
          "Scotland",
          "Scotland",
          "Senegal",
          "Senegal",
          "Senegal",
          "Serbia",
          "Serbia",
          "Slovakia",
          "Slovenia",
          "South Korea",
          "South Korea",
          "Spain",
          "Spain",
          "Spain",
          "Spain",
          "Sweden",
          "Sweden",
          "Switzerland",
          "Switzerland",
          "Togo",
          "Turkey",
          "Turkey",
          "USA",
          "USA",
          "Ukraine",
          "Ukraine",
          "Uruguay",
          "Uruguay",
          "Venezuela",
          "Wales",
          "Wales",
          "Wales",
          "Wales",
          "Defender",
          "Forward",
          "Goalkeeper",
          "Midfielder"
         ],
         "name": "",
         "parents": [
          "Forward",
          "Midfielder",
          "Defender",
          "Forward",
          "Goalkeeper",
          "Midfielder",
          "Midfielder",
          "Goalkeeper",
          "Midfielder",
          "Defender",
          "Forward",
          "Defender",
          "Forward",
          "Midfielder",
          "Forward",
          "Defender",
          "Goalkeeper",
          "Defender",
          "Forward",
          "Goalkeeper",
          "Midfielder",
          "Defender",
          "Midfielder",
          "Forward",
          "Forward",
          "Defender",
          "Forward",
          "Midfielder",
          "Forward",
          "Midfielder",
          "Defender",
          "Midfielder",
          "Midfielder",
          "Forward",
          "Goalkeeper",
          "Defender",
          "Forward",
          "Goalkeeper",
          "Midfielder",
          "Defender",
          "Forward",
          "Midfielder",
          "Defender",
          "Forward",
          "Goalkeeper",
          "Midfielder",
          "Midfielder",
          "Defender",
          "Forward",
          "Goalkeeper",
          "Midfielder",
          "Defender",
          "Forward",
          "Midfielder",
          "Defender",
          "Forward",
          "Goalkeeper",
          "Midfielder",
          "Defender",
          "Forward",
          "Midfielder",
          "Defender",
          "Midfielder",
          "Midfielder",
          "Forward",
          "Midfielder",
          "Defender",
          "Forward",
          "Midfielder",
          "Defender",
          "Midfielder",
          "Defender",
          "Defender",
          "Forward",
          "Midfielder",
          "Midfielder",
          "Forward",
          "Midfielder",
          "Defender",
          "Forward",
          "Goalkeeper",
          "Midfielder",
          "Forward",
          "Defender",
          "Forward",
          "Midfielder",
          "Defender",
          "Midfielder",
          "Forward",
          "Midfielder",
          "Defender",
          "Midfielder",
          "Goalkeeper",
          "Defender",
          "Goalkeeper",
          "Defender",
          "Forward",
          "Goalkeeper",
          "Midfielder",
          "Defender",
          "Forward",
          "Goalkeeper",
          "Midfielder",
          "Forward",
          "Defender",
          "Midfielder",
          "Defender",
          "Forward",
          "Midfielder",
          "Forward",
          "Midfielder",
          "Goalkeeper",
          "Defender",
          "Forward",
          "Midfielder",
          "Defender",
          "Forward",
          "Goalkeeper",
          "Midfielder",
          "Defender",
          "Midfielder",
          "Defender",
          "Midfielder",
          "Midfielder",
          "Defender",
          "Forward",
          "Defender",
          "Midfielder",
          "Forward",
          "Midfielder",
          "Defender",
          "Midfielder",
          "Forward",
          "Defender",
          "Forward",
          "Goalkeeper",
          "Midfielder",
          "",
          "",
          "",
          ""
         ],
         "type": "sunburst",
         "values": [
          19,
          27,
          80,
          100,
          6,
          29,
          25,
          34,
          29,
          4,
          28,
          125,
          116,
          121,
          31,
          24,
          24,
          69,
          137,
          76,
          216,
          44,
          22,
          32,
          20,
          36,
          15,
          37,
          20,
          7,
          13,
          32,
          11,
          13,
          7,
          55,
          19,
          69,
          93,
          6,
          42,
          8,
          1096,
          630,
          173,
          1317,
          24,
          309,
          139,
          33,
          283,
          38,
          36,
          21,
          158,
          2,
          32,
          164,
          30,
          20,
          37,
          57,
          25,
          95,
          19,
          18,
          59,
          14,
          37,
          48,
          66,
          48,
          17,
          38,
          13,
          33,
          63,
          21,
          187,
          47,
          2,
          91,
          38,
          8,
          95,
          40,
          60,
          3,
          47,
          33,
          23,
          10,
          38,
          25,
          50,
          86,
          24,
          37,
          205,
          157,
          32,
          2,
          108,
          23,
          82,
          220,
          1,
          54,
          93,
          37,
          67,
          38,
          11,
          31,
          18,
          216,
          134,
          125,
          247,
          30,
          17,
          62,
          53,
          16,
          6,
          25,
          55,
          6,
          9,
          14,
          3,
          34,
          32,
          70,
          20,
          18,
          28,
          3398,
          2201,
          764,
          4114
         ]
        }
       ],
       "layout": {
        "height": 800,
        "legend": {
         "tracegroupgap": 0
        },
        "margin": {
         "t": 60
        },
        "template": {
         "data": {
          "bar": [
           {
            "error_x": {
             "color": "#2a3f5f"
            },
            "error_y": {
             "color": "#2a3f5f"
            },
            "marker": {
             "line": {
              "color": "#E5ECF6",
              "width": 0.5
             },
             "pattern": {
              "fillmode": "overlay",
              "size": 10,
              "solidity": 0.2
             }
            },
            "type": "bar"
           }
          ],
          "barpolar": [
           {
            "marker": {
             "line": {
              "color": "#E5ECF6",
              "width": 0.5
             },
             "pattern": {
              "fillmode": "overlay",
              "size": 10,
              "solidity": 0.2
             }
            },
            "type": "barpolar"
           }
          ],
          "carpet": [
           {
            "aaxis": {
             "endlinecolor": "#2a3f5f",
             "gridcolor": "white",
             "linecolor": "white",
             "minorgridcolor": "white",
             "startlinecolor": "#2a3f5f"
            },
            "baxis": {
             "endlinecolor": "#2a3f5f",
             "gridcolor": "white",
             "linecolor": "white",
             "minorgridcolor": "white",
             "startlinecolor": "#2a3f5f"
            },
            "type": "carpet"
           }
          ],
          "choropleth": [
           {
            "colorbar": {
             "outlinewidth": 0,
             "ticks": ""
            },
            "type": "choropleth"
           }
          ],
          "contour": [
           {
            "colorbar": {
             "outlinewidth": 0,
             "ticks": ""
            },
            "colorscale": [
             [
              0,
              "#0d0887"
             ],
             [
              0.1111111111111111,
              "#46039f"
             ],
             [
              0.2222222222222222,
              "#7201a8"
             ],
             [
              0.3333333333333333,
              "#9c179e"
             ],
             [
              0.4444444444444444,
              "#bd3786"
             ],
             [
              0.5555555555555556,
              "#d8576b"
             ],
             [
              0.6666666666666666,
              "#ed7953"
             ],
             [
              0.7777777777777778,
              "#fb9f3a"
             ],
             [
              0.8888888888888888,
              "#fdca26"
             ],
             [
              1,
              "#f0f921"
             ]
            ],
            "type": "contour"
           }
          ],
          "contourcarpet": [
           {
            "colorbar": {
             "outlinewidth": 0,
             "ticks": ""
            },
            "type": "contourcarpet"
           }
          ],
          "heatmap": [
           {
            "colorbar": {
             "outlinewidth": 0,
             "ticks": ""
            },
            "colorscale": [
             [
              0,
              "#0d0887"
             ],
             [
              0.1111111111111111,
              "#46039f"
             ],
             [
              0.2222222222222222,
              "#7201a8"
             ],
             [
              0.3333333333333333,
              "#9c179e"
             ],
             [
              0.4444444444444444,
              "#bd3786"
             ],
             [
              0.5555555555555556,
              "#d8576b"
             ],
             [
              0.6666666666666666,
              "#ed7953"
             ],
             [
              0.7777777777777778,
              "#fb9f3a"
             ],
             [
              0.8888888888888888,
              "#fdca26"
             ],
             [
              1,
              "#f0f921"
             ]
            ],
            "type": "heatmap"
           }
          ],
          "heatmapgl": [
           {
            "colorbar": {
             "outlinewidth": 0,
             "ticks": ""
            },
            "colorscale": [
             [
              0,
              "#0d0887"
             ],
             [
              0.1111111111111111,
              "#46039f"
             ],
             [
              0.2222222222222222,
              "#7201a8"
             ],
             [
              0.3333333333333333,
              "#9c179e"
             ],
             [
              0.4444444444444444,
              "#bd3786"
             ],
             [
              0.5555555555555556,
              "#d8576b"
             ],
             [
              0.6666666666666666,
              "#ed7953"
             ],
             [
              0.7777777777777778,
              "#fb9f3a"
             ],
             [
              0.8888888888888888,
              "#fdca26"
             ],
             [
              1,
              "#f0f921"
             ]
            ],
            "type": "heatmapgl"
           }
          ],
          "histogram": [
           {
            "marker": {
             "pattern": {
              "fillmode": "overlay",
              "size": 10,
              "solidity": 0.2
             }
            },
            "type": "histogram"
           }
          ],
          "histogram2d": [
           {
            "colorbar": {
             "outlinewidth": 0,
             "ticks": ""
            },
            "colorscale": [
             [
              0,
              "#0d0887"
             ],
             [
              0.1111111111111111,
              "#46039f"
             ],
             [
              0.2222222222222222,
              "#7201a8"
             ],
             [
              0.3333333333333333,
              "#9c179e"
             ],
             [
              0.4444444444444444,
              "#bd3786"
             ],
             [
              0.5555555555555556,
              "#d8576b"
             ],
             [
              0.6666666666666666,
              "#ed7953"
             ],
             [
              0.7777777777777778,
              "#fb9f3a"
             ],
             [
              0.8888888888888888,
              "#fdca26"
             ],
             [
              1,
              "#f0f921"
             ]
            ],
            "type": "histogram2d"
           }
          ],
          "histogram2dcontour": [
           {
            "colorbar": {
             "outlinewidth": 0,
             "ticks": ""
            },
            "colorscale": [
             [
              0,
              "#0d0887"
             ],
             [
              0.1111111111111111,
              "#46039f"
             ],
             [
              0.2222222222222222,
              "#7201a8"
             ],
             [
              0.3333333333333333,
              "#9c179e"
             ],
             [
              0.4444444444444444,
              "#bd3786"
             ],
             [
              0.5555555555555556,
              "#d8576b"
             ],
             [
              0.6666666666666666,
              "#ed7953"
             ],
             [
              0.7777777777777778,
              "#fb9f3a"
             ],
             [
              0.8888888888888888,
              "#fdca26"
             ],
             [
              1,
              "#f0f921"
             ]
            ],
            "type": "histogram2dcontour"
           }
          ],
          "mesh3d": [
           {
            "colorbar": {
             "outlinewidth": 0,
             "ticks": ""
            },
            "type": "mesh3d"
           }
          ],
          "parcoords": [
           {
            "line": {
             "colorbar": {
              "outlinewidth": 0,
              "ticks": ""
             }
            },
            "type": "parcoords"
           }
          ],
          "pie": [
           {
            "automargin": true,
            "type": "pie"
           }
          ],
          "scatter": [
           {
            "fillpattern": {
             "fillmode": "overlay",
             "size": 10,
             "solidity": 0.2
            },
            "type": "scatter"
           }
          ],
          "scatter3d": [
           {
            "line": {
             "colorbar": {
              "outlinewidth": 0,
              "ticks": ""
             }
            },
            "marker": {
             "colorbar": {
              "outlinewidth": 0,
              "ticks": ""
             }
            },
            "type": "scatter3d"
           }
          ],
          "scattercarpet": [
           {
            "marker": {
             "colorbar": {
              "outlinewidth": 0,
              "ticks": ""
             }
            },
            "type": "scattercarpet"
           }
          ],
          "scattergeo": [
           {
            "marker": {
             "colorbar": {
              "outlinewidth": 0,
              "ticks": ""
             }
            },
            "type": "scattergeo"
           }
          ],
          "scattergl": [
           {
            "marker": {
             "colorbar": {
              "outlinewidth": 0,
              "ticks": ""
             }
            },
            "type": "scattergl"
           }
          ],
          "scattermapbox": [
           {
            "marker": {
             "colorbar": {
              "outlinewidth": 0,
              "ticks": ""
             }
            },
            "type": "scattermapbox"
           }
          ],
          "scatterpolar": [
           {
            "marker": {
             "colorbar": {
              "outlinewidth": 0,
              "ticks": ""
             }
            },
            "type": "scatterpolar"
           }
          ],
          "scatterpolargl": [
           {
            "marker": {
             "colorbar": {
              "outlinewidth": 0,
              "ticks": ""
             }
            },
            "type": "scatterpolargl"
           }
          ],
          "scatterternary": [
           {
            "marker": {
             "colorbar": {
              "outlinewidth": 0,
              "ticks": ""
             }
            },
            "type": "scatterternary"
           }
          ],
          "surface": [
           {
            "colorbar": {
             "outlinewidth": 0,
             "ticks": ""
            },
            "colorscale": [
             [
              0,
              "#0d0887"
             ],
             [
              0.1111111111111111,
              "#46039f"
             ],
             [
              0.2222222222222222,
              "#7201a8"
             ],
             [
              0.3333333333333333,
              "#9c179e"
             ],
             [
              0.4444444444444444,
              "#bd3786"
             ],
             [
              0.5555555555555556,
              "#d8576b"
             ],
             [
              0.6666666666666666,
              "#ed7953"
             ],
             [
              0.7777777777777778,
              "#fb9f3a"
             ],
             [
              0.8888888888888888,
              "#fdca26"
             ],
             [
              1,
              "#f0f921"
             ]
            ],
            "type": "surface"
           }
          ],
          "table": [
           {
            "cells": {
             "fill": {
              "color": "#EBF0F8"
             },
             "line": {
              "color": "white"
             }
            },
            "header": {
             "fill": {
              "color": "#C8D4E3"
             },
             "line": {
              "color": "white"
             }
            },
            "type": "table"
           }
          ]
         },
         "layout": {
          "annotationdefaults": {
           "arrowcolor": "#2a3f5f",
           "arrowhead": 0,
           "arrowwidth": 1
          },
          "autotypenumbers": "strict",
          "coloraxis": {
           "colorbar": {
            "outlinewidth": 0,
            "ticks": ""
           }
          },
          "colorscale": {
           "diverging": [
            [
             0,
             "#8e0152"
            ],
            [
             0.1,
             "#c51b7d"
            ],
            [
             0.2,
             "#de77ae"
            ],
            [
             0.3,
             "#f1b6da"
            ],
            [
             0.4,
             "#fde0ef"
            ],
            [
             0.5,
             "#f7f7f7"
            ],
            [
             0.6,
             "#e6f5d0"
            ],
            [
             0.7,
             "#b8e186"
            ],
            [
             0.8,
             "#7fbc41"
            ],
            [
             0.9,
             "#4d9221"
            ],
            [
             1,
             "#276419"
            ]
           ],
           "sequential": [
            [
             0,
             "#0d0887"
            ],
            [
             0.1111111111111111,
             "#46039f"
            ],
            [
             0.2222222222222222,
             "#7201a8"
            ],
            [
             0.3333333333333333,
             "#9c179e"
            ],
            [
             0.4444444444444444,
             "#bd3786"
            ],
            [
             0.5555555555555556,
             "#d8576b"
            ],
            [
             0.6666666666666666,
             "#ed7953"
            ],
            [
             0.7777777777777778,
             "#fb9f3a"
            ],
            [
             0.8888888888888888,
             "#fdca26"
            ],
            [
             1,
             "#f0f921"
            ]
           ],
           "sequentialminus": [
            [
             0,
             "#0d0887"
            ],
            [
             0.1111111111111111,
             "#46039f"
            ],
            [
             0.2222222222222222,
             "#7201a8"
            ],
            [
             0.3333333333333333,
             "#9c179e"
            ],
            [
             0.4444444444444444,
             "#bd3786"
            ],
            [
             0.5555555555555556,
             "#d8576b"
            ],
            [
             0.6666666666666666,
             "#ed7953"
            ],
            [
             0.7777777777777778,
             "#fb9f3a"
            ],
            [
             0.8888888888888888,
             "#fdca26"
            ],
            [
             1,
             "#f0f921"
            ]
           ]
          },
          "colorway": [
           "#636efa",
           "#EF553B",
           "#00cc96",
           "#ab63fa",
           "#FFA15A",
           "#19d3f3",
           "#FF6692",
           "#B6E880",
           "#FF97FF",
           "#FECB52"
          ],
          "font": {
           "color": "#2a3f5f"
          },
          "geo": {
           "bgcolor": "white",
           "lakecolor": "white",
           "landcolor": "#E5ECF6",
           "showlakes": true,
           "showland": true,
           "subunitcolor": "white"
          },
          "hoverlabel": {
           "align": "left"
          },
          "hovermode": "closest",
          "mapbox": {
           "style": "light"
          },
          "paper_bgcolor": "white",
          "plot_bgcolor": "#E5ECF6",
          "polar": {
           "angularaxis": {
            "gridcolor": "white",
            "linecolor": "white",
            "ticks": ""
           },
           "bgcolor": "#E5ECF6",
           "radialaxis": {
            "gridcolor": "white",
            "linecolor": "white",
            "ticks": ""
           }
          },
          "scene": {
           "xaxis": {
            "backgroundcolor": "#E5ECF6",
            "gridcolor": "white",
            "gridwidth": 2,
            "linecolor": "white",
            "showbackground": true,
            "ticks": "",
            "zerolinecolor": "white"
           },
           "yaxis": {
            "backgroundcolor": "#E5ECF6",
            "gridcolor": "white",
            "gridwidth": 2,
            "linecolor": "white",
            "showbackground": true,
            "ticks": "",
            "zerolinecolor": "white"
           },
           "zaxis": {
            "backgroundcolor": "#E5ECF6",
            "gridcolor": "white",
            "gridwidth": 2,
            "linecolor": "white",
            "showbackground": true,
            "ticks": "",
            "zerolinecolor": "white"
           }
          },
          "shapedefaults": {
           "line": {
            "color": "#2a3f5f"
           }
          },
          "ternary": {
           "aaxis": {
            "gridcolor": "white",
            "linecolor": "white",
            "ticks": ""
           },
           "baxis": {
            "gridcolor": "white",
            "linecolor": "white",
            "ticks": ""
           },
           "bgcolor": "#E5ECF6",
           "caxis": {
            "gridcolor": "white",
            "linecolor": "white",
            "ticks": ""
           }
          },
          "title": {
           "x": 0.05
          },
          "xaxis": {
           "automargin": true,
           "gridcolor": "white",
           "linecolor": "white",
           "ticks": "",
           "title": {
            "standoff": 15
           },
           "zerolinecolor": "white",
           "zerolinewidth": 2
          },
          "yaxis": {
           "automargin": true,
           "gridcolor": "white",
           "linecolor": "white",
           "ticks": "",
           "title": {
            "standoff": 15
           },
           "zerolinecolor": "white",
           "zerolinewidth": 2
          }
         }
        },
        "title": {
         "font": {
          "color": "black",
          "family": "Courier New, monospace",
          "size": 30
         },
         "text": "<b>Players position by country <b>"
        },
        "width": 800
       }
      }
     },
     "metadata": {},
     "output_type": "display_data"
    }
   ],
   "source": [
    "fig = px.sunburst(player_appeared, \n",
    "                  path=['position', 'nationality'], \n",
    "                  values='appearances_overall', \n",
    "                  )\n",
    "fig.update_layout(title_text='<b>Players position by country <b>', \n",
    "                  titlefont=dict(color='black', \n",
    "                            size=30, \n",
    "                            family=\"Courier New, monospace\",),\n",
    "                  width=800,\n",
    "                  height=800,\n",
    "                  )\n",
    "fig.show()"
   ]
  },
  {
   "cell_type": "code",
   "execution_count": 40,
   "metadata": {},
   "outputs": [
    {
     "name": "stdout",
     "output_type": "stream",
     "text": [
      "29.98409542743539\n"
     ]
    },
    {
     "data": {
      "application/vnd.plotly.v1+json": {
       "config": {
        "plotlyServerURL": "https://plot.ly"
       },
       "data": [
        {
         "alignmentgroup": "True",
         "hovertemplate": "age=%{x}<br>Current Club=%{y}<extra></extra>",
         "legendgroup": "",
         "marker": {
          "color": "#F8766D"
         },
         "name": "",
         "notched": false,
         "offsetgroup": "",
         "orientation": "h",
         "showlegend": false,
         "type": "box",
         "x": [
          32,
          35,
          31,
          31,
          22,
          24,
          25,
          29,
          27,
          34,
          28,
          31,
          26,
          26,
          24,
          35,
          33,
          25,
          30,
          27,
          26,
          32,
          29,
          29,
          26,
          31,
          25,
          33,
          28,
          29,
          29,
          29,
          33,
          29,
          31,
          31,
          26,
          26,
          26,
          28,
          36,
          32,
          31,
          33,
          22,
          34,
          26,
          30,
          26,
          27,
          29,
          37,
          33,
          28,
          42,
          32,
          32,
          37,
          35,
          28,
          29,
          34,
          25,
          29,
          39,
          29,
          34,
          32,
          22,
          22,
          28,
          34,
          30,
          27,
          28,
          30,
          29,
          34,
          41,
          26,
          21,
          27,
          23,
          30,
          27,
          30,
          36,
          31,
          31,
          33,
          35,
          33,
          36,
          28,
          32,
          33,
          24,
          32,
          30,
          30,
          31,
          30,
          36,
          31,
          32,
          32,
          31,
          29,
          29,
          33,
          29,
          33,
          32,
          27,
          33,
          30,
          33,
          31,
          32,
          35,
          31,
          31,
          33,
          25,
          33,
          31,
          32,
          35,
          36,
          30,
          26,
          31,
          29,
          23,
          33,
          26,
          26,
          23,
          34,
          28,
          29,
          25,
          27,
          22,
          25,
          25,
          22,
          31,
          29,
          23,
          30,
          26,
          28,
          28,
          28,
          30,
          30,
          34,
          31,
          32,
          30,
          28,
          34,
          32,
          33,
          29,
          37,
          37,
          28,
          31,
          29,
          33,
          26,
          31,
          34,
          29,
          25,
          34,
          36,
          32,
          27,
          31,
          28,
          38,
          34,
          24,
          29,
          31,
          33,
          24,
          32,
          29,
          29,
          26,
          24,
          32,
          27,
          28,
          33,
          30,
          35,
          28,
          32,
          31,
          26,
          27,
          26,
          25,
          28,
          33,
          25,
          28,
          30,
          27,
          28,
          21,
          25,
          34,
          31,
          36,
          29,
          33,
          27,
          35,
          26,
          35,
          30,
          36,
          34,
          28,
          31,
          31,
          30,
          27,
          29,
          39,
          29,
          36,
          32,
          28,
          25,
          35,
          28,
          26,
          31,
          32,
          31,
          35,
          28,
          26,
          33,
          33,
          30,
          25,
          28,
          34,
          31,
          32,
          28,
          26,
          30,
          23,
          38,
          30,
          32,
          23,
          27,
          30,
          25,
          24,
          34,
          43,
          25,
          32,
          28,
          29,
          24,
          35,
          21,
          25,
          28,
          28,
          27,
          31,
          32,
          33,
          31,
          24,
          27,
          32,
          25,
          33,
          36,
          28,
          27,
          31,
          35,
          37,
          34,
          28,
          26,
          25,
          30,
          31,
          29,
          34,
          30,
          26,
          28,
          31,
          25,
          23,
          27,
          26,
          32,
          30,
          29,
          32,
          27,
          31,
          30,
          24,
          29,
          35,
          23,
          33,
          34,
          33,
          32,
          31,
          20,
          25,
          30,
          28,
          30,
          32,
          30,
          33,
          26,
          32,
          23,
          33,
          21,
          25,
          26,
          32,
          34,
          33,
          29,
          22,
          32,
          38,
          28,
          28,
          37,
          35,
          30,
          28,
          30,
          22,
          32,
          35,
          33,
          31,
          27,
          36,
          30,
          27,
          28,
          27,
          31,
          30,
          30,
          32,
          34,
          34,
          25,
          22,
          35,
          25,
          30,
          32,
          37,
          32,
          31,
          32,
          30,
          29,
          30,
          30,
          35,
          41,
          40,
          37,
          40,
          30,
          26,
          22,
          33,
          27,
          30,
          22,
          27,
          31,
          25,
          31,
          27,
          28,
          25,
          31,
          26,
          30,
          26,
          35,
          30,
          31,
          32,
          29,
          32,
          28,
          25,
          23,
          26,
          34,
          32,
          33,
          28,
          29,
          35,
          22,
          30,
          27,
          24,
          32,
          35,
          35,
          25,
          29,
          33,
          24,
          31,
          35,
          29,
          34,
          29,
          30,
          35,
          36,
          30,
          37,
          34,
          28,
          37,
          31,
          33,
          38,
          37,
          31,
          27,
          37,
          34,
          30,
          33,
          22,
          28,
          33,
          34,
          24,
          33,
          31,
          33,
          24,
          36,
          30,
          23,
          34,
          23,
          29,
          35,
          34,
          28,
          31,
          28,
          31,
          28,
          36,
          31,
          35,
          38,
          28,
          40,
          29,
          27,
          29,
          34,
          31,
          30,
          23,
          27,
          30,
          25,
          26,
          37
         ],
         "x0": " ",
         "xaxis": "x",
         "y": [
          "West Ham United",
          "Burnley",
          "Huddersfield Town",
          "Arsenal",
          "Huddersfield Town",
          "Crystal Palace",
          "Huddersfield Town",
          "Watford",
          "Fulham",
          "Liverpool",
          "Watford",
          "AFC Bournemouth",
          "Huddersfield Town",
          "Wolverhampton Wanderers",
          "Everton",
          "Watford",
          "Leicester City",
          "Arsenal",
          "Liverpool",
          "Fulham",
          "Arsenal",
          "Southampton",
          "Liverpool",
          "Huddersfield Town",
          "Crystal Palace",
          "Arsenal",
          "West Ham United",
          "Manchester United",
          "Fulham",
          "Brighton & Hove Albion",
          "Liverpool",
          "Chelsea",
          "Manchester United",
          "Everton",
          "Watford",
          "Fulham",
          "Fulham",
          "Chelsea",
          "Manchester United",
          "Liverpool",
          "AFC Bournemouth",
          "West Ham United",
          "Crystal Palace",
          "West Ham United",
          "Manchester United",
          "West Ham United",
          "Southampton",
          "Brighton & Hove Albion",
          "Manchester United",
          "Newcastle United",
          "Chelsea",
          "Manchester United",
          "Cardiff City",
          "West Ham United",
          "AFC Bournemouth",
          "Burnley",
          "Burnley",
          "Manchester United",
          "AFC Bournemouth",
          "Manchester City",
          "Newcastle United",
          "Crystal Palace",
          "Leicester City",
          "Tottenham Hotspur",
          "Watford",
          "Burnley",
          "Huddersfield Town",
          "Burnley",
          "Watford",
          "West Ham United",
          "Manchester City",
          "Brighton & Hove Albion",
          "Everton",
          "Brighton & Hove Albion",
          "Manchester City",
          "Arsenal",
          "Cardiff City",
          "Cardiff City",
          "Brighton & Hove Albion",
          "Leicester City",
          "Chelsea",
          "Cardiff City",
          "Southampton",
          "AFC Bournemouth",
          "Fulham",
          "Arsenal",
          "West Ham United",
          "Southampton",
          "Everton",
          "Chelsea",
          "Chelsea",
          "Southampton",
          "AFC Bournemouth",
          "Burnley",
          "Crystal Palace",
          "Huddersfield Town",
          "AFC Bournemouth",
          "Manchester United",
          "Burnley",
          "Newcastle United",
          "Crystal Palace",
          "Tottenham Hotspur",
          "Leicester City",
          "Watford",
          "Huddersfield Town",
          "Newcastle United",
          "Huddersfield Town",
          "Crystal Palace",
          "Wolverhampton Wanderers",
          "Watford",
          "Fulham",
          "Brighton & Hove Albion",
          "AFC Bournemouth",
          "Leicester City",
          "Liverpool",
          "Southampton",
          "Huddersfield Town",
          "Manchester City",
          "Tottenham Hotspur",
          "Leicester City",
          "Cardiff City",
          "Arsenal",
          "Watford",
          "AFC Bournemouth",
          "Brighton & Hove Albion",
          "Manchester United",
          "Cardiff City",
          "Chelsea",
          "Manchester City",
          "Chelsea",
          "Tottenham Hotspur",
          "Brighton & Hove Albion",
          "Newcastle United",
          "West Ham United",
          "Liverpool",
          "Tottenham Hotspur",
          "Leicester City",
          "Huddersfield Town",
          "Fulham",
          "Arsenal",
          "AFC Bournemouth",
          "Wolverhampton Wanderers",
          "Liverpool",
          "Watford",
          "Everton",
          "AFC Bournemouth",
          "Burnley",
          "Chelsea",
          "Manchester City",
          "Arsenal",
          "Huddersfield Town",
          "AFC Bournemouth",
          "Chelsea",
          "Manchester United",
          "Tottenham Hotspur",
          "Huddersfield Town",
          "Tottenham Hotspur",
          "Watford",
          "West Ham United",
          "Manchester City",
          "Newcastle United",
          "Liverpool",
          "Fulham",
          "Manchester United",
          "Newcastle United",
          "West Ham United",
          "Tottenham Hotspur",
          "Manchester City",
          "Huddersfield Town",
          "Newcastle United",
          "Brighton & Hove Albion",
          "Fulham",
          "Leicester City",
          "Watford",
          "Southampton",
          "Manchester United",
          "Manchester City",
          "Brighton & Hove Albion",
          "Chelsea",
          "Cardiff City",
          "Tottenham Hotspur",
          "Liverpool",
          "Watford",
          "Brighton & Hove Albion",
          "Chelsea",
          "West Ham United",
          "Arsenal",
          "Cardiff City",
          "Everton",
          "Leicester City",
          "Cardiff City",
          "Tottenham Hotspur",
          "Leicester City",
          "Tottenham Hotspur",
          "Leicester City",
          "Fulham",
          "Arsenal",
          "Wolverhampton Wanderers",
          "Arsenal",
          "Tottenham Hotspur",
          "Tottenham Hotspur",
          "Fulham",
          "Everton",
          "Manchester City",
          "Watford",
          "Newcastle United",
          "Huddersfield Town",
          "West Ham United",
          "Wolverhampton Wanderers",
          "Burnley",
          "AFC Bournemouth",
          "Southampton",
          "West Ham United",
          "Newcastle United",
          "Newcastle United",
          "Manchester United",
          "Leicester City",
          "Crystal Palace",
          "Everton",
          "Liverpool",
          "Burnley",
          "Crystal Palace",
          "Southampton",
          "Leicester City",
          "Southampton",
          "Tottenham Hotspur",
          "Southampton",
          "Huddersfield Town",
          "West Ham United",
          "Newcastle United",
          "Cardiff City",
          "Fulham",
          "Burnley",
          "AFC Bournemouth",
          "Crystal Palace",
          "AFC Bournemouth",
          "Manchester United",
          "Wolverhampton Wanderers",
          "Cardiff City",
          "Fulham",
          "Liverpool",
          "Burnley",
          "Cardiff City",
          "Huddersfield Town",
          "Liverpool",
          "Crystal Palace",
          "Burnley",
          "Wolverhampton Wanderers",
          "Manchester City",
          "Huddersfield Town",
          "Huddersfield Town",
          "Huddersfield Town",
          "Newcastle United",
          "Everton",
          "Wolverhampton Wanderers",
          "Leicester City",
          "Crystal Palace",
          "Liverpool",
          "Everton",
          "AFC Bournemouth",
          "Chelsea",
          "Manchester United",
          "Watford",
          "Brighton & Hove Albion",
          "Newcastle United",
          "Arsenal",
          "Cardiff City",
          "AFC Bournemouth",
          "Southampton",
          "Tottenham Hotspur",
          "Manchester United",
          "Crystal Palace",
          "Huddersfield Town",
          "AFC Bournemouth",
          "Brighton & Hove Albion",
          "Cardiff City",
          "Huddersfield Town",
          "Leicester City",
          "Southampton",
          "Leicester City",
          "Watford",
          "Cardiff City",
          "Chelsea",
          "Manchester City",
          "Burnley",
          "Fulham",
          "Tottenham Hotspur",
          "Arsenal",
          "Everton",
          "Manchester City",
          "Tottenham Hotspur",
          "Huddersfield Town",
          "Arsenal",
          "Fulham",
          "Wolverhampton Wanderers",
          "Cardiff City",
          "Cardiff City",
          "Everton",
          "Brighton & Hove Albion",
          "Wolverhampton Wanderers",
          "Manchester City",
          "AFC Bournemouth",
          "Brighton & Hove Albion",
          "Cardiff City",
          "Everton",
          "West Ham United",
          "Tottenham Hotspur",
          "Arsenal",
          "Fulham",
          "Crystal Palace",
          "Tottenham Hotspur",
          "Crystal Palace",
          "Manchester United",
          "AFC Bournemouth",
          "Crystal Palace",
          "Southampton",
          "West Ham United",
          "Leicester City",
          "Watford",
          "Chelsea",
          "Fulham",
          "Manchester United",
          "Southampton",
          "West Ham United",
          "AFC Bournemouth",
          "West Ham United",
          "Manchester United",
          "Newcastle United",
          "Crystal Palace",
          "Brighton & Hove Albion",
          "Manchester United",
          "Everton",
          "Burnley",
          "Chelsea",
          "Brighton & Hove Albion",
          "Huddersfield Town",
          "Wolverhampton Wanderers",
          "Newcastle United",
          "Southampton",
          "Manchester United",
          "Arsenal",
          "Burnley",
          "Huddersfield Town",
          "Wolverhampton Wanderers",
          "Crystal Palace",
          "Fulham",
          "Southampton",
          "Arsenal",
          "Everton",
          "Southampton",
          "West Ham United",
          "Tottenham Hotspur",
          "Crystal Palace",
          "Newcastle United",
          "Watford",
          "Newcastle United",
          "Arsenal",
          "Southampton",
          "Liverpool",
          "Wolverhampton Wanderers",
          "Everton",
          "Tottenham Hotspur",
          "Tottenham Hotspur",
          "Chelsea",
          "Liverpool",
          "Arsenal",
          "Leicester City",
          "AFC Bournemouth",
          "Southampton",
          "Watford",
          "AFC Bournemouth",
          "Cardiff City",
          "Fulham",
          "Cardiff City",
          "Manchester United",
          "Manchester City",
          "Manchester City",
          "Tottenham Hotspur",
          "Chelsea",
          "Leicester City",
          "Southampton",
          "Cardiff City",
          "West Ham United",
          "Crystal Palace",
          "Brighton & Hove Albion",
          "Crystal Palace",
          "Newcastle United",
          "Manchester United",
          "Tottenham Hotspur",
          "West Ham United",
          "Chelsea",
          "Burnley",
          "Arsenal",
          "Burnley",
          "Everton",
          "Manchester United",
          "Huddersfield Town",
          "Manchester City",
          "Arsenal",
          "Southampton",
          "Leicester City",
          "Liverpool",
          "Manchester City",
          "Huddersfield Town",
          "Huddersfield Town",
          "Wolverhampton Wanderers",
          "Cardiff City",
          "Leicester City",
          "Everton",
          "Manchester City",
          "Arsenal",
          "Burnley",
          "Newcastle United",
          "West Ham United",
          "Liverpool",
          "Watford",
          "Wolverhampton Wanderers",
          "Manchester United",
          "Newcastle United",
          "Chelsea",
          "Wolverhampton Wanderers",
          "Wolverhampton Wanderers",
          "Chelsea",
          "Wolverhampton Wanderers",
          "Wolverhampton Wanderers",
          "Southampton",
          "AFC Bournemouth",
          "West Ham United",
          "Fulham",
          "Fulham",
          "Liverpool",
          "Southampton",
          "AFC Bournemouth",
          "Burnley",
          "West Ham United",
          "Crystal Palace",
          "Manchester United",
          "Arsenal",
          "Everton",
          "Newcastle United",
          "Cardiff City",
          "Watford",
          "Tottenham Hotspur",
          "Manchester City",
          "Fulham",
          "Brighton & Hove Albion",
          "Southampton",
          "Leicester City",
          "Arsenal",
          "AFC Bournemouth",
          "Arsenal",
          "Brighton & Hove Albion",
          "Cardiff City",
          "Fulham",
          "Watford",
          "Arsenal",
          "Burnley",
          "AFC Bournemouth",
          "Huddersfield Town",
          "Southampton",
          "Burnley",
          "Southampton",
          "Newcastle United",
          "Manchester United",
          "Huddersfield Town",
          "Everton",
          "Fulham",
          "Fulham",
          "Tottenham Hotspur",
          "Fulham",
          "Watford",
          "Everton",
          "Burnley",
          "Huddersfield Town",
          "Liverpool",
          "Watford",
          "Southampton",
          "AFC Bournemouth",
          "Crystal Palace",
          "Leicester City",
          "Cardiff City",
          "Chelsea",
          "Manchester United",
          "Tottenham Hotspur",
          "Tottenham Hotspur",
          "Manchester City",
          "Liverpool",
          "Crystal Palace",
          "Leicester City",
          "Southampton",
          "Chelsea",
          "Crystal Palace",
          "Watford",
          "Wolverhampton Wanderers",
          "Chelsea",
          "Wolverhampton Wanderers",
          "Liverpool",
          "Southampton",
          "Everton",
          "Newcastle United",
          "Leicester City",
          "Brighton & Hove Albion",
          "West Ham United"
         ],
         "y0": " ",
         "yaxis": "y"
        }
       ],
       "layout": {
        "boxmode": "group",
        "height": 750,
        "legend": {
         "tracegroupgap": 0
        },
        "shapes": [
         {
          "line": {
           "color": "black",
           "dash": "dot",
           "width": 3
          },
          "opacity": 1,
          "type": "line",
          "x0": 29.98409542743539,
          "x1": 29.98409542743539,
          "xref": "x",
          "y0": 0,
          "y1": 1,
          "yref": "paper"
         }
        ],
        "template": {
         "data": {
          "bar": [
           {
            "error_x": {
             "color": "rgb(51,51,51)"
            },
            "error_y": {
             "color": "rgb(51,51,51)"
            },
            "marker": {
             "line": {
              "color": "rgb(237,237,237)",
              "width": 0.5
             },
             "pattern": {
              "fillmode": "overlay",
              "size": 10,
              "solidity": 0.2
             }
            },
            "type": "bar"
           }
          ],
          "barpolar": [
           {
            "marker": {
             "line": {
              "color": "rgb(237,237,237)",
              "width": 0.5
             },
             "pattern": {
              "fillmode": "overlay",
              "size": 10,
              "solidity": 0.2
             }
            },
            "type": "barpolar"
           }
          ],
          "carpet": [
           {
            "aaxis": {
             "endlinecolor": "rgb(51,51,51)",
             "gridcolor": "white",
             "linecolor": "white",
             "minorgridcolor": "white",
             "startlinecolor": "rgb(51,51,51)"
            },
            "baxis": {
             "endlinecolor": "rgb(51,51,51)",
             "gridcolor": "white",
             "linecolor": "white",
             "minorgridcolor": "white",
             "startlinecolor": "rgb(51,51,51)"
            },
            "type": "carpet"
           }
          ],
          "choropleth": [
           {
            "colorbar": {
             "outlinewidth": 0,
             "tickcolor": "rgb(237,237,237)",
             "ticklen": 6,
             "ticks": "inside"
            },
            "type": "choropleth"
           }
          ],
          "contour": [
           {
            "colorbar": {
             "outlinewidth": 0,
             "tickcolor": "rgb(237,237,237)",
             "ticklen": 6,
             "ticks": "inside"
            },
            "colorscale": [
             [
              0,
              "rgb(20,44,66)"
             ],
             [
              1,
              "rgb(90,179,244)"
             ]
            ],
            "type": "contour"
           }
          ],
          "contourcarpet": [
           {
            "colorbar": {
             "outlinewidth": 0,
             "tickcolor": "rgb(237,237,237)",
             "ticklen": 6,
             "ticks": "inside"
            },
            "type": "contourcarpet"
           }
          ],
          "heatmap": [
           {
            "colorbar": {
             "outlinewidth": 0,
             "tickcolor": "rgb(237,237,237)",
             "ticklen": 6,
             "ticks": "inside"
            },
            "colorscale": [
             [
              0,
              "rgb(20,44,66)"
             ],
             [
              1,
              "rgb(90,179,244)"
             ]
            ],
            "type": "heatmap"
           }
          ],
          "heatmapgl": [
           {
            "colorbar": {
             "outlinewidth": 0,
             "tickcolor": "rgb(237,237,237)",
             "ticklen": 6,
             "ticks": "inside"
            },
            "colorscale": [
             [
              0,
              "rgb(20,44,66)"
             ],
             [
              1,
              "rgb(90,179,244)"
             ]
            ],
            "type": "heatmapgl"
           }
          ],
          "histogram": [
           {
            "marker": {
             "pattern": {
              "fillmode": "overlay",
              "size": 10,
              "solidity": 0.2
             }
            },
            "type": "histogram"
           }
          ],
          "histogram2d": [
           {
            "colorbar": {
             "outlinewidth": 0,
             "tickcolor": "rgb(237,237,237)",
             "ticklen": 6,
             "ticks": "inside"
            },
            "colorscale": [
             [
              0,
              "rgb(20,44,66)"
             ],
             [
              1,
              "rgb(90,179,244)"
             ]
            ],
            "type": "histogram2d"
           }
          ],
          "histogram2dcontour": [
           {
            "colorbar": {
             "outlinewidth": 0,
             "tickcolor": "rgb(237,237,237)",
             "ticklen": 6,
             "ticks": "inside"
            },
            "colorscale": [
             [
              0,
              "rgb(20,44,66)"
             ],
             [
              1,
              "rgb(90,179,244)"
             ]
            ],
            "type": "histogram2dcontour"
           }
          ],
          "mesh3d": [
           {
            "colorbar": {
             "outlinewidth": 0,
             "tickcolor": "rgb(237,237,237)",
             "ticklen": 6,
             "ticks": "inside"
            },
            "type": "mesh3d"
           }
          ],
          "parcoords": [
           {
            "line": {
             "colorbar": {
              "outlinewidth": 0,
              "tickcolor": "rgb(237,237,237)",
              "ticklen": 6,
              "ticks": "inside"
             }
            },
            "type": "parcoords"
           }
          ],
          "pie": [
           {
            "automargin": true,
            "type": "pie"
           }
          ],
          "scatter": [
           {
            "fillpattern": {
             "fillmode": "overlay",
             "size": 10,
             "solidity": 0.2
            },
            "type": "scatter"
           }
          ],
          "scatter3d": [
           {
            "line": {
             "colorbar": {
              "outlinewidth": 0,
              "tickcolor": "rgb(237,237,237)",
              "ticklen": 6,
              "ticks": "inside"
             }
            },
            "marker": {
             "colorbar": {
              "outlinewidth": 0,
              "tickcolor": "rgb(237,237,237)",
              "ticklen": 6,
              "ticks": "inside"
             }
            },
            "type": "scatter3d"
           }
          ],
          "scattercarpet": [
           {
            "marker": {
             "colorbar": {
              "outlinewidth": 0,
              "tickcolor": "rgb(237,237,237)",
              "ticklen": 6,
              "ticks": "inside"
             }
            },
            "type": "scattercarpet"
           }
          ],
          "scattergeo": [
           {
            "marker": {
             "colorbar": {
              "outlinewidth": 0,
              "tickcolor": "rgb(237,237,237)",
              "ticklen": 6,
              "ticks": "inside"
             }
            },
            "type": "scattergeo"
           }
          ],
          "scattergl": [
           {
            "marker": {
             "colorbar": {
              "outlinewidth": 0,
              "tickcolor": "rgb(237,237,237)",
              "ticklen": 6,
              "ticks": "inside"
             }
            },
            "type": "scattergl"
           }
          ],
          "scattermapbox": [
           {
            "marker": {
             "colorbar": {
              "outlinewidth": 0,
              "tickcolor": "rgb(237,237,237)",
              "ticklen": 6,
              "ticks": "inside"
             }
            },
            "type": "scattermapbox"
           }
          ],
          "scatterpolar": [
           {
            "marker": {
             "colorbar": {
              "outlinewidth": 0,
              "tickcolor": "rgb(237,237,237)",
              "ticklen": 6,
              "ticks": "inside"
             }
            },
            "type": "scatterpolar"
           }
          ],
          "scatterpolargl": [
           {
            "marker": {
             "colorbar": {
              "outlinewidth": 0,
              "tickcolor": "rgb(237,237,237)",
              "ticklen": 6,
              "ticks": "inside"
             }
            },
            "type": "scatterpolargl"
           }
          ],
          "scatterternary": [
           {
            "marker": {
             "colorbar": {
              "outlinewidth": 0,
              "tickcolor": "rgb(237,237,237)",
              "ticklen": 6,
              "ticks": "inside"
             }
            },
            "type": "scatterternary"
           }
          ],
          "surface": [
           {
            "colorbar": {
             "outlinewidth": 0,
             "tickcolor": "rgb(237,237,237)",
             "ticklen": 6,
             "ticks": "inside"
            },
            "colorscale": [
             [
              0,
              "rgb(20,44,66)"
             ],
             [
              1,
              "rgb(90,179,244)"
             ]
            ],
            "type": "surface"
           }
          ],
          "table": [
           {
            "cells": {
             "fill": {
              "color": "rgb(237,237,237)"
             },
             "line": {
              "color": "white"
             }
            },
            "header": {
             "fill": {
              "color": "rgb(217,217,217)"
             },
             "line": {
              "color": "white"
             }
            },
            "type": "table"
           }
          ]
         },
         "layout": {
          "annotationdefaults": {
           "arrowhead": 0,
           "arrowwidth": 1
          },
          "autotypenumbers": "strict",
          "coloraxis": {
           "colorbar": {
            "outlinewidth": 0,
            "tickcolor": "rgb(237,237,237)",
            "ticklen": 6,
            "ticks": "inside"
           }
          },
          "colorscale": {
           "sequential": [
            [
             0,
             "rgb(20,44,66)"
            ],
            [
             1,
             "rgb(90,179,244)"
            ]
           ],
           "sequentialminus": [
            [
             0,
             "rgb(20,44,66)"
            ],
            [
             1,
             "rgb(90,179,244)"
            ]
           ]
          },
          "colorway": [
           "#F8766D",
           "#A3A500",
           "#00BF7D",
           "#00B0F6",
           "#E76BF3"
          ],
          "font": {
           "color": "rgb(51,51,51)"
          },
          "geo": {
           "bgcolor": "white",
           "lakecolor": "white",
           "landcolor": "rgb(237,237,237)",
           "showlakes": true,
           "showland": true,
           "subunitcolor": "white"
          },
          "hoverlabel": {
           "align": "left"
          },
          "hovermode": "closest",
          "paper_bgcolor": "white",
          "plot_bgcolor": "rgb(237,237,237)",
          "polar": {
           "angularaxis": {
            "gridcolor": "white",
            "linecolor": "white",
            "showgrid": true,
            "tickcolor": "rgb(51,51,51)",
            "ticks": "outside"
           },
           "bgcolor": "rgb(237,237,237)",
           "radialaxis": {
            "gridcolor": "white",
            "linecolor": "white",
            "showgrid": true,
            "tickcolor": "rgb(51,51,51)",
            "ticks": "outside"
           }
          },
          "scene": {
           "xaxis": {
            "backgroundcolor": "rgb(237,237,237)",
            "gridcolor": "white",
            "gridwidth": 2,
            "linecolor": "white",
            "showbackground": true,
            "showgrid": true,
            "tickcolor": "rgb(51,51,51)",
            "ticks": "outside",
            "zerolinecolor": "white"
           },
           "yaxis": {
            "backgroundcolor": "rgb(237,237,237)",
            "gridcolor": "white",
            "gridwidth": 2,
            "linecolor": "white",
            "showbackground": true,
            "showgrid": true,
            "tickcolor": "rgb(51,51,51)",
            "ticks": "outside",
            "zerolinecolor": "white"
           },
           "zaxis": {
            "backgroundcolor": "rgb(237,237,237)",
            "gridcolor": "white",
            "gridwidth": 2,
            "linecolor": "white",
            "showbackground": true,
            "showgrid": true,
            "tickcolor": "rgb(51,51,51)",
            "ticks": "outside",
            "zerolinecolor": "white"
           }
          },
          "shapedefaults": {
           "fillcolor": "black",
           "line": {
            "width": 0
           },
           "opacity": 0.3
          },
          "ternary": {
           "aaxis": {
            "gridcolor": "white",
            "linecolor": "white",
            "showgrid": true,
            "tickcolor": "rgb(51,51,51)",
            "ticks": "outside"
           },
           "baxis": {
            "gridcolor": "white",
            "linecolor": "white",
            "showgrid": true,
            "tickcolor": "rgb(51,51,51)",
            "ticks": "outside"
           },
           "bgcolor": "rgb(237,237,237)",
           "caxis": {
            "gridcolor": "white",
            "linecolor": "white",
            "showgrid": true,
            "tickcolor": "rgb(51,51,51)",
            "ticks": "outside"
           }
          },
          "xaxis": {
           "automargin": true,
           "gridcolor": "white",
           "linecolor": "white",
           "showgrid": true,
           "tickcolor": "rgb(51,51,51)",
           "ticks": "outside",
           "title": {
            "standoff": 15
           },
           "zerolinecolor": "white"
          },
          "yaxis": {
           "automargin": true,
           "gridcolor": "white",
           "linecolor": "white",
           "showgrid": true,
           "tickcolor": "rgb(51,51,51)",
           "ticks": "outside",
           "title": {
            "standoff": 15
           },
           "zerolinecolor": "white"
          }
         }
        },
        "title": {
         "text": "<b>Players Age distribution by club (avg. age dotted line)<b>"
        },
        "width": 750,
        "xaxis": {
         "anchor": "y",
         "domain": [
          0,
          1
         ],
         "title": {
          "text": "age"
         }
        },
        "yaxis": {
         "anchor": "x",
         "domain": [
          0,
          1
         ],
         "title": {
          "text": "Current Club"
         }
        }
       }
      }
     },
     "metadata": {},
     "output_type": "display_data"
    }
   ],
   "source": [
    "age_mean = player_appeared['age'].mean()\n",
    "print(age_mean)\n",
    "fig = px.box(player_appeared, y=\"Current Club\", x=\"age\",\n",
    "            title='<b>Players Age distribution by club (avg. age dotted line)<b>',\n",
    "            width=750,height=750,template='ggplot2')\n",
    "fig.add_shape(\n",
    "            type=\"line\", line_color=\"black\", \n",
    "            line_width=3,opacity=1, line_dash=\"dot\",\n",
    "            y0=0, y1=1, yref=\"paper\", x0=age_mean, x1=age_mean, xref=\"x\"\n",
    "            )\n",
    "fig.show()"
   ]
  },
  {
   "cell_type": "code",
   "execution_count": 41,
   "metadata": {},
   "outputs": [
    {
     "data": {
      "application/vnd.plotly.v1+json": {
       "config": {
        "plotlyServerURL": "https://plot.ly"
       },
       "data": [
        {
         "alignmentgroup": "True",
         "hovertemplate": "full_name=%{x}<br>goals_overall=%{y}<extra></extra>",
         "legendgroup": "",
         "marker": {
          "color": "#636efa",
          "pattern": {
           "shape": ""
          }
         },
         "name": "",
         "offsetgroup": "",
         "orientation": "v",
         "showlegend": false,
         "textposition": "auto",
         "type": "bar",
         "x": [
          "Mohamed Salah",
          "Sadio Mané",
          "Pierre-Emerick Aubameyang",
          "Sergio Aguero",
          "Jamie Vardy",
          "Raheem Sterling",
          "Harry Kane",
          "Eden Hazard",
          "Callum Wilson",
          "Paul Pogba"
         ],
         "xaxis": "x",
         "y": [
          22,
          22,
          22,
          21,
          18,
          17,
          17,
          16,
          14,
          13
         ],
         "yaxis": "y"
        }
       ],
       "layout": {
        "barmode": "relative",
        "legend": {
         "tracegroupgap": 0
        },
        "margin": {
         "t": 60
        },
        "template": {
         "data": {
          "bar": [
           {
            "error_x": {
             "color": "#2a3f5f"
            },
            "error_y": {
             "color": "#2a3f5f"
            },
            "marker": {
             "line": {
              "color": "#E5ECF6",
              "width": 0.5
             },
             "pattern": {
              "fillmode": "overlay",
              "size": 10,
              "solidity": 0.2
             }
            },
            "type": "bar"
           }
          ],
          "barpolar": [
           {
            "marker": {
             "line": {
              "color": "#E5ECF6",
              "width": 0.5
             },
             "pattern": {
              "fillmode": "overlay",
              "size": 10,
              "solidity": 0.2
             }
            },
            "type": "barpolar"
           }
          ],
          "carpet": [
           {
            "aaxis": {
             "endlinecolor": "#2a3f5f",
             "gridcolor": "white",
             "linecolor": "white",
             "minorgridcolor": "white",
             "startlinecolor": "#2a3f5f"
            },
            "baxis": {
             "endlinecolor": "#2a3f5f",
             "gridcolor": "white",
             "linecolor": "white",
             "minorgridcolor": "white",
             "startlinecolor": "#2a3f5f"
            },
            "type": "carpet"
           }
          ],
          "choropleth": [
           {
            "colorbar": {
             "outlinewidth": 0,
             "ticks": ""
            },
            "type": "choropleth"
           }
          ],
          "contour": [
           {
            "colorbar": {
             "outlinewidth": 0,
             "ticks": ""
            },
            "colorscale": [
             [
              0,
              "#0d0887"
             ],
             [
              0.1111111111111111,
              "#46039f"
             ],
             [
              0.2222222222222222,
              "#7201a8"
             ],
             [
              0.3333333333333333,
              "#9c179e"
             ],
             [
              0.4444444444444444,
              "#bd3786"
             ],
             [
              0.5555555555555556,
              "#d8576b"
             ],
             [
              0.6666666666666666,
              "#ed7953"
             ],
             [
              0.7777777777777778,
              "#fb9f3a"
             ],
             [
              0.8888888888888888,
              "#fdca26"
             ],
             [
              1,
              "#f0f921"
             ]
            ],
            "type": "contour"
           }
          ],
          "contourcarpet": [
           {
            "colorbar": {
             "outlinewidth": 0,
             "ticks": ""
            },
            "type": "contourcarpet"
           }
          ],
          "heatmap": [
           {
            "colorbar": {
             "outlinewidth": 0,
             "ticks": ""
            },
            "colorscale": [
             [
              0,
              "#0d0887"
             ],
             [
              0.1111111111111111,
              "#46039f"
             ],
             [
              0.2222222222222222,
              "#7201a8"
             ],
             [
              0.3333333333333333,
              "#9c179e"
             ],
             [
              0.4444444444444444,
              "#bd3786"
             ],
             [
              0.5555555555555556,
              "#d8576b"
             ],
             [
              0.6666666666666666,
              "#ed7953"
             ],
             [
              0.7777777777777778,
              "#fb9f3a"
             ],
             [
              0.8888888888888888,
              "#fdca26"
             ],
             [
              1,
              "#f0f921"
             ]
            ],
            "type": "heatmap"
           }
          ],
          "heatmapgl": [
           {
            "colorbar": {
             "outlinewidth": 0,
             "ticks": ""
            },
            "colorscale": [
             [
              0,
              "#0d0887"
             ],
             [
              0.1111111111111111,
              "#46039f"
             ],
             [
              0.2222222222222222,
              "#7201a8"
             ],
             [
              0.3333333333333333,
              "#9c179e"
             ],
             [
              0.4444444444444444,
              "#bd3786"
             ],
             [
              0.5555555555555556,
              "#d8576b"
             ],
             [
              0.6666666666666666,
              "#ed7953"
             ],
             [
              0.7777777777777778,
              "#fb9f3a"
             ],
             [
              0.8888888888888888,
              "#fdca26"
             ],
             [
              1,
              "#f0f921"
             ]
            ],
            "type": "heatmapgl"
           }
          ],
          "histogram": [
           {
            "marker": {
             "pattern": {
              "fillmode": "overlay",
              "size": 10,
              "solidity": 0.2
             }
            },
            "type": "histogram"
           }
          ],
          "histogram2d": [
           {
            "colorbar": {
             "outlinewidth": 0,
             "ticks": ""
            },
            "colorscale": [
             [
              0,
              "#0d0887"
             ],
             [
              0.1111111111111111,
              "#46039f"
             ],
             [
              0.2222222222222222,
              "#7201a8"
             ],
             [
              0.3333333333333333,
              "#9c179e"
             ],
             [
              0.4444444444444444,
              "#bd3786"
             ],
             [
              0.5555555555555556,
              "#d8576b"
             ],
             [
              0.6666666666666666,
              "#ed7953"
             ],
             [
              0.7777777777777778,
              "#fb9f3a"
             ],
             [
              0.8888888888888888,
              "#fdca26"
             ],
             [
              1,
              "#f0f921"
             ]
            ],
            "type": "histogram2d"
           }
          ],
          "histogram2dcontour": [
           {
            "colorbar": {
             "outlinewidth": 0,
             "ticks": ""
            },
            "colorscale": [
             [
              0,
              "#0d0887"
             ],
             [
              0.1111111111111111,
              "#46039f"
             ],
             [
              0.2222222222222222,
              "#7201a8"
             ],
             [
              0.3333333333333333,
              "#9c179e"
             ],
             [
              0.4444444444444444,
              "#bd3786"
             ],
             [
              0.5555555555555556,
              "#d8576b"
             ],
             [
              0.6666666666666666,
              "#ed7953"
             ],
             [
              0.7777777777777778,
              "#fb9f3a"
             ],
             [
              0.8888888888888888,
              "#fdca26"
             ],
             [
              1,
              "#f0f921"
             ]
            ],
            "type": "histogram2dcontour"
           }
          ],
          "mesh3d": [
           {
            "colorbar": {
             "outlinewidth": 0,
             "ticks": ""
            },
            "type": "mesh3d"
           }
          ],
          "parcoords": [
           {
            "line": {
             "colorbar": {
              "outlinewidth": 0,
              "ticks": ""
             }
            },
            "type": "parcoords"
           }
          ],
          "pie": [
           {
            "automargin": true,
            "type": "pie"
           }
          ],
          "scatter": [
           {
            "fillpattern": {
             "fillmode": "overlay",
             "size": 10,
             "solidity": 0.2
            },
            "type": "scatter"
           }
          ],
          "scatter3d": [
           {
            "line": {
             "colorbar": {
              "outlinewidth": 0,
              "ticks": ""
             }
            },
            "marker": {
             "colorbar": {
              "outlinewidth": 0,
              "ticks": ""
             }
            },
            "type": "scatter3d"
           }
          ],
          "scattercarpet": [
           {
            "marker": {
             "colorbar": {
              "outlinewidth": 0,
              "ticks": ""
             }
            },
            "type": "scattercarpet"
           }
          ],
          "scattergeo": [
           {
            "marker": {
             "colorbar": {
              "outlinewidth": 0,
              "ticks": ""
             }
            },
            "type": "scattergeo"
           }
          ],
          "scattergl": [
           {
            "marker": {
             "colorbar": {
              "outlinewidth": 0,
              "ticks": ""
             }
            },
            "type": "scattergl"
           }
          ],
          "scattermapbox": [
           {
            "marker": {
             "colorbar": {
              "outlinewidth": 0,
              "ticks": ""
             }
            },
            "type": "scattermapbox"
           }
          ],
          "scatterpolar": [
           {
            "marker": {
             "colorbar": {
              "outlinewidth": 0,
              "ticks": ""
             }
            },
            "type": "scatterpolar"
           }
          ],
          "scatterpolargl": [
           {
            "marker": {
             "colorbar": {
              "outlinewidth": 0,
              "ticks": ""
             }
            },
            "type": "scatterpolargl"
           }
          ],
          "scatterternary": [
           {
            "marker": {
             "colorbar": {
              "outlinewidth": 0,
              "ticks": ""
             }
            },
            "type": "scatterternary"
           }
          ],
          "surface": [
           {
            "colorbar": {
             "outlinewidth": 0,
             "ticks": ""
            },
            "colorscale": [
             [
              0,
              "#0d0887"
             ],
             [
              0.1111111111111111,
              "#46039f"
             ],
             [
              0.2222222222222222,
              "#7201a8"
             ],
             [
              0.3333333333333333,
              "#9c179e"
             ],
             [
              0.4444444444444444,
              "#bd3786"
             ],
             [
              0.5555555555555556,
              "#d8576b"
             ],
             [
              0.6666666666666666,
              "#ed7953"
             ],
             [
              0.7777777777777778,
              "#fb9f3a"
             ],
             [
              0.8888888888888888,
              "#fdca26"
             ],
             [
              1,
              "#f0f921"
             ]
            ],
            "type": "surface"
           }
          ],
          "table": [
           {
            "cells": {
             "fill": {
              "color": "#EBF0F8"
             },
             "line": {
              "color": "white"
             }
            },
            "header": {
             "fill": {
              "color": "#C8D4E3"
             },
             "line": {
              "color": "white"
             }
            },
            "type": "table"
           }
          ]
         },
         "layout": {
          "annotationdefaults": {
           "arrowcolor": "#2a3f5f",
           "arrowhead": 0,
           "arrowwidth": 1
          },
          "autotypenumbers": "strict",
          "coloraxis": {
           "colorbar": {
            "outlinewidth": 0,
            "ticks": ""
           }
          },
          "colorscale": {
           "diverging": [
            [
             0,
             "#8e0152"
            ],
            [
             0.1,
             "#c51b7d"
            ],
            [
             0.2,
             "#de77ae"
            ],
            [
             0.3,
             "#f1b6da"
            ],
            [
             0.4,
             "#fde0ef"
            ],
            [
             0.5,
             "#f7f7f7"
            ],
            [
             0.6,
             "#e6f5d0"
            ],
            [
             0.7,
             "#b8e186"
            ],
            [
             0.8,
             "#7fbc41"
            ],
            [
             0.9,
             "#4d9221"
            ],
            [
             1,
             "#276419"
            ]
           ],
           "sequential": [
            [
             0,
             "#0d0887"
            ],
            [
             0.1111111111111111,
             "#46039f"
            ],
            [
             0.2222222222222222,
             "#7201a8"
            ],
            [
             0.3333333333333333,
             "#9c179e"
            ],
            [
             0.4444444444444444,
             "#bd3786"
            ],
            [
             0.5555555555555556,
             "#d8576b"
            ],
            [
             0.6666666666666666,
             "#ed7953"
            ],
            [
             0.7777777777777778,
             "#fb9f3a"
            ],
            [
             0.8888888888888888,
             "#fdca26"
            ],
            [
             1,
             "#f0f921"
            ]
           ],
           "sequentialminus": [
            [
             0,
             "#0d0887"
            ],
            [
             0.1111111111111111,
             "#46039f"
            ],
            [
             0.2222222222222222,
             "#7201a8"
            ],
            [
             0.3333333333333333,
             "#9c179e"
            ],
            [
             0.4444444444444444,
             "#bd3786"
            ],
            [
             0.5555555555555556,
             "#d8576b"
            ],
            [
             0.6666666666666666,
             "#ed7953"
            ],
            [
             0.7777777777777778,
             "#fb9f3a"
            ],
            [
             0.8888888888888888,
             "#fdca26"
            ],
            [
             1,
             "#f0f921"
            ]
           ]
          },
          "colorway": [
           "#636efa",
           "#EF553B",
           "#00cc96",
           "#ab63fa",
           "#FFA15A",
           "#19d3f3",
           "#FF6692",
           "#B6E880",
           "#FF97FF",
           "#FECB52"
          ],
          "font": {
           "color": "#2a3f5f"
          },
          "geo": {
           "bgcolor": "white",
           "lakecolor": "white",
           "landcolor": "#E5ECF6",
           "showlakes": true,
           "showland": true,
           "subunitcolor": "white"
          },
          "hoverlabel": {
           "align": "left"
          },
          "hovermode": "closest",
          "mapbox": {
           "style": "light"
          },
          "paper_bgcolor": "white",
          "plot_bgcolor": "#E5ECF6",
          "polar": {
           "angularaxis": {
            "gridcolor": "white",
            "linecolor": "white",
            "ticks": ""
           },
           "bgcolor": "#E5ECF6",
           "radialaxis": {
            "gridcolor": "white",
            "linecolor": "white",
            "ticks": ""
           }
          },
          "scene": {
           "xaxis": {
            "backgroundcolor": "#E5ECF6",
            "gridcolor": "white",
            "gridwidth": 2,
            "linecolor": "white",
            "showbackground": true,
            "ticks": "",
            "zerolinecolor": "white"
           },
           "yaxis": {
            "backgroundcolor": "#E5ECF6",
            "gridcolor": "white",
            "gridwidth": 2,
            "linecolor": "white",
            "showbackground": true,
            "ticks": "",
            "zerolinecolor": "white"
           },
           "zaxis": {
            "backgroundcolor": "#E5ECF6",
            "gridcolor": "white",
            "gridwidth": 2,
            "linecolor": "white",
            "showbackground": true,
            "ticks": "",
            "zerolinecolor": "white"
           }
          },
          "shapedefaults": {
           "line": {
            "color": "#2a3f5f"
           }
          },
          "ternary": {
           "aaxis": {
            "gridcolor": "white",
            "linecolor": "white",
            "ticks": ""
           },
           "baxis": {
            "gridcolor": "white",
            "linecolor": "white",
            "ticks": ""
           },
           "bgcolor": "#E5ECF6",
           "caxis": {
            "gridcolor": "white",
            "linecolor": "white",
            "ticks": ""
           }
          },
          "title": {
           "x": 0.05
          },
          "xaxis": {
           "automargin": true,
           "gridcolor": "white",
           "linecolor": "white",
           "ticks": "",
           "title": {
            "standoff": 15
           },
           "zerolinecolor": "white",
           "zerolinewidth": 2
          },
          "yaxis": {
           "automargin": true,
           "gridcolor": "white",
           "linecolor": "white",
           "ticks": "",
           "title": {
            "standoff": 15
           },
           "zerolinecolor": "white",
           "zerolinewidth": 2
          }
         }
        },
        "xaxis": {
         "anchor": "y",
         "domain": [
          0,
          1
         ],
         "title": {
          "text": "full_name"
         }
        },
        "yaxis": {
         "anchor": "x",
         "domain": [
          0,
          1
         ],
         "title": {
          "text": "goals_overall"
         }
        }
       }
      }
     },
     "metadata": {},
     "output_type": "display_data"
    }
   ],
   "source": [
    "#top10 cầu thủ ghi bàn nhiều nhất của mùa giải\n",
    "top10players_goals = player_appeared.sort_values(by='goals_overall', ascending=False).head(10)\n",
    "fig = px.bar(top10players_goals, x='full_name', y='goals_overall')\n",
    "fig.show()"
   ]
  },
  {
   "cell_type": "code",
   "execution_count": 42,
   "metadata": {},
   "outputs": [
    {
     "data": {
      "application/vnd.plotly.v1+json": {
       "config": {
        "plotlyServerURL": "https://plot.ly"
       },
       "data": [
        {
         "cells": {
          "align": "left",
          "fill": {
           "color": [
            [
             "white",
             "lightgrey",
             "white",
             "lightgrey",
             "white",
             "lightgrey",
             "white",
             "lightgrey",
             "white",
             "lightgrey"
            ]
           ]
          },
          "font": {
           "color": "black",
           "family": "Courier New, monospace",
           "size": 16
          },
          "height": 25,
          "values": [
           [
            1,
            2,
            3,
            4,
            5,
            6,
            7,
            8,
            9,
            10
           ],
           [
            "Mohamed Salah",
            "Sadio Mané",
            "Pierre-Emerick Aubameyang",
            "Sergio Aguero",
            "Jamie Vardy",
            "Raheem Sterling",
            "Harry Kane",
            "Eden Hazard",
            "Callum Wilson",
            "Paul Pogba"
           ]
          ]
         },
         "header": {
          "align": [
           "left"
          ],
          "fill": {
           "color": "grey"
          },
          "font": {
           "color": "white",
           "size": 20
          },
          "height": 30,
          "line": {
           "color": "darkslategray"
          },
          "values": [
           "Rank",
           "Total goals"
          ]
         },
         "type": "table"
        }
       ],
       "layout": {
        "font": {
         "color": "white",
         "family": "Courier New, monospace",
         "size": 20
        },
        "height": 510,
        "template": {
         "data": {
          "bar": [
           {
            "error_x": {
             "color": "#f2f5fa"
            },
            "error_y": {
             "color": "#f2f5fa"
            },
            "marker": {
             "line": {
              "color": "rgb(17,17,17)",
              "width": 0.5
             },
             "pattern": {
              "fillmode": "overlay",
              "size": 10,
              "solidity": 0.2
             }
            },
            "type": "bar"
           }
          ],
          "barpolar": [
           {
            "marker": {
             "line": {
              "color": "rgb(17,17,17)",
              "width": 0.5
             },
             "pattern": {
              "fillmode": "overlay",
              "size": 10,
              "solidity": 0.2
             }
            },
            "type": "barpolar"
           }
          ],
          "carpet": [
           {
            "aaxis": {
             "endlinecolor": "#A2B1C6",
             "gridcolor": "#506784",
             "linecolor": "#506784",
             "minorgridcolor": "#506784",
             "startlinecolor": "#A2B1C6"
            },
            "baxis": {
             "endlinecolor": "#A2B1C6",
             "gridcolor": "#506784",
             "linecolor": "#506784",
             "minorgridcolor": "#506784",
             "startlinecolor": "#A2B1C6"
            },
            "type": "carpet"
           }
          ],
          "choropleth": [
           {
            "colorbar": {
             "outlinewidth": 0,
             "ticks": ""
            },
            "type": "choropleth"
           }
          ],
          "contour": [
           {
            "colorbar": {
             "outlinewidth": 0,
             "ticks": ""
            },
            "colorscale": [
             [
              0,
              "#0d0887"
             ],
             [
              0.1111111111111111,
              "#46039f"
             ],
             [
              0.2222222222222222,
              "#7201a8"
             ],
             [
              0.3333333333333333,
              "#9c179e"
             ],
             [
              0.4444444444444444,
              "#bd3786"
             ],
             [
              0.5555555555555556,
              "#d8576b"
             ],
             [
              0.6666666666666666,
              "#ed7953"
             ],
             [
              0.7777777777777778,
              "#fb9f3a"
             ],
             [
              0.8888888888888888,
              "#fdca26"
             ],
             [
              1,
              "#f0f921"
             ]
            ],
            "type": "contour"
           }
          ],
          "contourcarpet": [
           {
            "colorbar": {
             "outlinewidth": 0,
             "ticks": ""
            },
            "type": "contourcarpet"
           }
          ],
          "heatmap": [
           {
            "colorbar": {
             "outlinewidth": 0,
             "ticks": ""
            },
            "colorscale": [
             [
              0,
              "#0d0887"
             ],
             [
              0.1111111111111111,
              "#46039f"
             ],
             [
              0.2222222222222222,
              "#7201a8"
             ],
             [
              0.3333333333333333,
              "#9c179e"
             ],
             [
              0.4444444444444444,
              "#bd3786"
             ],
             [
              0.5555555555555556,
              "#d8576b"
             ],
             [
              0.6666666666666666,
              "#ed7953"
             ],
             [
              0.7777777777777778,
              "#fb9f3a"
             ],
             [
              0.8888888888888888,
              "#fdca26"
             ],
             [
              1,
              "#f0f921"
             ]
            ],
            "type": "heatmap"
           }
          ],
          "heatmapgl": [
           {
            "colorbar": {
             "outlinewidth": 0,
             "ticks": ""
            },
            "colorscale": [
             [
              0,
              "#0d0887"
             ],
             [
              0.1111111111111111,
              "#46039f"
             ],
             [
              0.2222222222222222,
              "#7201a8"
             ],
             [
              0.3333333333333333,
              "#9c179e"
             ],
             [
              0.4444444444444444,
              "#bd3786"
             ],
             [
              0.5555555555555556,
              "#d8576b"
             ],
             [
              0.6666666666666666,
              "#ed7953"
             ],
             [
              0.7777777777777778,
              "#fb9f3a"
             ],
             [
              0.8888888888888888,
              "#fdca26"
             ],
             [
              1,
              "#f0f921"
             ]
            ],
            "type": "heatmapgl"
           }
          ],
          "histogram": [
           {
            "marker": {
             "pattern": {
              "fillmode": "overlay",
              "size": 10,
              "solidity": 0.2
             }
            },
            "type": "histogram"
           }
          ],
          "histogram2d": [
           {
            "colorbar": {
             "outlinewidth": 0,
             "ticks": ""
            },
            "colorscale": [
             [
              0,
              "#0d0887"
             ],
             [
              0.1111111111111111,
              "#46039f"
             ],
             [
              0.2222222222222222,
              "#7201a8"
             ],
             [
              0.3333333333333333,
              "#9c179e"
             ],
             [
              0.4444444444444444,
              "#bd3786"
             ],
             [
              0.5555555555555556,
              "#d8576b"
             ],
             [
              0.6666666666666666,
              "#ed7953"
             ],
             [
              0.7777777777777778,
              "#fb9f3a"
             ],
             [
              0.8888888888888888,
              "#fdca26"
             ],
             [
              1,
              "#f0f921"
             ]
            ],
            "type": "histogram2d"
           }
          ],
          "histogram2dcontour": [
           {
            "colorbar": {
             "outlinewidth": 0,
             "ticks": ""
            },
            "colorscale": [
             [
              0,
              "#0d0887"
             ],
             [
              0.1111111111111111,
              "#46039f"
             ],
             [
              0.2222222222222222,
              "#7201a8"
             ],
             [
              0.3333333333333333,
              "#9c179e"
             ],
             [
              0.4444444444444444,
              "#bd3786"
             ],
             [
              0.5555555555555556,
              "#d8576b"
             ],
             [
              0.6666666666666666,
              "#ed7953"
             ],
             [
              0.7777777777777778,
              "#fb9f3a"
             ],
             [
              0.8888888888888888,
              "#fdca26"
             ],
             [
              1,
              "#f0f921"
             ]
            ],
            "type": "histogram2dcontour"
           }
          ],
          "mesh3d": [
           {
            "colorbar": {
             "outlinewidth": 0,
             "ticks": ""
            },
            "type": "mesh3d"
           }
          ],
          "parcoords": [
           {
            "line": {
             "colorbar": {
              "outlinewidth": 0,
              "ticks": ""
             }
            },
            "type": "parcoords"
           }
          ],
          "pie": [
           {
            "automargin": true,
            "type": "pie"
           }
          ],
          "scatter": [
           {
            "marker": {
             "line": {
              "color": "#283442"
             }
            },
            "type": "scatter"
           }
          ],
          "scatter3d": [
           {
            "line": {
             "colorbar": {
              "outlinewidth": 0,
              "ticks": ""
             }
            },
            "marker": {
             "colorbar": {
              "outlinewidth": 0,
              "ticks": ""
             }
            },
            "type": "scatter3d"
           }
          ],
          "scattercarpet": [
           {
            "marker": {
             "colorbar": {
              "outlinewidth": 0,
              "ticks": ""
             }
            },
            "type": "scattercarpet"
           }
          ],
          "scattergeo": [
           {
            "marker": {
             "colorbar": {
              "outlinewidth": 0,
              "ticks": ""
             }
            },
            "type": "scattergeo"
           }
          ],
          "scattergl": [
           {
            "marker": {
             "line": {
              "color": "#283442"
             }
            },
            "type": "scattergl"
           }
          ],
          "scattermapbox": [
           {
            "marker": {
             "colorbar": {
              "outlinewidth": 0,
              "ticks": ""
             }
            },
            "type": "scattermapbox"
           }
          ],
          "scatterpolar": [
           {
            "marker": {
             "colorbar": {
              "outlinewidth": 0,
              "ticks": ""
             }
            },
            "type": "scatterpolar"
           }
          ],
          "scatterpolargl": [
           {
            "marker": {
             "colorbar": {
              "outlinewidth": 0,
              "ticks": ""
             }
            },
            "type": "scatterpolargl"
           }
          ],
          "scatterternary": [
           {
            "marker": {
             "colorbar": {
              "outlinewidth": 0,
              "ticks": ""
             }
            },
            "type": "scatterternary"
           }
          ],
          "surface": [
           {
            "colorbar": {
             "outlinewidth": 0,
             "ticks": ""
            },
            "colorscale": [
             [
              0,
              "#0d0887"
             ],
             [
              0.1111111111111111,
              "#46039f"
             ],
             [
              0.2222222222222222,
              "#7201a8"
             ],
             [
              0.3333333333333333,
              "#9c179e"
             ],
             [
              0.4444444444444444,
              "#bd3786"
             ],
             [
              0.5555555555555556,
              "#d8576b"
             ],
             [
              0.6666666666666666,
              "#ed7953"
             ],
             [
              0.7777777777777778,
              "#fb9f3a"
             ],
             [
              0.8888888888888888,
              "#fdca26"
             ],
             [
              1,
              "#f0f921"
             ]
            ],
            "type": "surface"
           }
          ],
          "table": [
           {
            "cells": {
             "fill": {
              "color": "#506784"
             },
             "line": {
              "color": "rgb(17,17,17)"
             }
            },
            "header": {
             "fill": {
              "color": "#2a3f5f"
             },
             "line": {
              "color": "rgb(17,17,17)"
             }
            },
            "type": "table"
           }
          ]
         },
         "layout": {
          "annotationdefaults": {
           "arrowcolor": "#f2f5fa",
           "arrowhead": 0,
           "arrowwidth": 1
          },
          "autotypenumbers": "strict",
          "coloraxis": {
           "colorbar": {
            "outlinewidth": 0,
            "ticks": ""
           }
          },
          "colorscale": {
           "diverging": [
            [
             0,
             "#8e0152"
            ],
            [
             0.1,
             "#c51b7d"
            ],
            [
             0.2,
             "#de77ae"
            ],
            [
             0.3,
             "#f1b6da"
            ],
            [
             0.4,
             "#fde0ef"
            ],
            [
             0.5,
             "#f7f7f7"
            ],
            [
             0.6,
             "#e6f5d0"
            ],
            [
             0.7,
             "#b8e186"
            ],
            [
             0.8,
             "#7fbc41"
            ],
            [
             0.9,
             "#4d9221"
            ],
            [
             1,
             "#276419"
            ]
           ],
           "sequential": [
            [
             0,
             "#0d0887"
            ],
            [
             0.1111111111111111,
             "#46039f"
            ],
            [
             0.2222222222222222,
             "#7201a8"
            ],
            [
             0.3333333333333333,
             "#9c179e"
            ],
            [
             0.4444444444444444,
             "#bd3786"
            ],
            [
             0.5555555555555556,
             "#d8576b"
            ],
            [
             0.6666666666666666,
             "#ed7953"
            ],
            [
             0.7777777777777778,
             "#fb9f3a"
            ],
            [
             0.8888888888888888,
             "#fdca26"
            ],
            [
             1,
             "#f0f921"
            ]
           ],
           "sequentialminus": [
            [
             0,
             "#0d0887"
            ],
            [
             0.1111111111111111,
             "#46039f"
            ],
            [
             0.2222222222222222,
             "#7201a8"
            ],
            [
             0.3333333333333333,
             "#9c179e"
            ],
            [
             0.4444444444444444,
             "#bd3786"
            ],
            [
             0.5555555555555556,
             "#d8576b"
            ],
            [
             0.6666666666666666,
             "#ed7953"
            ],
            [
             0.7777777777777778,
             "#fb9f3a"
            ],
            [
             0.8888888888888888,
             "#fdca26"
            ],
            [
             1,
             "#f0f921"
            ]
           ]
          },
          "colorway": [
           "#636efa",
           "#EF553B",
           "#00cc96",
           "#ab63fa",
           "#FFA15A",
           "#19d3f3",
           "#FF6692",
           "#B6E880",
           "#FF97FF",
           "#FECB52"
          ],
          "font": {
           "color": "#f2f5fa"
          },
          "geo": {
           "bgcolor": "rgb(17,17,17)",
           "lakecolor": "rgb(17,17,17)",
           "landcolor": "rgb(17,17,17)",
           "showlakes": true,
           "showland": true,
           "subunitcolor": "#506784"
          },
          "hoverlabel": {
           "align": "left"
          },
          "hovermode": "closest",
          "mapbox": {
           "style": "dark"
          },
          "paper_bgcolor": "rgb(17,17,17)",
          "plot_bgcolor": "rgb(17,17,17)",
          "polar": {
           "angularaxis": {
            "gridcolor": "#506784",
            "linecolor": "#506784",
            "ticks": ""
           },
           "bgcolor": "rgb(17,17,17)",
           "radialaxis": {
            "gridcolor": "#506784",
            "linecolor": "#506784",
            "ticks": ""
           }
          },
          "scene": {
           "xaxis": {
            "backgroundcolor": "rgb(17,17,17)",
            "gridcolor": "#506784",
            "gridwidth": 2,
            "linecolor": "#506784",
            "showbackground": true,
            "ticks": "",
            "zerolinecolor": "#C8D4E3"
           },
           "yaxis": {
            "backgroundcolor": "rgb(17,17,17)",
            "gridcolor": "#506784",
            "gridwidth": 2,
            "linecolor": "#506784",
            "showbackground": true,
            "ticks": "",
            "zerolinecolor": "#C8D4E3"
           },
           "zaxis": {
            "backgroundcolor": "rgb(17,17,17)",
            "gridcolor": "#506784",
            "gridwidth": 2,
            "linecolor": "#506784",
            "showbackground": true,
            "ticks": "",
            "zerolinecolor": "#C8D4E3"
           }
          },
          "shapedefaults": {
           "line": {
            "color": "#f2f5fa"
           }
          },
          "sliderdefaults": {
           "bgcolor": "#C8D4E3",
           "bordercolor": "rgb(17,17,17)",
           "borderwidth": 1,
           "tickwidth": 0
          },
          "ternary": {
           "aaxis": {
            "gridcolor": "#506784",
            "linecolor": "#506784",
            "ticks": ""
           },
           "baxis": {
            "gridcolor": "#506784",
            "linecolor": "#506784",
            "ticks": ""
           },
           "bgcolor": "rgb(17,17,17)",
           "caxis": {
            "gridcolor": "#506784",
            "linecolor": "#506784",
            "ticks": ""
           }
          },
          "title": {
           "x": 0.05
          },
          "updatemenudefaults": {
           "bgcolor": "#506784",
           "borderwidth": 0
          },
          "xaxis": {
           "automargin": true,
           "gridcolor": "#283442",
           "linecolor": "#506784",
           "ticks": "",
           "title": {
            "standoff": 15
           },
           "zerolinecolor": "#283442",
           "zerolinewidth": 2
          },
          "yaxis": {
           "automargin": true,
           "gridcolor": "#283442",
           "linecolor": "#506784",
           "ticks": "",
           "title": {
            "standoff": 15
           },
           "zerolinecolor": "#283442",
           "zerolinewidth": 2
          }
         }
        },
        "title": {
         "text": "TOP 10 GOAL SCORERS",
         "x": 0.5
        },
        "width": 800
       }
      }
     },
     "metadata": {},
     "output_type": "display_data"
    }
   ],
   "source": [
    "headerColor = 'grey'\n",
    "rowEvenColor = 'lightgrey'\n",
    "rowOddColor = 'white'\n",
    "\n",
    "\n",
    "head = 10\n",
    "table_header = ['Rank', 'Total goals']\n",
    "\n",
    "fig = go.Figure(data=[go.Table(\n",
    "    \n",
    "    header=dict(values=list(table_header),\n",
    "                    line_color='darkslategray',\n",
    "                    fill_color=headerColor,\n",
    "                    align=['left'],\n",
    "                    font=dict(color='white', size=20),\n",
    "                    height=30\n",
    "                               ),\n",
    "    \n",
    "    cells=dict(values=[list(np.arange(1, head+1)),\n",
    "        player_appeared.sort_values(by='goals_overall', ascending=False)['full_name'].head(head)],\n",
    "       fill_color=[[rowOddColor,rowEvenColor]*5],\n",
    "       font=dict(color='black', size=16, family=\"Courier New, monospace\",), \n",
    "       align='left', height=25,)\n",
    "        )\n",
    "])\n",
    "fig.update_layout(title_text='TOP {} GOAL SCORERS'.format(head), title_x=0.5, font=dict(color='white', size=20, family=\"Courier New, monospace\",))\n",
    "fig.update_layout(width=800, height=510, template='plotly_dark')\n",
    "fig.show()\n"
   ]
  },
  {
   "cell_type": "markdown",
   "metadata": {},
   "source": [
    "Teams\n"
   ]
  },
  {
   "cell_type": "code",
   "execution_count": 43,
   "metadata": {},
   "outputs": [
    {
     "data": {
      "text/html": [
       "<div>\n",
       "<style scoped>\n",
       "    .dataframe tbody tr th:only-of-type {\n",
       "        vertical-align: middle;\n",
       "    }\n",
       "\n",
       "    .dataframe tbody tr th {\n",
       "        vertical-align: top;\n",
       "    }\n",
       "\n",
       "    .dataframe thead th {\n",
       "        text-align: right;\n",
       "    }\n",
       "</style>\n",
       "<table border=\"1\" class=\"dataframe\">\n",
       "  <thead>\n",
       "    <tr style=\"text-align: right;\">\n",
       "      <th></th>\n",
       "      <th>team_name</th>\n",
       "      <th>common_name</th>\n",
       "      <th>season</th>\n",
       "      <th>country</th>\n",
       "      <th>matches_played</th>\n",
       "      <th>matches_played_home</th>\n",
       "      <th>matches_played_away</th>\n",
       "      <th>suspended_matches</th>\n",
       "      <th>wins</th>\n",
       "      <th>wins_home</th>\n",
       "      <th>...</th>\n",
       "      <th>goals_conceded_min_61_to_70</th>\n",
       "      <th>goals_conceded_min_71_to_80</th>\n",
       "      <th>goals_conceded_min_81_to_90</th>\n",
       "      <th>draw_percentage_overall</th>\n",
       "      <th>draw_percentage_home</th>\n",
       "      <th>draw_percentage_away</th>\n",
       "      <th>loss_percentage_ovearll</th>\n",
       "      <th>loss_percentage_home</th>\n",
       "      <th>loss_percentage_away</th>\n",
       "      <th>over145_corners_percentage</th>\n",
       "    </tr>\n",
       "  </thead>\n",
       "  <tbody>\n",
       "    <tr>\n",
       "      <th>0</th>\n",
       "      <td>Arsenal FC</td>\n",
       "      <td>Arsenal</td>\n",
       "      <td>2018/2019</td>\n",
       "      <td>England</td>\n",
       "      <td>38</td>\n",
       "      <td>19</td>\n",
       "      <td>19</td>\n",
       "      <td>0</td>\n",
       "      <td>21</td>\n",
       "      <td>14</td>\n",
       "      <td>...</td>\n",
       "      <td>12</td>\n",
       "      <td>1</td>\n",
       "      <td>8</td>\n",
       "      <td>18</td>\n",
       "      <td>16</td>\n",
       "      <td>21</td>\n",
       "      <td>26</td>\n",
       "      <td>11</td>\n",
       "      <td>42</td>\n",
       "      <td>5</td>\n",
       "    </tr>\n",
       "    <tr>\n",
       "      <th>1</th>\n",
       "      <td>Tottenham Hotspur FC</td>\n",
       "      <td>Tottenham Hotspur</td>\n",
       "      <td>2018/2019</td>\n",
       "      <td>England</td>\n",
       "      <td>38</td>\n",
       "      <td>19</td>\n",
       "      <td>19</td>\n",
       "      <td>0</td>\n",
       "      <td>23</td>\n",
       "      <td>12</td>\n",
       "      <td>...</td>\n",
       "      <td>4</td>\n",
       "      <td>8</td>\n",
       "      <td>10</td>\n",
       "      <td>5</td>\n",
       "      <td>11</td>\n",
       "      <td>0</td>\n",
       "      <td>34</td>\n",
       "      <td>26</td>\n",
       "      <td>42</td>\n",
       "      <td>11</td>\n",
       "    </tr>\n",
       "    <tr>\n",
       "      <th>2</th>\n",
       "      <td>Manchester City FC</td>\n",
       "      <td>Manchester City</td>\n",
       "      <td>2018/2019</td>\n",
       "      <td>England</td>\n",
       "      <td>38</td>\n",
       "      <td>19</td>\n",
       "      <td>19</td>\n",
       "      <td>0</td>\n",
       "      <td>32</td>\n",
       "      <td>18</td>\n",
       "      <td>...</td>\n",
       "      <td>4</td>\n",
       "      <td>2</td>\n",
       "      <td>3</td>\n",
       "      <td>5</td>\n",
       "      <td>0</td>\n",
       "      <td>11</td>\n",
       "      <td>11</td>\n",
       "      <td>5</td>\n",
       "      <td>16</td>\n",
       "      <td>5</td>\n",
       "    </tr>\n",
       "    <tr>\n",
       "      <th>3</th>\n",
       "      <td>Leicester City FC</td>\n",
       "      <td>Leicester City</td>\n",
       "      <td>2018/2019</td>\n",
       "      <td>England</td>\n",
       "      <td>38</td>\n",
       "      <td>19</td>\n",
       "      <td>19</td>\n",
       "      <td>0</td>\n",
       "      <td>15</td>\n",
       "      <td>8</td>\n",
       "      <td>...</td>\n",
       "      <td>7</td>\n",
       "      <td>1</td>\n",
       "      <td>9</td>\n",
       "      <td>18</td>\n",
       "      <td>16</td>\n",
       "      <td>21</td>\n",
       "      <td>42</td>\n",
       "      <td>42</td>\n",
       "      <td>42</td>\n",
       "      <td>5</td>\n",
       "    </tr>\n",
       "    <tr>\n",
       "      <th>4</th>\n",
       "      <td>Crystal Palace FC</td>\n",
       "      <td>Crystal Palace</td>\n",
       "      <td>2018/2019</td>\n",
       "      <td>England</td>\n",
       "      <td>38</td>\n",
       "      <td>19</td>\n",
       "      <td>19</td>\n",
       "      <td>0</td>\n",
       "      <td>14</td>\n",
       "      <td>5</td>\n",
       "      <td>...</td>\n",
       "      <td>8</td>\n",
       "      <td>8</td>\n",
       "      <td>11</td>\n",
       "      <td>18</td>\n",
       "      <td>26</td>\n",
       "      <td>11</td>\n",
       "      <td>45</td>\n",
       "      <td>47</td>\n",
       "      <td>42</td>\n",
       "      <td>11</td>\n",
       "    </tr>\n",
       "  </tbody>\n",
       "</table>\n",
       "<p>5 rows × 293 columns</p>\n",
       "</div>"
      ],
      "text/plain": [
       "              team_name        common_name     season  country  \\\n",
       "0            Arsenal FC            Arsenal  2018/2019  England   \n",
       "1  Tottenham Hotspur FC  Tottenham Hotspur  2018/2019  England   \n",
       "2    Manchester City FC    Manchester City  2018/2019  England   \n",
       "3     Leicester City FC     Leicester City  2018/2019  England   \n",
       "4     Crystal Palace FC     Crystal Palace  2018/2019  England   \n",
       "\n",
       "   matches_played  matches_played_home  matches_played_away  \\\n",
       "0              38                   19                   19   \n",
       "1              38                   19                   19   \n",
       "2              38                   19                   19   \n",
       "3              38                   19                   19   \n",
       "4              38                   19                   19   \n",
       "\n",
       "   suspended_matches  wins  wins_home  ...  goals_conceded_min_61_to_70  \\\n",
       "0                  0    21         14  ...                           12   \n",
       "1                  0    23         12  ...                            4   \n",
       "2                  0    32         18  ...                            4   \n",
       "3                  0    15          8  ...                            7   \n",
       "4                  0    14          5  ...                            8   \n",
       "\n",
       "   goals_conceded_min_71_to_80  goals_conceded_min_81_to_90  \\\n",
       "0                            1                            8   \n",
       "1                            8                           10   \n",
       "2                            2                            3   \n",
       "3                            1                            9   \n",
       "4                            8                           11   \n",
       "\n",
       "   draw_percentage_overall  draw_percentage_home  draw_percentage_away  \\\n",
       "0                       18                    16                    21   \n",
       "1                        5                    11                     0   \n",
       "2                        5                     0                    11   \n",
       "3                       18                    16                    21   \n",
       "4                       18                    26                    11   \n",
       "\n",
       "   loss_percentage_ovearll  loss_percentage_home  loss_percentage_away  \\\n",
       "0                       26                    11                    42   \n",
       "1                       34                    26                    42   \n",
       "2                       11                     5                    16   \n",
       "3                       42                    42                    42   \n",
       "4                       45                    47                    42   \n",
       "\n",
       "   over145_corners_percentage  \n",
       "0                           5  \n",
       "1                          11  \n",
       "2                           5  \n",
       "3                           5  \n",
       "4                          11  \n",
       "\n",
       "[5 rows x 293 columns]"
      ]
     },
     "execution_count": 43,
     "metadata": {},
     "output_type": "execute_result"
    }
   ],
   "source": [
    "df_teams = pd.read_csv('data/teams.csv')\n",
    "df_teams.head()"
   ]
  },
  {
   "cell_type": "code",
   "execution_count": 44,
   "metadata": {},
   "outputs": [
    {
     "data": {
      "text/plain": [
       "Index(['team_name', 'common_name', 'season', 'country', 'matches_played',\n",
       "       'matches_played_home', 'matches_played_away', 'suspended_matches',\n",
       "       'wins', 'wins_home',\n",
       "       ...\n",
       "       'goals_conceded_min_61_to_70', 'goals_conceded_min_71_to_80',\n",
       "       'goals_conceded_min_81_to_90', 'draw_percentage_overall',\n",
       "       'draw_percentage_home', 'draw_percentage_away',\n",
       "       'loss_percentage_ovearll', 'loss_percentage_home',\n",
       "       'loss_percentage_away', 'over145_corners_percentage'],\n",
       "      dtype='object', length=293)"
      ]
     },
     "execution_count": 44,
     "metadata": {},
     "output_type": "execute_result"
    }
   ],
   "source": [
    "df_teams.columns"
   ]
  },
  {
   "cell_type": "code",
   "execution_count": 45,
   "metadata": {},
   "outputs": [
    {
     "data": {
      "text/plain": [
       "342"
      ]
     },
     "execution_count": 45,
     "metadata": {},
     "output_type": "execute_result"
    }
   ],
   "source": [
    "col_home_away = []\n",
    "for i in df_teams.columns:\n",
    "    if (i.__contains__('home')) or (i.__contains__('away')):\n",
    "        col_home_away.append(i)\n",
    "\n",
    "col_goals_conceded_min = []\n",
    "for i in df_teams.columns:\n",
    "    if i.__contains__('goals_conceded_min'):\n",
    "        col_goals_conceded_min.append(i)\n",
    "\n",
    "col_percentage = []\n",
    "for i in df_teams.columns:\n",
    "    if i.__contains__('percentage'):\n",
    "        col_percentage.append(i)\n",
    "\n",
    "col_goals_scored_min = []\n",
    "for i in df_teams.columns:\n",
    "    if i.__contains__('goals_scored_min'):\n",
    "        col_goals_scored_min.append(i)\n",
    "\n",
    "col_count = []\n",
    "for i in df_teams.columns:\n",
    "    if (i.__contains__('_count')):\n",
    "        col_count.append(i)\n",
    "    \n",
    "col_remove = col_home_away + col_goals_conceded_min + col_percentage + col_goals_scored_min + col_count\n",
    "len(col_remove)"
   ]
  },
  {
   "cell_type": "code",
   "execution_count": 46,
   "metadata": {},
   "outputs": [
    {
     "data": {
      "text/html": [
       "<div>\n",
       "<style scoped>\n",
       "    .dataframe tbody tr th:only-of-type {\n",
       "        vertical-align: middle;\n",
       "    }\n",
       "\n",
       "    .dataframe tbody tr th {\n",
       "        vertical-align: top;\n",
       "    }\n",
       "\n",
       "    .dataframe thead th {\n",
       "        text-align: right;\n",
       "    }\n",
       "</style>\n",
       "<table border=\"1\" class=\"dataframe\">\n",
       "  <thead>\n",
       "    <tr style=\"text-align: right;\">\n",
       "      <th></th>\n",
       "      <th>team_name</th>\n",
       "      <th>common_name</th>\n",
       "      <th>season</th>\n",
       "      <th>country</th>\n",
       "      <th>matches_played</th>\n",
       "      <th>suspended_matches</th>\n",
       "      <th>wins</th>\n",
       "      <th>draws</th>\n",
       "      <th>losses</th>\n",
       "      <th>points_per_game</th>\n",
       "      <th>...</th>\n",
       "      <th>goals_scored_per_match_half_time</th>\n",
       "      <th>goals_conceded_per_match_half_time</th>\n",
       "      <th>clean_sheet_half_time</th>\n",
       "      <th>fts_half_time</th>\n",
       "      <th>btts_half_time</th>\n",
       "      <th>corners_per_match</th>\n",
       "      <th>cards_per_match</th>\n",
       "      <th>xg_for_avg_overall</th>\n",
       "      <th>xg_against_avg_overall</th>\n",
       "      <th>prediction_risk</th>\n",
       "    </tr>\n",
       "  </thead>\n",
       "  <tbody>\n",
       "    <tr>\n",
       "      <th>0</th>\n",
       "      <td>Arsenal FC</td>\n",
       "      <td>Arsenal</td>\n",
       "      <td>2018/2019</td>\n",
       "      <td>England</td>\n",
       "      <td>38</td>\n",
       "      <td>0</td>\n",
       "      <td>21</td>\n",
       "      <td>7</td>\n",
       "      <td>10</td>\n",
       "      <td>1.84</td>\n",
       "      <td>...</td>\n",
       "      <td>0.74</td>\n",
       "      <td>0.74</td>\n",
       "      <td>19</td>\n",
       "      <td>15</td>\n",
       "      <td>13</td>\n",
       "      <td>5.50</td>\n",
       "      <td>2.00</td>\n",
       "      <td>1.43</td>\n",
       "      <td>1.44</td>\n",
       "      <td>87</td>\n",
       "    </tr>\n",
       "    <tr>\n",
       "      <th>1</th>\n",
       "      <td>Tottenham Hotspur FC</td>\n",
       "      <td>Tottenham Hotspur</td>\n",
       "      <td>2018/2019</td>\n",
       "      <td>England</td>\n",
       "      <td>38</td>\n",
       "      <td>0</td>\n",
       "      <td>23</td>\n",
       "      <td>2</td>\n",
       "      <td>13</td>\n",
       "      <td>1.87</td>\n",
       "      <td>...</td>\n",
       "      <td>0.82</td>\n",
       "      <td>0.29</td>\n",
       "      <td>27</td>\n",
       "      <td>19</td>\n",
       "      <td>3</td>\n",
       "      <td>5.11</td>\n",
       "      <td>1.63</td>\n",
       "      <td>1.58</td>\n",
       "      <td>1.35</td>\n",
       "      <td>89</td>\n",
       "    </tr>\n",
       "    <tr>\n",
       "      <th>2</th>\n",
       "      <td>Manchester City FC</td>\n",
       "      <td>Manchester City</td>\n",
       "      <td>2018/2019</td>\n",
       "      <td>England</td>\n",
       "      <td>38</td>\n",
       "      <td>0</td>\n",
       "      <td>32</td>\n",
       "      <td>2</td>\n",
       "      <td>4</td>\n",
       "      <td>2.58</td>\n",
       "      <td>...</td>\n",
       "      <td>1.29</td>\n",
       "      <td>0.29</td>\n",
       "      <td>28</td>\n",
       "      <td>9</td>\n",
       "      <td>9</td>\n",
       "      <td>7.84</td>\n",
       "      <td>1.21</td>\n",
       "      <td>2.18</td>\n",
       "      <td>0.79</td>\n",
       "      <td>92</td>\n",
       "    </tr>\n",
       "    <tr>\n",
       "      <th>3</th>\n",
       "      <td>Leicester City FC</td>\n",
       "      <td>Leicester City</td>\n",
       "      <td>2018/2019</td>\n",
       "      <td>England</td>\n",
       "      <td>38</td>\n",
       "      <td>0</td>\n",
       "      <td>15</td>\n",
       "      <td>7</td>\n",
       "      <td>16</td>\n",
       "      <td>1.37</td>\n",
       "      <td>...</td>\n",
       "      <td>0.39</td>\n",
       "      <td>0.71</td>\n",
       "      <td>16</td>\n",
       "      <td>25</td>\n",
       "      <td>6</td>\n",
       "      <td>5.53</td>\n",
       "      <td>1.76</td>\n",
       "      <td>1.56</td>\n",
       "      <td>1.32</td>\n",
       "      <td>68</td>\n",
       "    </tr>\n",
       "    <tr>\n",
       "      <th>4</th>\n",
       "      <td>Crystal Palace FC</td>\n",
       "      <td>Crystal Palace</td>\n",
       "      <td>2018/2019</td>\n",
       "      <td>England</td>\n",
       "      <td>38</td>\n",
       "      <td>0</td>\n",
       "      <td>14</td>\n",
       "      <td>7</td>\n",
       "      <td>17</td>\n",
       "      <td>1.29</td>\n",
       "      <td>...</td>\n",
       "      <td>0.53</td>\n",
       "      <td>0.34</td>\n",
       "      <td>27</td>\n",
       "      <td>22</td>\n",
       "      <td>3</td>\n",
       "      <td>5.39</td>\n",
       "      <td>1.63</td>\n",
       "      <td>1.36</td>\n",
       "      <td>1.53</td>\n",
       "      <td>76</td>\n",
       "    </tr>\n",
       "  </tbody>\n",
       "</table>\n",
       "<p>5 rows × 46 columns</p>\n",
       "</div>"
      ],
      "text/plain": [
       "              team_name        common_name     season  country  \\\n",
       "0            Arsenal FC            Arsenal  2018/2019  England   \n",
       "1  Tottenham Hotspur FC  Tottenham Hotspur  2018/2019  England   \n",
       "2    Manchester City FC    Manchester City  2018/2019  England   \n",
       "3     Leicester City FC     Leicester City  2018/2019  England   \n",
       "4     Crystal Palace FC     Crystal Palace  2018/2019  England   \n",
       "\n",
       "   matches_played  suspended_matches  wins  draws  losses  points_per_game  \\\n",
       "0              38                  0    21      7      10             1.84   \n",
       "1              38                  0    23      2      13             1.87   \n",
       "2              38                  0    32      2       4             2.58   \n",
       "3              38                  0    15      7      16             1.37   \n",
       "4              38                  0    14      7      17             1.29   \n",
       "\n",
       "   ...  goals_scored_per_match_half_time  goals_conceded_per_match_half_time  \\\n",
       "0  ...                              0.74                                0.74   \n",
       "1  ...                              0.82                                0.29   \n",
       "2  ...                              1.29                                0.29   \n",
       "3  ...                              0.39                                0.71   \n",
       "4  ...                              0.53                                0.34   \n",
       "\n",
       "   clean_sheet_half_time  fts_half_time  btts_half_time  corners_per_match  \\\n",
       "0                     19             15              13               5.50   \n",
       "1                     27             19               3               5.11   \n",
       "2                     28              9               9               7.84   \n",
       "3                     16             25               6               5.53   \n",
       "4                     27             22               3               5.39   \n",
       "\n",
       "   cards_per_match  xg_for_avg_overall  xg_against_avg_overall  \\\n",
       "0             2.00                1.43                    1.44   \n",
       "1             1.63                1.58                    1.35   \n",
       "2             1.21                2.18                    0.79   \n",
       "3             1.76                1.56                    1.32   \n",
       "4             1.63                1.36                    1.53   \n",
       "\n",
       "   prediction_risk  \n",
       "0               87  \n",
       "1               89  \n",
       "2               92  \n",
       "3               68  \n",
       "4               76  \n",
       "\n",
       "[5 rows x 46 columns]"
      ]
     },
     "execution_count": 46,
     "metadata": {},
     "output_type": "execute_result"
    }
   ],
   "source": [
    "df_teams.drop(columns=col_remove, inplace=True)\n",
    "df_teams.head()"
   ]
  },
  {
   "cell_type": "code",
   "execution_count": 47,
   "metadata": {},
   "outputs": [
    {
     "data": {
      "text/plain": [
       "team_name                             0\n",
       "common_name                           0\n",
       "season                                0\n",
       "country                               0\n",
       "matches_played                        0\n",
       "suspended_matches                     0\n",
       "wins                                  0\n",
       "draws                                 0\n",
       "losses                                0\n",
       "points_per_game                       0\n",
       "league_position                       0\n",
       "performance_rank                      0\n",
       "goals_scored                          0\n",
       "goals_conceded                        0\n",
       "goal_difference                       0\n",
       "minutes_per_goal_scored               0\n",
       "minutes_per_goal_conceded             0\n",
       "clean_sheets                          0\n",
       "corners_total                         0\n",
       "cards_total                           0\n",
       "average_possession                    0\n",
       "shots                                 0\n",
       "shots_on_target                       0\n",
       "shots_off_target                      0\n",
       "fouls                                 0\n",
       "goals_scored_half_time                0\n",
       "goals_conceded_half_time              0\n",
       "goal_difference_half_time             0\n",
       "leading_at_half_time                  0\n",
       "draw_at_half_time                     0\n",
       "losing_at_half_time                   0\n",
       "points_per_game_half_time             0\n",
       "average_total_goals_per_match         0\n",
       "goals_scored_per_match                0\n",
       "goals_conceded_per_match              0\n",
       "total_goals_per_match_half_time       0\n",
       "goals_scored_per_match_half_time      0\n",
       "goals_conceded_per_match_half_time    0\n",
       "clean_sheet_half_time                 0\n",
       "fts_half_time                         0\n",
       "btts_half_time                        0\n",
       "corners_per_match                     0\n",
       "cards_per_match                       0\n",
       "xg_for_avg_overall                    0\n",
       "xg_against_avg_overall                0\n",
       "prediction_risk                       0\n",
       "dtype: int64"
      ]
     },
     "execution_count": 47,
     "metadata": {},
     "output_type": "execute_result"
    }
   ],
   "source": [
    "df_teams.isnull().sum()"
   ]
  },
  {
   "cell_type": "markdown",
   "metadata": {},
   "source": [
    "* goals_scored : Bàn thắng ghi được\n",
    "* goals_conceded : Số bàn bị thủng lưới\n",
    "* goal_difference : Hiệu số bàn thắng"
   ]
  },
  {
   "cell_type": "code",
   "execution_count": 48,
   "metadata": {},
   "outputs": [
    {
     "data": {
      "application/vnd.plotly.v1+json": {
       "config": {
        "plotlyServerURL": "https://plot.ly"
       },
       "data": [
        {
         "alignmentgroup": "True",
         "hovertemplate": "variable=goals_scored<br>team_name=%{x}<br>value=%{y}<extra></extra>",
         "legendgroup": "goals_scored",
         "marker": {
          "color": "#636efa",
          "pattern": {
           "shape": ""
          }
         },
         "name": "goals_scored",
         "offsetgroup": "goals_scored",
         "orientation": "v",
         "showlegend": true,
         "textposition": "auto",
         "type": "bar",
         "x": [
          "Manchester City FC",
          "Liverpool FC",
          "Arsenal FC",
          "Tottenham Hotspur FC",
          "Manchester United FC",
          "Chelsea FC",
          "AFC Bournemouth",
          "Everton FC",
          "Watford FC",
          "West Ham United FC",
          "Crystal Palace FC",
          "Leicester City FC",
          "Wolverhampton Wanderers FC",
          "Southampton FC",
          "Burnley FC",
          "Newcastle United FC",
          "Brighton & Hove Albion FC",
          "Cardiff City FC",
          "Fulham FC",
          "Huddersfield Town FC"
         ],
         "xaxis": "x",
         "y": [
          95,
          89,
          73,
          67,
          65,
          63,
          56,
          54,
          52,
          52,
          51,
          51,
          47,
          45,
          45,
          42,
          35,
          34,
          34,
          22
         ],
         "yaxis": "y"
        },
        {
         "alignmentgroup": "True",
         "hovertemplate": "variable=goals_conceded<br>team_name=%{x}<br>value=%{y}<extra></extra>",
         "legendgroup": "goals_conceded",
         "marker": {
          "color": "#EF553B",
          "pattern": {
           "shape": ""
          }
         },
         "name": "goals_conceded",
         "offsetgroup": "goals_conceded",
         "orientation": "v",
         "showlegend": true,
         "textposition": "auto",
         "type": "bar",
         "x": [
          "Manchester City FC",
          "Liverpool FC",
          "Arsenal FC",
          "Tottenham Hotspur FC",
          "Manchester United FC",
          "Chelsea FC",
          "AFC Bournemouth",
          "Everton FC",
          "Watford FC",
          "West Ham United FC",
          "Crystal Palace FC",
          "Leicester City FC",
          "Wolverhampton Wanderers FC",
          "Southampton FC",
          "Burnley FC",
          "Newcastle United FC",
          "Brighton & Hove Albion FC",
          "Cardiff City FC",
          "Fulham FC",
          "Huddersfield Town FC"
         ],
         "xaxis": "x",
         "y": [
          23,
          22,
          51,
          39,
          54,
          39,
          70,
          46,
          59,
          55,
          53,
          48,
          46,
          65,
          68,
          48,
          60,
          69,
          81,
          76
         ],
         "yaxis": "y"
        }
       ],
       "layout": {
        "barmode": "group",
        "legend": {
         "title": {
          "text": "NOTE"
         },
         "tracegroupgap": 0
        },
        "margin": {
         "t": 60
        },
        "template": {
         "data": {
          "bar": [
           {
            "error_x": {
             "color": "#2a3f5f"
            },
            "error_y": {
             "color": "#2a3f5f"
            },
            "marker": {
             "line": {
              "color": "#E5ECF6",
              "width": 0.5
             },
             "pattern": {
              "fillmode": "overlay",
              "size": 10,
              "solidity": 0.2
             }
            },
            "type": "bar"
           }
          ],
          "barpolar": [
           {
            "marker": {
             "line": {
              "color": "#E5ECF6",
              "width": 0.5
             },
             "pattern": {
              "fillmode": "overlay",
              "size": 10,
              "solidity": 0.2
             }
            },
            "type": "barpolar"
           }
          ],
          "carpet": [
           {
            "aaxis": {
             "endlinecolor": "#2a3f5f",
             "gridcolor": "white",
             "linecolor": "white",
             "minorgridcolor": "white",
             "startlinecolor": "#2a3f5f"
            },
            "baxis": {
             "endlinecolor": "#2a3f5f",
             "gridcolor": "white",
             "linecolor": "white",
             "minorgridcolor": "white",
             "startlinecolor": "#2a3f5f"
            },
            "type": "carpet"
           }
          ],
          "choropleth": [
           {
            "colorbar": {
             "outlinewidth": 0,
             "ticks": ""
            },
            "type": "choropleth"
           }
          ],
          "contour": [
           {
            "colorbar": {
             "outlinewidth": 0,
             "ticks": ""
            },
            "colorscale": [
             [
              0,
              "#0d0887"
             ],
             [
              0.1111111111111111,
              "#46039f"
             ],
             [
              0.2222222222222222,
              "#7201a8"
             ],
             [
              0.3333333333333333,
              "#9c179e"
             ],
             [
              0.4444444444444444,
              "#bd3786"
             ],
             [
              0.5555555555555556,
              "#d8576b"
             ],
             [
              0.6666666666666666,
              "#ed7953"
             ],
             [
              0.7777777777777778,
              "#fb9f3a"
             ],
             [
              0.8888888888888888,
              "#fdca26"
             ],
             [
              1,
              "#f0f921"
             ]
            ],
            "type": "contour"
           }
          ],
          "contourcarpet": [
           {
            "colorbar": {
             "outlinewidth": 0,
             "ticks": ""
            },
            "type": "contourcarpet"
           }
          ],
          "heatmap": [
           {
            "colorbar": {
             "outlinewidth": 0,
             "ticks": ""
            },
            "colorscale": [
             [
              0,
              "#0d0887"
             ],
             [
              0.1111111111111111,
              "#46039f"
             ],
             [
              0.2222222222222222,
              "#7201a8"
             ],
             [
              0.3333333333333333,
              "#9c179e"
             ],
             [
              0.4444444444444444,
              "#bd3786"
             ],
             [
              0.5555555555555556,
              "#d8576b"
             ],
             [
              0.6666666666666666,
              "#ed7953"
             ],
             [
              0.7777777777777778,
              "#fb9f3a"
             ],
             [
              0.8888888888888888,
              "#fdca26"
             ],
             [
              1,
              "#f0f921"
             ]
            ],
            "type": "heatmap"
           }
          ],
          "heatmapgl": [
           {
            "colorbar": {
             "outlinewidth": 0,
             "ticks": ""
            },
            "colorscale": [
             [
              0,
              "#0d0887"
             ],
             [
              0.1111111111111111,
              "#46039f"
             ],
             [
              0.2222222222222222,
              "#7201a8"
             ],
             [
              0.3333333333333333,
              "#9c179e"
             ],
             [
              0.4444444444444444,
              "#bd3786"
             ],
             [
              0.5555555555555556,
              "#d8576b"
             ],
             [
              0.6666666666666666,
              "#ed7953"
             ],
             [
              0.7777777777777778,
              "#fb9f3a"
             ],
             [
              0.8888888888888888,
              "#fdca26"
             ],
             [
              1,
              "#f0f921"
             ]
            ],
            "type": "heatmapgl"
           }
          ],
          "histogram": [
           {
            "marker": {
             "pattern": {
              "fillmode": "overlay",
              "size": 10,
              "solidity": 0.2
             }
            },
            "type": "histogram"
           }
          ],
          "histogram2d": [
           {
            "colorbar": {
             "outlinewidth": 0,
             "ticks": ""
            },
            "colorscale": [
             [
              0,
              "#0d0887"
             ],
             [
              0.1111111111111111,
              "#46039f"
             ],
             [
              0.2222222222222222,
              "#7201a8"
             ],
             [
              0.3333333333333333,
              "#9c179e"
             ],
             [
              0.4444444444444444,
              "#bd3786"
             ],
             [
              0.5555555555555556,
              "#d8576b"
             ],
             [
              0.6666666666666666,
              "#ed7953"
             ],
             [
              0.7777777777777778,
              "#fb9f3a"
             ],
             [
              0.8888888888888888,
              "#fdca26"
             ],
             [
              1,
              "#f0f921"
             ]
            ],
            "type": "histogram2d"
           }
          ],
          "histogram2dcontour": [
           {
            "colorbar": {
             "outlinewidth": 0,
             "ticks": ""
            },
            "colorscale": [
             [
              0,
              "#0d0887"
             ],
             [
              0.1111111111111111,
              "#46039f"
             ],
             [
              0.2222222222222222,
              "#7201a8"
             ],
             [
              0.3333333333333333,
              "#9c179e"
             ],
             [
              0.4444444444444444,
              "#bd3786"
             ],
             [
              0.5555555555555556,
              "#d8576b"
             ],
             [
              0.6666666666666666,
              "#ed7953"
             ],
             [
              0.7777777777777778,
              "#fb9f3a"
             ],
             [
              0.8888888888888888,
              "#fdca26"
             ],
             [
              1,
              "#f0f921"
             ]
            ],
            "type": "histogram2dcontour"
           }
          ],
          "mesh3d": [
           {
            "colorbar": {
             "outlinewidth": 0,
             "ticks": ""
            },
            "type": "mesh3d"
           }
          ],
          "parcoords": [
           {
            "line": {
             "colorbar": {
              "outlinewidth": 0,
              "ticks": ""
             }
            },
            "type": "parcoords"
           }
          ],
          "pie": [
           {
            "automargin": true,
            "type": "pie"
           }
          ],
          "scatter": [
           {
            "fillpattern": {
             "fillmode": "overlay",
             "size": 10,
             "solidity": 0.2
            },
            "type": "scatter"
           }
          ],
          "scatter3d": [
           {
            "line": {
             "colorbar": {
              "outlinewidth": 0,
              "ticks": ""
             }
            },
            "marker": {
             "colorbar": {
              "outlinewidth": 0,
              "ticks": ""
             }
            },
            "type": "scatter3d"
           }
          ],
          "scattercarpet": [
           {
            "marker": {
             "colorbar": {
              "outlinewidth": 0,
              "ticks": ""
             }
            },
            "type": "scattercarpet"
           }
          ],
          "scattergeo": [
           {
            "marker": {
             "colorbar": {
              "outlinewidth": 0,
              "ticks": ""
             }
            },
            "type": "scattergeo"
           }
          ],
          "scattergl": [
           {
            "marker": {
             "colorbar": {
              "outlinewidth": 0,
              "ticks": ""
             }
            },
            "type": "scattergl"
           }
          ],
          "scattermapbox": [
           {
            "marker": {
             "colorbar": {
              "outlinewidth": 0,
              "ticks": ""
             }
            },
            "type": "scattermapbox"
           }
          ],
          "scatterpolar": [
           {
            "marker": {
             "colorbar": {
              "outlinewidth": 0,
              "ticks": ""
             }
            },
            "type": "scatterpolar"
           }
          ],
          "scatterpolargl": [
           {
            "marker": {
             "colorbar": {
              "outlinewidth": 0,
              "ticks": ""
             }
            },
            "type": "scatterpolargl"
           }
          ],
          "scatterternary": [
           {
            "marker": {
             "colorbar": {
              "outlinewidth": 0,
              "ticks": ""
             }
            },
            "type": "scatterternary"
           }
          ],
          "surface": [
           {
            "colorbar": {
             "outlinewidth": 0,
             "ticks": ""
            },
            "colorscale": [
             [
              0,
              "#0d0887"
             ],
             [
              0.1111111111111111,
              "#46039f"
             ],
             [
              0.2222222222222222,
              "#7201a8"
             ],
             [
              0.3333333333333333,
              "#9c179e"
             ],
             [
              0.4444444444444444,
              "#bd3786"
             ],
             [
              0.5555555555555556,
              "#d8576b"
             ],
             [
              0.6666666666666666,
              "#ed7953"
             ],
             [
              0.7777777777777778,
              "#fb9f3a"
             ],
             [
              0.8888888888888888,
              "#fdca26"
             ],
             [
              1,
              "#f0f921"
             ]
            ],
            "type": "surface"
           }
          ],
          "table": [
           {
            "cells": {
             "fill": {
              "color": "#EBF0F8"
             },
             "line": {
              "color": "white"
             }
            },
            "header": {
             "fill": {
              "color": "#C8D4E3"
             },
             "line": {
              "color": "white"
             }
            },
            "type": "table"
           }
          ]
         },
         "layout": {
          "annotationdefaults": {
           "arrowcolor": "#2a3f5f",
           "arrowhead": 0,
           "arrowwidth": 1
          },
          "autotypenumbers": "strict",
          "coloraxis": {
           "colorbar": {
            "outlinewidth": 0,
            "ticks": ""
           }
          },
          "colorscale": {
           "diverging": [
            [
             0,
             "#8e0152"
            ],
            [
             0.1,
             "#c51b7d"
            ],
            [
             0.2,
             "#de77ae"
            ],
            [
             0.3,
             "#f1b6da"
            ],
            [
             0.4,
             "#fde0ef"
            ],
            [
             0.5,
             "#f7f7f7"
            ],
            [
             0.6,
             "#e6f5d0"
            ],
            [
             0.7,
             "#b8e186"
            ],
            [
             0.8,
             "#7fbc41"
            ],
            [
             0.9,
             "#4d9221"
            ],
            [
             1,
             "#276419"
            ]
           ],
           "sequential": [
            [
             0,
             "#0d0887"
            ],
            [
             0.1111111111111111,
             "#46039f"
            ],
            [
             0.2222222222222222,
             "#7201a8"
            ],
            [
             0.3333333333333333,
             "#9c179e"
            ],
            [
             0.4444444444444444,
             "#bd3786"
            ],
            [
             0.5555555555555556,
             "#d8576b"
            ],
            [
             0.6666666666666666,
             "#ed7953"
            ],
            [
             0.7777777777777778,
             "#fb9f3a"
            ],
            [
             0.8888888888888888,
             "#fdca26"
            ],
            [
             1,
             "#f0f921"
            ]
           ],
           "sequentialminus": [
            [
             0,
             "#0d0887"
            ],
            [
             0.1111111111111111,
             "#46039f"
            ],
            [
             0.2222222222222222,
             "#7201a8"
            ],
            [
             0.3333333333333333,
             "#9c179e"
            ],
            [
             0.4444444444444444,
             "#bd3786"
            ],
            [
             0.5555555555555556,
             "#d8576b"
            ],
            [
             0.6666666666666666,
             "#ed7953"
            ],
            [
             0.7777777777777778,
             "#fb9f3a"
            ],
            [
             0.8888888888888888,
             "#fdca26"
            ],
            [
             1,
             "#f0f921"
            ]
           ]
          },
          "colorway": [
           "#636efa",
           "#EF553B",
           "#00cc96",
           "#ab63fa",
           "#FFA15A",
           "#19d3f3",
           "#FF6692",
           "#B6E880",
           "#FF97FF",
           "#FECB52"
          ],
          "font": {
           "color": "#2a3f5f"
          },
          "geo": {
           "bgcolor": "white",
           "lakecolor": "white",
           "landcolor": "#E5ECF6",
           "showlakes": true,
           "showland": true,
           "subunitcolor": "white"
          },
          "hoverlabel": {
           "align": "left"
          },
          "hovermode": "closest",
          "mapbox": {
           "style": "light"
          },
          "paper_bgcolor": "white",
          "plot_bgcolor": "#E5ECF6",
          "polar": {
           "angularaxis": {
            "gridcolor": "white",
            "linecolor": "white",
            "ticks": ""
           },
           "bgcolor": "#E5ECF6",
           "radialaxis": {
            "gridcolor": "white",
            "linecolor": "white",
            "ticks": ""
           }
          },
          "scene": {
           "xaxis": {
            "backgroundcolor": "#E5ECF6",
            "gridcolor": "white",
            "gridwidth": 2,
            "linecolor": "white",
            "showbackground": true,
            "ticks": "",
            "zerolinecolor": "white"
           },
           "yaxis": {
            "backgroundcolor": "#E5ECF6",
            "gridcolor": "white",
            "gridwidth": 2,
            "linecolor": "white",
            "showbackground": true,
            "ticks": "",
            "zerolinecolor": "white"
           },
           "zaxis": {
            "backgroundcolor": "#E5ECF6",
            "gridcolor": "white",
            "gridwidth": 2,
            "linecolor": "white",
            "showbackground": true,
            "ticks": "",
            "zerolinecolor": "white"
           }
          },
          "shapedefaults": {
           "line": {
            "color": "#2a3f5f"
           }
          },
          "ternary": {
           "aaxis": {
            "gridcolor": "white",
            "linecolor": "white",
            "ticks": ""
           },
           "baxis": {
            "gridcolor": "white",
            "linecolor": "white",
            "ticks": ""
           },
           "bgcolor": "#E5ECF6",
           "caxis": {
            "gridcolor": "white",
            "linecolor": "white",
            "ticks": ""
           }
          },
          "title": {
           "x": 0.05
          },
          "xaxis": {
           "automargin": true,
           "gridcolor": "white",
           "linecolor": "white",
           "ticks": "",
           "title": {
            "standoff": 15
           },
           "zerolinecolor": "white",
           "zerolinewidth": 2
          },
          "yaxis": {
           "automargin": true,
           "gridcolor": "white",
           "linecolor": "white",
           "ticks": "",
           "title": {
            "standoff": 15
           },
           "zerolinecolor": "white",
           "zerolinewidth": 2
          }
         }
        },
        "title": {
         "font": {
          "size": 28
         },
         "text": "<b>Total goals score, goals conceded by club <b>",
         "x": 0.5
        },
        "xaxis": {
         "anchor": "y",
         "domain": [
          0,
          1
         ],
         "tickfont": {
          "size": 15
         },
         "title": {
          "font": {
           "size": 20
          },
          "text": "Teams name"
         }
        },
        "yaxis": {
         "anchor": "x",
         "domain": [
          0,
          1
         ],
         "tickfont": {
          "size": 18
         },
         "title": {
          "font": {
           "size": 20
          },
          "text": "Goals"
         }
        }
       }
      }
     },
     "metadata": {},
     "output_type": "display_data"
    }
   ],
   "source": [
    "topteams_goals = df_teams.sort_values(by='goals_scored', ascending=False)\n",
    "fig = px.bar(topteams_goals, x='team_name', y=['goals_scored', 'goals_conceded'], barmode='group')\n",
    "fig.update_layout(\n",
    "                    title='<b>Total goals score, goals conceded by club <b>',\n",
    "                    title_x=0.5,\n",
    "                    title_font=dict(size=28),\n",
    "                    xaxis=dict(title='Teams name',\n",
    "                                titlefont_size=20,\n",
    "                                tickfont_size=15,\n",
    "                                ),\n",
    "                    yaxis=dict(\n",
    "                        title='Goals',\n",
    "                        titlefont_size=20,\n",
    "                        tickfont_size=18,\n",
    "                    ),\n",
    "                    legend=dict(title='NOTE'),\n",
    ")\n",
    "fig.show()"
   ]
  },
  {
   "cell_type": "code",
   "execution_count": 50,
   "metadata": {},
   "outputs": [
    {
     "data": {
      "application/vnd.plotly.v1+json": {
       "config": {
        "plotlyServerURL": "https://plot.ly"
       },
       "data": [
        {
         "alignmentgroup": "True",
         "hovertemplate": "variable=wins<br>value=%{x}<br>team_name=%{y}<extra></extra>",
         "legendgroup": "wins",
         "marker": {
          "color": "#636efa",
          "pattern": {
           "shape": ""
          }
         },
         "name": "wins",
         "offsetgroup": "wins",
         "orientation": "h",
         "showlegend": true,
         "textposition": "auto",
         "texttemplate": "%{x}",
         "type": "bar",
         "x": [
          7.9,
          18.4,
          23.7,
          23.7,
          26.3,
          28.9,
          31.6,
          34.2,
          36.8,
          36.8,
          39.5,
          39.5,
          39.5,
          42.1,
          50,
          55.3,
          55.3,
          60.5,
          78.9,
          84.2
         ],
         "xaxis": "x",
         "y": [
          "Huddersfield Town FC",
          "Fulham FC",
          "Brighton & Hove Albion FC",
          "Southampton FC",
          "Cardiff City FC",
          "Burnley FC",
          "Newcastle United FC",
          "AFC Bournemouth",
          "Crystal Palace FC",
          "Watford FC",
          "Leicester City FC",
          "Everton FC",
          "West Ham United FC",
          "Wolverhampton Wanderers FC",
          "Manchester United FC",
          "Chelsea FC",
          "Arsenal FC",
          "Tottenham Hotspur FC",
          "Liverpool FC",
          "Manchester City FC"
         ],
         "yaxis": "y"
        },
        {
         "alignmentgroup": "True",
         "hovertemplate": "variable=draws<br>value=%{x}<br>team_name=%{y}<extra></extra>",
         "legendgroup": "draws",
         "marker": {
          "color": "#EF553B",
          "pattern": {
           "shape": ""
          }
         },
         "name": "draws",
         "offsetgroup": "draws",
         "orientation": "h",
         "showlegend": true,
         "textposition": "auto",
         "texttemplate": "%{x}",
         "type": "bar",
         "x": [
          18.4,
          13.2,
          23.7,
          31.6,
          10.5,
          18.4,
          23.7,
          15.8,
          18.4,
          21.1,
          18.4,
          23.7,
          18.4,
          23.7,
          23.7,
          23.7,
          18.4,
          5.3,
          18.4,
          5.3
         ],
         "xaxis": "x",
         "y": [
          "Huddersfield Town FC",
          "Fulham FC",
          "Brighton & Hove Albion FC",
          "Southampton FC",
          "Cardiff City FC",
          "Burnley FC",
          "Newcastle United FC",
          "AFC Bournemouth",
          "Crystal Palace FC",
          "Watford FC",
          "Leicester City FC",
          "Everton FC",
          "West Ham United FC",
          "Wolverhampton Wanderers FC",
          "Manchester United FC",
          "Chelsea FC",
          "Arsenal FC",
          "Tottenham Hotspur FC",
          "Liverpool FC",
          "Manchester City FC"
         ],
         "yaxis": "y"
        },
        {
         "alignmentgroup": "True",
         "hovertemplate": "variable=losses<br>value=%{x}<br>team_name=%{y}<extra></extra>",
         "legendgroup": "losses",
         "marker": {
          "color": "#00cc96",
          "pattern": {
           "shape": ""
          }
         },
         "name": "losses",
         "offsetgroup": "losses",
         "orientation": "h",
         "showlegend": true,
         "textposition": "auto",
         "texttemplate": "%{x}",
         "type": "bar",
         "x": [
          73.7,
          68.4,
          52.6,
          44.7,
          63.2,
          52.6,
          44.7,
          50,
          44.7,
          42.1,
          42.1,
          36.8,
          42.1,
          34.2,
          26.3,
          21.1,
          26.3,
          34.2,
          2.6,
          10.5
         ],
         "xaxis": "x",
         "y": [
          "Huddersfield Town FC",
          "Fulham FC",
          "Brighton & Hove Albion FC",
          "Southampton FC",
          "Cardiff City FC",
          "Burnley FC",
          "Newcastle United FC",
          "AFC Bournemouth",
          "Crystal Palace FC",
          "Watford FC",
          "Leicester City FC",
          "Everton FC",
          "West Ham United FC",
          "Wolverhampton Wanderers FC",
          "Manchester United FC",
          "Chelsea FC",
          "Arsenal FC",
          "Tottenham Hotspur FC",
          "Liverpool FC",
          "Manchester City FC"
         ],
         "yaxis": "y"
        }
       ],
       "layout": {
        "barmode": "relative",
        "height": 800,
        "legend": {
         "title": {
          "text": "NOTE"
         },
         "tracegroupgap": 0
        },
        "margin": {
         "t": 60
        },
        "template": {
         "data": {
          "bar": [
           {
            "error_x": {
             "color": "#2a3f5f"
            },
            "error_y": {
             "color": "#2a3f5f"
            },
            "marker": {
             "line": {
              "color": "#E5ECF6",
              "width": 0.5
             },
             "pattern": {
              "fillmode": "overlay",
              "size": 10,
              "solidity": 0.2
             }
            },
            "type": "bar"
           }
          ],
          "barpolar": [
           {
            "marker": {
             "line": {
              "color": "#E5ECF6",
              "width": 0.5
             },
             "pattern": {
              "fillmode": "overlay",
              "size": 10,
              "solidity": 0.2
             }
            },
            "type": "barpolar"
           }
          ],
          "carpet": [
           {
            "aaxis": {
             "endlinecolor": "#2a3f5f",
             "gridcolor": "white",
             "linecolor": "white",
             "minorgridcolor": "white",
             "startlinecolor": "#2a3f5f"
            },
            "baxis": {
             "endlinecolor": "#2a3f5f",
             "gridcolor": "white",
             "linecolor": "white",
             "minorgridcolor": "white",
             "startlinecolor": "#2a3f5f"
            },
            "type": "carpet"
           }
          ],
          "choropleth": [
           {
            "colorbar": {
             "outlinewidth": 0,
             "ticks": ""
            },
            "type": "choropleth"
           }
          ],
          "contour": [
           {
            "colorbar": {
             "outlinewidth": 0,
             "ticks": ""
            },
            "colorscale": [
             [
              0,
              "#0d0887"
             ],
             [
              0.1111111111111111,
              "#46039f"
             ],
             [
              0.2222222222222222,
              "#7201a8"
             ],
             [
              0.3333333333333333,
              "#9c179e"
             ],
             [
              0.4444444444444444,
              "#bd3786"
             ],
             [
              0.5555555555555556,
              "#d8576b"
             ],
             [
              0.6666666666666666,
              "#ed7953"
             ],
             [
              0.7777777777777778,
              "#fb9f3a"
             ],
             [
              0.8888888888888888,
              "#fdca26"
             ],
             [
              1,
              "#f0f921"
             ]
            ],
            "type": "contour"
           }
          ],
          "contourcarpet": [
           {
            "colorbar": {
             "outlinewidth": 0,
             "ticks": ""
            },
            "type": "contourcarpet"
           }
          ],
          "heatmap": [
           {
            "colorbar": {
             "outlinewidth": 0,
             "ticks": ""
            },
            "colorscale": [
             [
              0,
              "#0d0887"
             ],
             [
              0.1111111111111111,
              "#46039f"
             ],
             [
              0.2222222222222222,
              "#7201a8"
             ],
             [
              0.3333333333333333,
              "#9c179e"
             ],
             [
              0.4444444444444444,
              "#bd3786"
             ],
             [
              0.5555555555555556,
              "#d8576b"
             ],
             [
              0.6666666666666666,
              "#ed7953"
             ],
             [
              0.7777777777777778,
              "#fb9f3a"
             ],
             [
              0.8888888888888888,
              "#fdca26"
             ],
             [
              1,
              "#f0f921"
             ]
            ],
            "type": "heatmap"
           }
          ],
          "heatmapgl": [
           {
            "colorbar": {
             "outlinewidth": 0,
             "ticks": ""
            },
            "colorscale": [
             [
              0,
              "#0d0887"
             ],
             [
              0.1111111111111111,
              "#46039f"
             ],
             [
              0.2222222222222222,
              "#7201a8"
             ],
             [
              0.3333333333333333,
              "#9c179e"
             ],
             [
              0.4444444444444444,
              "#bd3786"
             ],
             [
              0.5555555555555556,
              "#d8576b"
             ],
             [
              0.6666666666666666,
              "#ed7953"
             ],
             [
              0.7777777777777778,
              "#fb9f3a"
             ],
             [
              0.8888888888888888,
              "#fdca26"
             ],
             [
              1,
              "#f0f921"
             ]
            ],
            "type": "heatmapgl"
           }
          ],
          "histogram": [
           {
            "marker": {
             "pattern": {
              "fillmode": "overlay",
              "size": 10,
              "solidity": 0.2
             }
            },
            "type": "histogram"
           }
          ],
          "histogram2d": [
           {
            "colorbar": {
             "outlinewidth": 0,
             "ticks": ""
            },
            "colorscale": [
             [
              0,
              "#0d0887"
             ],
             [
              0.1111111111111111,
              "#46039f"
             ],
             [
              0.2222222222222222,
              "#7201a8"
             ],
             [
              0.3333333333333333,
              "#9c179e"
             ],
             [
              0.4444444444444444,
              "#bd3786"
             ],
             [
              0.5555555555555556,
              "#d8576b"
             ],
             [
              0.6666666666666666,
              "#ed7953"
             ],
             [
              0.7777777777777778,
              "#fb9f3a"
             ],
             [
              0.8888888888888888,
              "#fdca26"
             ],
             [
              1,
              "#f0f921"
             ]
            ],
            "type": "histogram2d"
           }
          ],
          "histogram2dcontour": [
           {
            "colorbar": {
             "outlinewidth": 0,
             "ticks": ""
            },
            "colorscale": [
             [
              0,
              "#0d0887"
             ],
             [
              0.1111111111111111,
              "#46039f"
             ],
             [
              0.2222222222222222,
              "#7201a8"
             ],
             [
              0.3333333333333333,
              "#9c179e"
             ],
             [
              0.4444444444444444,
              "#bd3786"
             ],
             [
              0.5555555555555556,
              "#d8576b"
             ],
             [
              0.6666666666666666,
              "#ed7953"
             ],
             [
              0.7777777777777778,
              "#fb9f3a"
             ],
             [
              0.8888888888888888,
              "#fdca26"
             ],
             [
              1,
              "#f0f921"
             ]
            ],
            "type": "histogram2dcontour"
           }
          ],
          "mesh3d": [
           {
            "colorbar": {
             "outlinewidth": 0,
             "ticks": ""
            },
            "type": "mesh3d"
           }
          ],
          "parcoords": [
           {
            "line": {
             "colorbar": {
              "outlinewidth": 0,
              "ticks": ""
             }
            },
            "type": "parcoords"
           }
          ],
          "pie": [
           {
            "automargin": true,
            "type": "pie"
           }
          ],
          "scatter": [
           {
            "fillpattern": {
             "fillmode": "overlay",
             "size": 10,
             "solidity": 0.2
            },
            "type": "scatter"
           }
          ],
          "scatter3d": [
           {
            "line": {
             "colorbar": {
              "outlinewidth": 0,
              "ticks": ""
             }
            },
            "marker": {
             "colorbar": {
              "outlinewidth": 0,
              "ticks": ""
             }
            },
            "type": "scatter3d"
           }
          ],
          "scattercarpet": [
           {
            "marker": {
             "colorbar": {
              "outlinewidth": 0,
              "ticks": ""
             }
            },
            "type": "scattercarpet"
           }
          ],
          "scattergeo": [
           {
            "marker": {
             "colorbar": {
              "outlinewidth": 0,
              "ticks": ""
             }
            },
            "type": "scattergeo"
           }
          ],
          "scattergl": [
           {
            "marker": {
             "colorbar": {
              "outlinewidth": 0,
              "ticks": ""
             }
            },
            "type": "scattergl"
           }
          ],
          "scattermapbox": [
           {
            "marker": {
             "colorbar": {
              "outlinewidth": 0,
              "ticks": ""
             }
            },
            "type": "scattermapbox"
           }
          ],
          "scatterpolar": [
           {
            "marker": {
             "colorbar": {
              "outlinewidth": 0,
              "ticks": ""
             }
            },
            "type": "scatterpolar"
           }
          ],
          "scatterpolargl": [
           {
            "marker": {
             "colorbar": {
              "outlinewidth": 0,
              "ticks": ""
             }
            },
            "type": "scatterpolargl"
           }
          ],
          "scatterternary": [
           {
            "marker": {
             "colorbar": {
              "outlinewidth": 0,
              "ticks": ""
             }
            },
            "type": "scatterternary"
           }
          ],
          "surface": [
           {
            "colorbar": {
             "outlinewidth": 0,
             "ticks": ""
            },
            "colorscale": [
             [
              0,
              "#0d0887"
             ],
             [
              0.1111111111111111,
              "#46039f"
             ],
             [
              0.2222222222222222,
              "#7201a8"
             ],
             [
              0.3333333333333333,
              "#9c179e"
             ],
             [
              0.4444444444444444,
              "#bd3786"
             ],
             [
              0.5555555555555556,
              "#d8576b"
             ],
             [
              0.6666666666666666,
              "#ed7953"
             ],
             [
              0.7777777777777778,
              "#fb9f3a"
             ],
             [
              0.8888888888888888,
              "#fdca26"
             ],
             [
              1,
              "#f0f921"
             ]
            ],
            "type": "surface"
           }
          ],
          "table": [
           {
            "cells": {
             "fill": {
              "color": "#EBF0F8"
             },
             "line": {
              "color": "white"
             }
            },
            "header": {
             "fill": {
              "color": "#C8D4E3"
             },
             "line": {
              "color": "white"
             }
            },
            "type": "table"
           }
          ]
         },
         "layout": {
          "annotationdefaults": {
           "arrowcolor": "#2a3f5f",
           "arrowhead": 0,
           "arrowwidth": 1
          },
          "autotypenumbers": "strict",
          "coloraxis": {
           "colorbar": {
            "outlinewidth": 0,
            "ticks": ""
           }
          },
          "colorscale": {
           "diverging": [
            [
             0,
             "#8e0152"
            ],
            [
             0.1,
             "#c51b7d"
            ],
            [
             0.2,
             "#de77ae"
            ],
            [
             0.3,
             "#f1b6da"
            ],
            [
             0.4,
             "#fde0ef"
            ],
            [
             0.5,
             "#f7f7f7"
            ],
            [
             0.6,
             "#e6f5d0"
            ],
            [
             0.7,
             "#b8e186"
            ],
            [
             0.8,
             "#7fbc41"
            ],
            [
             0.9,
             "#4d9221"
            ],
            [
             1,
             "#276419"
            ]
           ],
           "sequential": [
            [
             0,
             "#0d0887"
            ],
            [
             0.1111111111111111,
             "#46039f"
            ],
            [
             0.2222222222222222,
             "#7201a8"
            ],
            [
             0.3333333333333333,
             "#9c179e"
            ],
            [
             0.4444444444444444,
             "#bd3786"
            ],
            [
             0.5555555555555556,
             "#d8576b"
            ],
            [
             0.6666666666666666,
             "#ed7953"
            ],
            [
             0.7777777777777778,
             "#fb9f3a"
            ],
            [
             0.8888888888888888,
             "#fdca26"
            ],
            [
             1,
             "#f0f921"
            ]
           ],
           "sequentialminus": [
            [
             0,
             "#0d0887"
            ],
            [
             0.1111111111111111,
             "#46039f"
            ],
            [
             0.2222222222222222,
             "#7201a8"
            ],
            [
             0.3333333333333333,
             "#9c179e"
            ],
            [
             0.4444444444444444,
             "#bd3786"
            ],
            [
             0.5555555555555556,
             "#d8576b"
            ],
            [
             0.6666666666666666,
             "#ed7953"
            ],
            [
             0.7777777777777778,
             "#fb9f3a"
            ],
            [
             0.8888888888888888,
             "#fdca26"
            ],
            [
             1,
             "#f0f921"
            ]
           ]
          },
          "colorway": [
           "#636efa",
           "#EF553B",
           "#00cc96",
           "#ab63fa",
           "#FFA15A",
           "#19d3f3",
           "#FF6692",
           "#B6E880",
           "#FF97FF",
           "#FECB52"
          ],
          "font": {
           "color": "#2a3f5f"
          },
          "geo": {
           "bgcolor": "white",
           "lakecolor": "white",
           "landcolor": "#E5ECF6",
           "showlakes": true,
           "showland": true,
           "subunitcolor": "white"
          },
          "hoverlabel": {
           "align": "left"
          },
          "hovermode": "closest",
          "mapbox": {
           "style": "light"
          },
          "paper_bgcolor": "white",
          "plot_bgcolor": "#E5ECF6",
          "polar": {
           "angularaxis": {
            "gridcolor": "white",
            "linecolor": "white",
            "ticks": ""
           },
           "bgcolor": "#E5ECF6",
           "radialaxis": {
            "gridcolor": "white",
            "linecolor": "white",
            "ticks": ""
           }
          },
          "scene": {
           "xaxis": {
            "backgroundcolor": "#E5ECF6",
            "gridcolor": "white",
            "gridwidth": 2,
            "linecolor": "white",
            "showbackground": true,
            "ticks": "",
            "zerolinecolor": "white"
           },
           "yaxis": {
            "backgroundcolor": "#E5ECF6",
            "gridcolor": "white",
            "gridwidth": 2,
            "linecolor": "white",
            "showbackground": true,
            "ticks": "",
            "zerolinecolor": "white"
           },
           "zaxis": {
            "backgroundcolor": "#E5ECF6",
            "gridcolor": "white",
            "gridwidth": 2,
            "linecolor": "white",
            "showbackground": true,
            "ticks": "",
            "zerolinecolor": "white"
           }
          },
          "shapedefaults": {
           "line": {
            "color": "#2a3f5f"
           }
          },
          "ternary": {
           "aaxis": {
            "gridcolor": "white",
            "linecolor": "white",
            "ticks": ""
           },
           "baxis": {
            "gridcolor": "white",
            "linecolor": "white",
            "ticks": ""
           },
           "bgcolor": "#E5ECF6",
           "caxis": {
            "gridcolor": "white",
            "linecolor": "white",
            "ticks": ""
           }
          },
          "title": {
           "x": 0.05
          },
          "xaxis": {
           "automargin": true,
           "gridcolor": "white",
           "linecolor": "white",
           "ticks": "",
           "title": {
            "standoff": 15
           },
           "zerolinecolor": "white",
           "zerolinewidth": 2
          },
          "yaxis": {
           "automargin": true,
           "gridcolor": "white",
           "linecolor": "white",
           "ticks": "",
           "title": {
            "standoff": 15
           },
           "zerolinecolor": "white",
           "zerolinewidth": 2
          }
         }
        },
        "title": {
         "font": {
          "size": 26
         },
         "text": "<b>Percentage of Win-Draw-Lose by Club <b>",
         "x": 0.5
        },
        "width": 1200,
        "xaxis": {
         "anchor": "y",
         "domain": [
          0,
          1
         ],
         "tickfont": {
          "size": 18
         },
         "title": {
          "font": {
           "size": 20
          },
          "text": "Percentage"
         }
        },
        "yaxis": {
         "anchor": "x",
         "domain": [
          0,
          1
         ],
         "tickfont": {
          "size": 15
         },
         "title": {
          "font": {
           "size": 20
          },
          "text": "Teams name"
         }
        }
       }
      }
     },
     "metadata": {},
     "output_type": "display_data"
    }
   ],
   "source": [
    "sort_wdl = df_teams.sort_values(by='wins')\n",
    "sort_wdl[['wins','draws','losses']] = (sort_wdl[['wins','draws','losses']]/38*100).round(1)\n",
    "fig = px.bar(sort_wdl, y='team_name', x=['wins', 'draws', 'losses'], text_auto=True, width=1200, height=800)\n",
    "fig.update_layout(title='<b>Percentage of Win-Draw-Lose by Club <b>',\n",
    "                title_x=0.5, title_font=dict(size=26),\n",
    "                yaxis=dict(title='Teams name',\n",
    "                            titlefont_size=20,\n",
    "                            tickfont_size=15,\n",
    "                            ),\n",
    "                xaxis=dict(\n",
    "                    title='Percentage',\n",
    "                    titlefont_size=20,\n",
    "                    tickfont_size=18,\n",
    "                    ),\n",
    "                legend=dict(title='NOTE'),\n",
    "                )\n",
    "fig.show()"
   ]
  },
  {
   "cell_type": "code",
   "execution_count": null,
   "metadata": {},
   "outputs": [],
   "source": [
    "schools = [\"Brown\", \"NYU\", \"Notre Dame\", \"Cornell\", \"Tufts\", \"Yale\",\n",
    "           \"Dartmouth\", \"Chicago\", \"Columbia\", \"Duke\", \"Georgetown\",\n",
    "           \"Princeton\", \"U.Penn\", \"Stanford\", \"MIT\", \"Harvard\"]\n",
    "n_schools = len(schools)\n",
    "\n",
    "women_salary = [72, 67, 73, 80, 76, 79, 84, 78, 86, 93, 94, 90, 92, 96, 94, 112]\n",
    "men_salary = [92, 94, 100, 107, 112, 114, 114, 118, 119, 124, 131, 137, 141, 151, 152, 165]\n",
    "\n",
    "df = pd.DataFrame(dict(school=schools*2, salary=men_salary + women_salary,\n",
    "                       gender=[\"Men\"]*n_schools + [\"Women\"]*n_schools))\n",
    "\n",
    "# Use column names of df for the different parameters x, y, color, ...\n",
    "fig = px.scatter(df, x=\"salary\", y=\"school\", color=\"gender\",\n",
    "                 title=\"Gender Earnings Disparity\",\n",
    "                 labels={\"salary\":\"Annual Salary (in thousands)\"} # customize axis label\n",
    "                )\n",
    "\n",
    "fig.show()"
   ]
  }
 ],
 "metadata": {
  "kernelspec": {
   "display_name": "Python 3.10.7 64-bit",
   "language": "python",
   "name": "python3"
  },
  "language_info": {
   "codemirror_mode": {
    "name": "ipython",
    "version": 3
   },
   "file_extension": ".py",
   "mimetype": "text/x-python",
   "name": "python",
   "nbconvert_exporter": "python",
   "pygments_lexer": "ipython3",
   "version": "3.10.7"
  },
  "orig_nbformat": 4,
  "vscode": {
   "interpreter": {
    "hash": "7e6c691930e55181d9cdae207c83b8bc7ae3e1bb70fcd4f209dfb33564dceb9f"
   }
  }
 },
 "nbformat": 4,
 "nbformat_minor": 2
}
